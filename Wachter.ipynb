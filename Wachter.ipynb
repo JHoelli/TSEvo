{
 "cells": [
  {
   "cell_type": "code",
   "execution_count": 1,
   "source": [
    "#TODO test if working for MOP"
   ],
   "outputs": [],
   "metadata": {}
  },
  {
   "cell_type": "code",
   "execution_count": 1,
   "source": [
    "from evaluation.metrics import redundancy, yNN, d1_distance , d2_distance\n",
    "from cProfile import label\n",
    "from datetime import datetime\n",
    "import pandas as pd\n",
    "import os\n",
    "from evaluation.Plots import plot_basic_dataset\n",
    "from evaluation.metrics import yNN_timeseries\n",
    "import numpy as np\n",
    "from pathlib import Path\n",
    "import platform\n",
    "import sklearn\n",
    "import torch\n",
    "from models.CNN_TSNet import UCRDataset, train\n",
    "from models.ResNet import ResNetBaseline, fit, get_all_preds\n",
    "import matplotlib.pyplot as plt\n",
    "import seaborn as sns\n",
    "from sklearn.metrics import confusion_matrix, accuracy_score, classification_report\n",
    "import numpy as np\n",
    "from TSEvo.CounterfactualExplanation import Explanation\n",
    "from evaluation import WachterEtAl, Wachter_CF\n",
    "import pickle\n",
    "from evaluation.Plots import plot_CF, plot_CF_Original, plot_CF_Original_Closest\n",
    "from tslearn.datasets import UCR_UEA_datasets\n",
    "import warnings\n",
    "from evaluation.Instance_BasedCF_NativeGuide import NativeGuidCF\n",
    "from deap import creator, base, algorithms, tools\n",
    "from deap.benchmarks.tools import hypervolume, diversity, convergence\n",
    "from tslearn.datasets import UCR_UEA_datasets\n",
    "# TODO Pay Respect to shape ( Multivariate)\n",
    "# TODO Ates\n",
    "warnings.filterwarnings('ignore')\n",
    "warnings.simplefilter('ignore')\n",
    "creator.create(\"FitnessMin\", base.Fitness, weights=(-1.0, -1.0, -1.0, -1.0))\n",
    "creator.create(\"Individual\", list, fitness=creator.FitnessMin,window=0)\n",
    "\n",
    "run_on =['ECG5000']\n",
    "draw_plot=False\n",
    "os_type= platform.system()\n",
    "os.environ[\"CUDA_VISIBLE_DEVICES\"]=\"\"\n",
    "mutation_type=['mutate_both']\n",
    "\n",
    "for dataset in run_on: \n",
    "    if not os.path.isdir(f'./Results/Benchmarking/{dataset}'):\n",
    "        os.mkdir(f'./Results/Benchmarking/{dataset}')\n",
    "        \n",
    "        if dataset in os.listdir('./Results/'):\n",
    "            pass\n",
    "        else:\n",
    "            os.mkdir(f'./Results/{dataset}')\n",
    "    X_train,train_y,X_test,test_y=UCR_UEA_datasets().load_dataset(dataset)\n",
    "    train_x=X_train.reshape(-1,X_train.shape[-1],X_train.shape[-2])\n",
    "    test_x=X_test.reshape(-1,X_train.shape[-1],X_train.shape[-2]) \n",
    "    enc1=pickle.load(open(f'./models/{dataset}/OneHotEncoder.pkl','rb'))\n",
    "    test_y=enc1.transform(test_y.reshape(-1,1))\n",
    "    n_classes = test_y.shape[1]\n",
    "    if len(train_x.shape)==2:\n",
    "        train_x=train_x.reshape(-1,train_x.shape[-2],train_x.shape[-1])\n",
    "        test_x=test_x.reshape(-1,train_x.shape[-2],train_x.shape[-1])\n",
    "    '''Load Model'''\n",
    "    model = ResNetBaseline(in_channels=train_x.shape[-2], num_pred_classes=n_classes)\n",
    "    model.load_state_dict(torch.load(f'./models/{dataset}/ResNet'))\n",
    "    model.eval()\n",
    "    \n",
    "    y_pred= model(torch.from_numpy(test_x).float()).detach().numpy()\n",
    "    test_y=y_pred\n",
    "    '''Explanation Method'''\n",
    "    from evaluation.COMTE import AtesCF\n",
    "    from evaluation.Nun_CF import NativeGuideCF\n",
    "    from evaluation.Wachter_CF import Wachter\n",
    "    '''Initialize Methods'''\n",
    "    nguide_cf=NativeGuideCF(model,np.array(train_x).shape, (test_x,test_y))\n",
    "    ates= AtesCF(model, (test_x,test_y))\n",
    "  \n",
    "\n",
    "    '''Calculate'''\n",
    "    ynn=[]\n",
    "    ynn_timeseries=[]\n",
    "    red=[]\n",
    "    sal_01=[]\n",
    "    sal_02=[]\n",
    "    not_valid=0\n",
    "    wachter_cf=[]\n",
    "    ynn_wachter=[]\n",
    "    ynn_timeseries_wachter=[]\n",
    "    red_wachter=[]\n",
    "    sal_01_wachter=[]\n",
    "    sal_02_wachter=[]\n",
    "    not_valid_wachter=0\n",
    "    ynn_cfg=[]\n",
    "    ynn_timeseries_cfg=[]\n",
    "    red_cfg=[]\n",
    "    sal_01_cfg=[]\n",
    "    sal_02_cfg=[]\n",
    "    cfg_cf=[]\n",
    "    not_valid_cfg=0\n",
    "    ynn_ib=[]\n",
    "    ynn_timeseries_ib=[]\n",
    "    red_ib=[]\n",
    "    sal_01_ib=[]\n",
    "    sal_02_ib=[]\n",
    "    ib_cf=[]\n",
    "    not_valid_ib=0\n",
    "    max_iteration=len(test_y)\n",
    "    #TODO add time Measure\n",
    "    for i, item in enumerate(test_x):\n",
    "        print('Image Number ',{i})\n",
    "        observation_01=item\n",
    "        label_01=np.array([test_y[i]])#test_y[0]\n",
    "        if os.path.exists( f'./Results/mutate_both/{dataset}/Counterfactuals_{i}.pkl'):\n",
    "            pop=pickle.load(open( f'./Results/mutate_both/{dataset}/Counterfactuals_{i}.pkl', \"rb\" ))\n",
    "        else:\n",
    "            break\n",
    "        input_ = torch.from_numpy(np.array(item).reshape(1,1,-1)).float()\n",
    "        output = torch.nn.functional.softmax(model(input_)).detach().numpy()\n",
    "        y_target =np.argmax(output,axis=1)[0] #output.argmax()\n",
    "        print(y_target)\n",
    "        mlmodel = model \n",
    "        counterfactuals = pop\n",
    "        original = observation_01\n",
    "        #print(y_target)\n",
    "        #print(counterfactuals[0].output) \n",
    "        if y_target == np.argmax(counterfactuals[0].output):\n",
    "            not_valid=not_valid+1\n",
    "       \n",
    "    \n",
    "        # Wachter et al . \n",
    "        #print(item.shape)\n",
    "        #print(observation_01.shape)\n",
    "        item = item.reshape(1,item.shape[-2],item.shape[-1])\n",
    "        import time\n",
    "        start_time = time.time()\n",
    "        #     not_valid_wachter=not_valid_wachter+1\n",
    "        item = item.reshape(1,item.shape[-2],item.shape[-1])\n",
    "        cfg_counterfactual,label_cfg=nguide_cf.explain(item,  y_target,method='dtw_bary_center')#(mlmodel, item, y_target).reshape(np.array(pop).shape[0],np.array(pop).shape[1],np.array(pop).shape[2])\n",
    "        cfg_cf.append(cfg_counterfactual)\n",
    "        if not cfg_counterfactual is None:\n",
    "            #print(cfg_counterfactual.shape)\n",
    "            ynn_cfg.append(yNN(cfg_counterfactual, mlmodel,train_x,5,labels=np.array([label_cfg]))[0][0])\n",
    "            ynn_timeseries_cfg.append(yNN_timeseries(cfg_counterfactual, mlmodel,train_x,5,labels=np.array([label_cfg]))[0][0])\n",
    "            red_cfg.append(redundancy(original, cfg_counterfactual, mlmodel,labels=np.array([label_cfg]))[0])\n",
    "            sal_01_cfg.append(d1_distance(observation_01,np.array(cfg_counterfactual)))\n",
    "            sal_02_cfg.append(d2_distance(observation_01,np.array(cfg_counterfactual)))\n",
    "            print(label_cfg)\n",
    "            print(np.argmax(label_01,axis=1))\n",
    "            if label_cfg == np.argmax(label_01,axis=1)[0]:\n",
    "                not_valid_cfg=not_valid_cfg+1\n",
    "\n",
    "        else: \n",
    "            print('GradCam not a valid CF!')\n",
    "            not_valid_cfg=not_valid_cfg+1\n",
    "        i+=1\n",
    "        if i ==19:\n",
    "            break"
   ],
   "outputs": [
    {
     "output_type": "stream",
     "name": "stderr",
     "text": [
      "WARNING:root:no value was provided for `target_layer`, thus set to 'layers'.\n",
      "WARNING:root:no value was provided for `fc_layer`, thus set to 'final'.\n"
     ]
    },
    {
     "output_type": "stream",
     "name": "stdout",
     "text": [
      "Image Number  {0}\n",
      "0\n",
      "Target 1\n",
      "query [[4.1785654e-01 5.8206099e-01 1.3931762e-08 8.2048369e-05 3.9626650e-07]]\n",
      "1.1427172e-05\n",
      "1\n",
      "[0]\n",
      "Image Number  {1}\n",
      "0\n",
      "Target 2\n",
      "query [[2.3153771e-03 1.6225578e-02 1.0969474e-07 9.8145890e-01 1.2583838e-10]]\n",
      "2.6823452e-07\n",
      "2\n",
      "[0]\n",
      "Image Number  {2}\n",
      "0\n",
      "Target 2\n",
      "query [[2.4777619e-05 9.6368200e-01 1.6112863e-11 3.6293201e-02 2.3813282e-10]]\n",
      "4.9717596e-06\n",
      "2\n",
      "[0]\n",
      "Image Number  {3}\n",
      "0\n",
      "Target 2\n",
      "query [[8.5511738e-03 9.2991081e-04 3.8052651e-05 9.9048084e-01 7.6315365e-13]]\n",
      "1.4906935e-05\n",
      "2\n",
      "[0]\n",
      "Image Number  {4}\n",
      "0\n",
      "Target 3\n",
      "query [[8.5511738e-03 9.2991081e-04 3.8052651e-05 9.9048084e-01 7.6315365e-13]]\n",
      "0.04935598\n",
      "3\n",
      "[0]\n",
      "Image Number  {5}\n",
      "0\n",
      "Target 3\n",
      "query [[2.7546739e-06 2.9548043e-01 1.9013595e-07 7.0451665e-01 1.9895869e-14]]\n",
      "0.13081016\n",
      "3\n",
      "[0]\n",
      "Image Number  {6}\n",
      "0\n",
      "Target 4\n",
      "query [[2.9477786e-02 1.7131881e-06 9.6977544e-01 4.7169256e-04 2.7336596e-04]]\n",
      "0.007700951\n",
      "4\n",
      "[0]\n",
      "Image Number  {7}\n",
      "0\n",
      "Target 2\n",
      "query [[2.3153771e-03 1.6225578e-02 1.0969474e-07 9.8145890e-01 1.2583838e-10]]\n",
      "4.5953036e-07\n",
      "2\n",
      "[0]\n",
      "Image Number  {8}\n",
      "0\n",
      "Target 4\n",
      "query [[2.3153771e-03 1.6225578e-02 1.0969474e-07 9.8145890e-01 1.2583838e-10]]\n",
      "0.00012737195\n",
      "4\n",
      "[0]\n",
      "Image Number  {9}\n",
      "0\n",
      "Target 1\n",
      "query [[2.62531717e-06 9.31363761e-01 1.40070453e-12 6.86335638e-02\n",
      "  1.12503895e-11]]\n",
      "0.9874729\n",
      "1\n",
      "[0]\n",
      "Image Number  {10}\n",
      "0\n",
      "Target 4\n",
      "query [[2.3153771e-03 1.6225578e-02 1.0969474e-07 9.8145890e-01 1.2583838e-10]]\n",
      "8.850364e-05\n",
      "Instance-Based: No Counterfactual found\n",
      "GradCam not a valid CF!\n",
      "Image Number  {11}\n",
      "0\n",
      "Target 2\n",
      "query [[2.16221204e-03 8.86141300e-01 1.95058802e-10 1.11696534e-01\n",
      "  4.41268445e-11]]\n",
      "0.00015702906\n",
      "2\n",
      "[0]\n",
      "Image Number  {12}\n",
      "0\n",
      "Target 3\n",
      "query [[4.1785654e-01 5.8206099e-01 1.3931762e-08 8.2048369e-05 3.9626650e-07]]\n",
      "3.2066873e-06\n",
      "Instance-Based: No Counterfactual found\n",
      "GradCam not a valid CF!\n",
      "Image Number  {13}\n",
      "0\n",
      "Target 2\n",
      "query [[2.3153771e-03 1.6225578e-02 1.0969474e-07 9.8145890e-01 1.2583838e-10]]\n",
      "7.196051e-06\n",
      "2\n",
      "[0]\n",
      "Image Number  {14}\n",
      "0\n",
      "Target 2\n",
      "query [[8.7081879e-02 8.6484267e-04 7.8070643e-06 9.1204542e-01 1.6552074e-10]]\n",
      "0.00021786409\n",
      "2\n",
      "[0]\n",
      "Image Number  {15}\n",
      "0\n",
      "Target 2\n",
      "query [[2.3153771e-03 1.6225578e-02 1.0969474e-07 9.8145890e-01 1.2583838e-10]]\n",
      "2.1513508e-06\n",
      "2\n",
      "[0]\n",
      "Image Number  {16}\n",
      "0\n",
      "Target 2\n",
      "query [[1.6196437e-04 7.1479863e-01 6.5057080e-09 2.8503937e-01 1.5930649e-08]]\n",
      "6.683283e-06\n",
      "2\n",
      "[0]\n",
      "Image Number  {17}\n",
      "0\n",
      "Target 2\n",
      "query [[6.0016874e-02 9.1010123e-04 6.2984018e-06 9.3906671e-01 1.0776496e-12]]\n",
      "0.00026472472\n",
      "2\n",
      "[0]\n",
      "Image Number  {18}\n",
      "0\n",
      "Target 2\n",
      "query [[8.5511738e-03 9.2991081e-04 3.8052651e-05 9.9048084e-01 7.6315365e-13]]\n",
      "3.3252102e-06\n",
      "2\n",
      "[0]\n"
     ]
    }
   ],
   "metadata": {}
  },
  {
   "cell_type": "code",
   "execution_count": 2,
   "source": [
    "ynn_timeseries_cfg"
   ],
   "outputs": [
    {
     "output_type": "execute_result",
     "data": {
      "text/plain": [
       "[0.8,\n",
       " 1.0,\n",
       " 1.0,\n",
       " 1.0,\n",
       " 0.8,\n",
       " 0.8,\n",
       " 0.8,\n",
       " 1.0,\n",
       " 0.8,\n",
       " 0.8,\n",
       " 1.0,\n",
       " 1.0,\n",
       " 1.0,\n",
       " 0.8,\n",
       " 1.0,\n",
       " 0.8,\n",
       " 1.0]"
      ]
     },
     "metadata": {},
     "execution_count": 2
    }
   ],
   "metadata": {}
  },
  {
   "cell_type": "code",
   "execution_count": 4,
   "source": [
    "sal_02_cfg"
   ],
   "outputs": [
    {
     "output_type": "execute_result",
     "data": {
      "text/plain": [
       "[0.5701173317543633,\n",
       " 1.5404796552633933,\n",
       " 1.052611597557521,\n",
       " 377186485101.4962,\n",
       " 0.7731305507770719,\n",
       " 0.33807422440614376,\n",
       " 0.2466882231221098,\n",
       " 290705907856.20825,\n",
       " 0.5003578722619498,\n",
       " 0.27087293486599356,\n",
       " 117565994299.06354,\n",
       " 1.6652318068169385,\n",
       " 3.0983444256787585,\n",
       " 0.5211766576997672,\n",
       " 97979469498.90263,\n",
       " 2.1074569269423082,\n",
       " 1.116839285474885]"
      ]
     },
     "metadata": {},
     "execution_count": 4
    }
   ],
   "metadata": {}
  },
  {
   "cell_type": "code",
   "execution_count": 9,
   "source": [
    "np.sum(np.abs(test_x[3] -  cfg_cf[3]))"
   ],
   "outputs": [
    {
     "output_type": "execute_result",
     "data": {
      "text/plain": [
       "52806107914209.47"
      ]
     },
     "metadata": {},
     "execution_count": 9
    }
   ],
   "metadata": {}
  },
  {
   "cell_type": "code",
   "execution_count": 15,
   "source": [
    "np.max(cfg_cf[3])"
   ],
   "outputs": [
    {
     "output_type": "execute_result",
     "data": {
      "text/plain": [
       "1.8147850881624383"
      ]
     },
     "metadata": {},
     "execution_count": 15
    }
   ],
   "metadata": {}
  },
  {
   "cell_type": "code",
   "execution_count": 16,
   "source": [
    "np.min(cfg_cf[3])"
   ],
   "outputs": [
    {
     "output_type": "execute_result",
     "data": {
      "text/plain": [
       "-52806107914168.78"
      ]
     },
     "metadata": {},
     "execution_count": 16
    }
   ],
   "metadata": {}
  },
  {
   "cell_type": "code",
   "execution_count": 13,
   "source": [
    "plt.plot(test_x[3].reshape(-1,1))\n",
    "plt.plot(np.array(cfg_cf[3].reshape(-1,1)))"
   ],
   "outputs": [
    {
     "output_type": "execute_result",
     "data": {
      "text/plain": [
       "[<matplotlib.lines.Line2D at 0x7f4bb1ce98d0>]"
      ]
     },
     "metadata": {},
     "execution_count": 13
    },
    {
     "output_type": "display_data",
     "data": {
      "image/png": "[encoded data removed]",
      "text/plain": [
       "<Figure size 432x288 with 1 Axes>"
      ]
     },
     "metadata": {
      "needs_background": "light"
     }
    }
   ],
   "metadata": {}
  }
 ],
 "metadata": {
  "orig_nbformat": 4,
  "language_info": {
   "name": "python",
   "version": "3.6.9",
   "mimetype": "text/x-python",
   "codemirror_mode": {
    "name": "ipython",
    "version": 3
   },
   "pygments_lexer": "ipython3",
   "nbconvert_exporter": "python",
   "file_extension": ".py"
  },
  "kernelspec": {
   "name": "python3",
   "display_name": "Python 3.6.9 64-bit ('TSEvo-ydCVe3on': pipenv)"
  },
  "interpreter": {
   "hash": "d903605ac879a75cbccc7b5fb6638483e8f4454f7a34afbad1c3644adfbcfe9d"
  }
 },
 "nbformat": 4,
 "nbformat_minor": 2
}
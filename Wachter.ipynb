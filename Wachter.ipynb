{
 "cells": [
  {
   "cell_type": "code",
   "execution_count": 1,
   "source": [
    "#TODO test if working for MOP"
   ],
   "outputs": [],
   "metadata": {}
  },
  {
   "cell_type": "code",
   "execution_count": 5,
   "source": [
    "from evaluation.metrics import redundancy, yNN, d1_distance , d2_distance\n",
    "from cProfile import label\n",
    "from datetime import datetime\n",
    "import pandas as pd\n",
    "import os\n",
    "from evaluation.Plots import plot_basic_dataset\n",
    "from evaluation.metrics import yNN_timeseries\n",
    "import numpy as np\n",
    "from pathlib import Path\n",
    "import platform\n",
    "import sklearn\n",
    "import torch\n",
    "from models.CNN_TSNet import UCRDataset, train\n",
    "from models.ResNet import ResNetBaseline, fit, get_all_preds\n",
    "import matplotlib.pyplot as plt\n",
    "import seaborn as sns\n",
    "from sklearn.metrics import confusion_matrix, accuracy_score, classification_report\n",
    "import numpy as np\n",
    "from TSEvo.CounterfactualExplanation import Explanation\n",
    "from evaluation import WachterEtAl, Wachter_CF\n",
    "import pickle\n",
    "from evaluation.Plots import plot_CF, plot_CF_Original, plot_CF_Original_Closest\n",
    "from tslearn.datasets import UCR_UEA_datasets\n",
    "import warnings\n",
    "from evaluation.Instance_BasedCF_NativeGuide import NativeGuidCF\n",
    "from deap import creator, base, algorithms, tools\n",
    "from deap.benchmarks.tools import hypervolume, diversity, convergence\n",
    "from tslearn.datasets import UCR_UEA_datasets\n",
    "# TODO Pay Respect to shape ( Multivariate)\n",
    "# TODO Ates\n",
    "warnings.filterwarnings('ignore')\n",
    "warnings.simplefilter('ignore')\n",
    "creator.create(\"FitnessMin\", base.Fitness, weights=(-1.0, -1.0, -1.0, -1.0))\n",
    "creator.create(\"Individual\", list, fitness=creator.FitnessMin,window=0)\n",
    "\n",
    "run_on =['GunPoint'] #['Coffee','CBF','ElectricDevices','ECG5000','GunPoint','FordA']\n",
    "draw_plot=False\n",
    "os_type= platform.system()\n",
    "os.environ[\"CUDA_VISIBLE_DEVICES\"]=\"\"\n",
    "mutation_type=['mutate_both']\n",
    "\n",
    "for dataset in run_on: \n",
    "    if not os.path.isdir(f'./Results/Benchmarking/{dataset}'):\n",
    "        os.mkdir(f'./Results/Benchmarking/{dataset}')\n",
    "        \n",
    "        if dataset in os.listdir('./Results/'):\n",
    "            pass\n",
    "        else:\n",
    "            os.mkdir(f'./Results/{dataset}')\n",
    "    X_train,train_y,X_test,test_y=UCR_UEA_datasets().load_dataset(dataset)\n",
    "    train_x=X_train.reshape(-1,X_train.shape[-1],X_train.shape[-2])\n",
    "    test_x=X_test.reshape(-1,X_train.shape[-1],X_train.shape[-2]) \n",
    "    enc1=pickle.load(open(f'./models/{dataset}/OneHotEncoder.pkl','rb'))\n",
    "    test_y=enc1.transform(test_y.reshape(-1,1))\n",
    "    n_classes = test_y.shape[1]\n",
    "    if len(train_x.shape)==2:\n",
    "        train_x=train_x.reshape(-1,train_x.shape[-2],train_x.shape[-1])\n",
    "        test_x=test_x.reshape(-1,train_x.shape[-2],train_x.shape[-1])\n",
    "    '''Load Model'''\n",
    "    model = ResNetBaseline(in_channels=train_x.shape[-2], num_pred_classes=n_classes)\n",
    "    model.load_state_dict(torch.load(f'./models/{dataset}/ResNet'))\n",
    "    model.eval()\n",
    "    \n",
    "    y_pred= model(torch.from_numpy(test_x).float()).detach().numpy()\n",
    "    test_y=y_pred\n",
    "    '''Explanation Method'''\n",
    "    from evaluation.COMTE import AtesCF\n",
    "    from evaluation.Nun_CF import NativeGuideCF\n",
    "    from evaluation.Wachter_CF import Wachter\n",
    "    '''Initialize Methods'''\n",
    "    nguide_cf=NativeGuideCF(model,np.array(train_x).shape, (test_x,test_y))\n",
    "    ates= AtesCF(model, (test_x,test_y))\n",
    "  \n",
    "\n",
    "    '''Calculate'''\n",
    "    ynn=[]\n",
    "    ynn_timeseries=[]\n",
    "    red=[]\n",
    "    sal_01=[]\n",
    "    sal_02=[]\n",
    "    not_valid=0\n",
    "    wachter_cf=[]\n",
    "    ynn_wachter=[]\n",
    "    ynn_timeseries_wachter=[]\n",
    "    red_wachter=[]\n",
    "    sal_01_wachter=[]\n",
    "    sal_02_wachter=[]\n",
    "    not_valid_wachter=0\n",
    "    ynn_cfg=[]\n",
    "    ynn_timeseries_cfg=[]\n",
    "    red_cfg=[]\n",
    "    sal_01_cfg=[]\n",
    "    sal_02_cfg=[]\n",
    "    cfg_cf=[]\n",
    "    not_valid_cfg=0\n",
    "    ynn_ib=[]\n",
    "    ynn_timeseries_ib=[]\n",
    "    red_ib=[]\n",
    "    sal_01_ib=[]\n",
    "    sal_02_ib=[]\n",
    "    ib_cf=[]\n",
    "    not_valid_ib=0\n",
    "    max_iteration=len(test_y)\n",
    "    #TODO add time Measure\n",
    "    for i, item in enumerate(test_x):\n",
    "        print('Image Number ',{i})\n",
    "        observation_01=item\n",
    "        label_01=np.array([test_y[i]])#test_y[0]\n",
    "        if os.path.exists( f'./Results/mutate_both/{dataset}/Counterfactuals_{i}.pkl'):\n",
    "            pop=pickle.load(open( f'./Results/mutate_both/{dataset}/Counterfactuals_{i}.pkl', \"rb\" ))\n",
    "        else:\n",
    "            break\n",
    "        #input_ = torch.from_numpy(np.array(pop)).float()\n",
    "        #output = torch.nn.functional.softmax(model(input_)).detach().numpy()\n",
    "        y_target =np.argmax(test_y[i]) #output.argmax()\n",
    "        mlmodel = model \n",
    "        counterfactuals = pop\n",
    "        original = observation_01\n",
    "        #print(y_target)\n",
    "        #print(counterfactuals[0].output) \n",
    "        if y_target == np.argmax(counterfactuals[0].output):\n",
    "            not_valid=not_valid+1\n",
    "        ynn.append(yNN(counterfactuals, mlmodel,train_x,5)[0][0])\n",
    "        ynn_timeseries.append(yNN_timeseries(counterfactuals, mlmodel,train_x,5)[0][0])\n",
    "        red.append(redundancy(original, counterfactuals, mlmodel)[0])\n",
    "        sal_01.append(d1_distance(observation_01,np.array(pop)))\n",
    "        sal_02.append(d2_distance(observation_01,np.array(pop)))\n",
    "    \n",
    "        # Wachter et al . \n",
    "        #print(item.shape)\n",
    "        #print(observation_01.shape)\n",
    "        item = item.reshape(1,item.shape[-2],item.shape[-1])\n",
    "        import time\n",
    "        start_time = time.time()\n",
    "        #w=Wachter(model,(test_x,test_y))\n",
    "        #wachter_counterfactual, laberl_w=w.explain(item)#WachterEtAlwachter_recourse(mlmodel, item, y_target)\n",
    "        #end_time = time.time()\n",
    "        #print(f'This took {end_time-start_time}')\n",
    "        #wachter_cf.append(wachter_counterfactual)\n",
    "        #if not wachter_counterfactual is None:\n",
    "        #    wachter_couterfactual=wachter_counterfactual.reshape(np.array(pop).shape[0],np.array(pop).shape[1],np.array(pop).shape[2])\n",
    "        #    ynn_wachter.append(yNN(wachter_counterfactual, mlmodel,train_x,5,labels=np.array([y_target]))[0][0])\n",
    "        #    ynn_timeseries_wachter.append(yNN_timeseries(wachter_counterfactual, mlmodel,train_x,5,labels=np.array([y_target]))[0][0])\n",
    "        #    red_wachter.append(redundancy(original, wachter_counterfactual, mlmodel,labels=np.array([y_target]))[0])\n",
    "         #   sal_01_wachter.append(d1_distance(observation_01,np.array(wachter_counterfactual)))\n",
    "         #   sal_02_wachter.append(d2_distance(observation_01,np.array(wachter_counterfactual)))\n",
    "        #    if laberl_w == np.argmax(label_01,axis=1):\n",
    "        #        not_valid_wachter=not_valid_wachter+1\n",
    "        #else: \n",
    "        #     not_valid_wachter=not_valid_wachter+1\n",
    "        item = item.reshape(1,item.shape[-2],item.shape[-1])\n",
    "        cfg_counterfactual,label_cfg=nguide_cf.explain(item,  y_target,method='dtw_bary_center')#(mlmodel, item, y_target).reshape(np.array(pop).shape[0],np.array(pop).shape[1],np.array(pop).shape[2])\n",
    "        cfg_cf.append(cfg_counterfactual)\n",
    "        if not cfg_counterfactual is None:\n",
    "            #print(cfg_counterfactual.shape)\n",
    "            ynn_cfg.append(yNN(cfg_counterfactual, mlmodel,train_x,5,labels=np.array([label_cfg]))[0][0])\n",
    "            ynn_timeseries_cfg.append(yNN_timeseries(cfg_counterfactual, mlmodel,train_x,5,labels=np.array([label_cfg]))[0][0])\n",
    "            red_cfg.append(redundancy(original, cfg_counterfactual, mlmodel,labels=np.array([label_cfg]))[0])\n",
    "            sal_01_cfg.append(d1_distance(observation_01,np.array(cfg_counterfactual)))\n",
    "            sal_02_cfg.append(d2_distance(observation_01,np.array(cfg_counterfactual)))\n",
    "            print(label_cfg)\n",
    "            print(np.argmax(label_01,axis=1))\n",
    "            if label_cfg == np.argmax(label_01,axis=1)[0]:\n",
    "                not_valid_cfg=not_valid_cfg+1\n",
    "\n",
    "        else: \n",
    "            print('GradCam not a valid CF!')\n",
    "            not_valid_cfg=not_valid_cfg+1"
   ],
   "outputs": [
    {
     "output_type": "stream",
     "name": "stderr",
     "text": [
      "WARNING:root:no value was provided for `target_layer`, thus set to 'layers'.\n",
      "WARNING:root:no value was provided for `fc_layer`, thus set to 'final'.\n"
     ]
    },
    {
     "output_type": "stream",
     "name": "stdout",
     "text": [
      "Image Number  {0}\n",
      "1\n",
      "[0]\n",
      "Image Number  {1}\n",
      "Instance-Based: No Counterfactual found\n",
      "GradCam not a valid CF!\n",
      "Image Number  {2}\n"
     ]
    }
   ],
   "metadata": {}
  },
  {
   "cell_type": "code",
   "execution_count": null,
   "source": [],
   "outputs": [],
   "metadata": {}
  },
  {
   "cell_type": "code",
   "execution_count": 3,
   "source": [
    "#testing !\n",
    "not_valid_wachter"
   ],
   "outputs": [
    {
     "output_type": "execute_result",
     "data": {
      "text/plain": [
       "0"
      ]
     },
     "metadata": {},
     "execution_count": 3
    }
   ],
   "metadata": {}
  },
  {
   "cell_type": "code",
   "execution_count": 4,
   "source": [
    "plt.plot(item.reshape(-1,1))\n",
    "plt.plot(np.array(wachter_cf[0].reshape(-1,1)))"
   ],
   "outputs": [
    {
     "output_type": "error",
     "ename": "IndexError",
     "evalue": "list index out of range",
     "traceback": [
      "\u001b[0;31m---------------------------------------------------------------------------\u001b[0m",
      "\u001b[0;31mIndexError\u001b[0m                                Traceback (most recent call last)",
      "\u001b[0;32m<ipython-input-4-e64d3b0273b7>\u001b[0m in \u001b[0;36m<module>\u001b[0;34m\u001b[0m\n\u001b[1;32m      1\u001b[0m \u001b[0mplt\u001b[0m\u001b[0;34m.\u001b[0m\u001b[0mplot\u001b[0m\u001b[0;34m(\u001b[0m\u001b[0mitem\u001b[0m\u001b[0;34m.\u001b[0m\u001b[0mreshape\u001b[0m\u001b[0;34m(\u001b[0m\u001b[0;34m-\u001b[0m\u001b[0;36m1\u001b[0m\u001b[0;34m,\u001b[0m\u001b[0;36m1\u001b[0m\u001b[0;34m)\u001b[0m\u001b[0;34m)\u001b[0m\u001b[0;34m\u001b[0m\u001b[0;34m\u001b[0m\u001b[0m\n\u001b[0;32m----> 2\u001b[0;31m \u001b[0mplt\u001b[0m\u001b[0;34m.\u001b[0m\u001b[0mplot\u001b[0m\u001b[0;34m(\u001b[0m\u001b[0mnp\u001b[0m\u001b[0;34m.\u001b[0m\u001b[0marray\u001b[0m\u001b[0;34m(\u001b[0m\u001b[0mwachter_cf\u001b[0m\u001b[0;34m[\u001b[0m\u001b[0;36m0\u001b[0m\u001b[0;34m]\u001b[0m\u001b[0;34m.\u001b[0m\u001b[0mreshape\u001b[0m\u001b[0;34m(\u001b[0m\u001b[0;34m-\u001b[0m\u001b[0;36m1\u001b[0m\u001b[0;34m,\u001b[0m\u001b[0;36m1\u001b[0m\u001b[0;34m)\u001b[0m\u001b[0;34m)\u001b[0m\u001b[0;34m)\u001b[0m\u001b[0;34m\u001b[0m\u001b[0;34m\u001b[0m\u001b[0m\n\u001b[0m",
      "\u001b[0;31mIndexError\u001b[0m: list index out of range"
     ]
    },
    {
     "output_type": "display_data",
     "data": {
      "image/png": "[encoded data removed]",
      "text/plain": [
       "<Figure size 432x288 with 1 Axes>"
      ]
     },
     "metadata": {
      "needs_background": "light"
     }
    }
   ],
   "metadata": {}
  }
 ],
 "metadata": {
  "orig_nbformat": 4,
  "language_info": {
   "name": "python",
   "version": "3.6.9",
   "mimetype": "text/x-python",
   "codemirror_mode": {
    "name": "ipython",
    "version": 3
   },
   "pygments_lexer": "ipython3",
   "nbconvert_exporter": "python",
   "file_extension": ".py"
  },
  "kernelspec": {
   "name": "python3",
   "display_name": "Python 3.6.9 64-bit ('TSEvo-ydCVe3on': pipenv)"
  },
  "interpreter": {
   "hash": "d903605ac879a75cbccc7b5fb6638483e8f4454f7a34afbad1c3644adfbcfe9d"
  }
 },
 "nbformat": 4,
 "nbformat_minor": 2
}
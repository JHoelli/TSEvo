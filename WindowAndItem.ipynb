{
 "cells": [
  {
   "cell_type": "code",
   "execution_count": 7,
   "source": [
    "import pickle\n",
    "import os\n",
    "import numpy as np"
   ],
   "outputs": [],
   "metadata": {}
  },
  {
   "cell_type": "code",
   "execution_count": 8,
   "source": [
    "#Reihenfolge ist freq, auth, mean\n",
    "data = pickle.load(open('./Results/mutate_both/GunPoint/Mut_0.pkl','rb'))"
   ],
   "outputs": [],
   "metadata": {}
  },
  {
   "cell_type": "code",
   "execution_count": 9,
   "source": [
    "np.array(data).shape"
   ],
   "outputs": [
    {
     "output_type": "execute_result",
     "data": {
      "text/plain": [
       "(500, 3)"
      ]
     },
     "metadata": {},
     "execution_count": 9
    }
   ],
   "metadata": {}
  },
  {
   "cell_type": "code",
   "execution_count": 12,
   "source": [
    "datasetwise = {}\n",
    "full_saver=[]\n",
    "for data in os.listdir('./Results/mutate_both/'):\n",
    "    #print(data)\n",
    "    if os.path.isdir(f'./Results/mutate_both/{data}'):\n",
    "        dw_saver=[]\n",
    "        for item in os.listdir(f'./Results/mutate_both/{data}'):\n",
    "            if item.startswith('Mut'):\n",
    "                d = pickle.load(open(f'./Results/mutate_both/{data}/{item}','rb'))\n",
    "                full_saver.append(d)\n",
    "                dw_saver.append(d)\n",
    "        datasetwise[data]=dw_saver\n"
   ],
   "outputs": [
    {
     "output_type": "stream",
     "name": "stdout",
     "text": [
      "CBF\n",
      "CBFOriginal_CF_Closest_0.png\n",
      "CBFOriginal_CF_Closest_1.png\n",
      "CBFOriginal_CF_Closest_10.png\n",
      "CBFOriginal_CF_Closest_11.png\n",
      "CBFOriginal_CF_Closest_12.png\n",
      "CBFOriginal_CF_Closest_13.png\n",
      "CBFOriginal_CF_Closest_14.png\n",
      "CBFOriginal_CF_Closest_15.png\n",
      "CBFOriginal_CF_Closest_16.png\n",
      "CBFOriginal_CF_Closest_17.png\n",
      "CBFOriginal_CF_Closest_18.png\n",
      "CBFOriginal_CF_Closest_19.png\n",
      "CBFOriginal_CF_Closest_2.png\n",
      "CBFOriginal_CF_Closest_3.png\n",
      "CBFOriginal_CF_Closest_4.png\n",
      "CBFOriginal_CF_Closest_5.png\n",
      "CBFOriginal_CF_Closest_6.png\n",
      "CBFOriginal_CF_Closest_7.png\n",
      "CBFOriginal_CF_Closest_8.png\n",
      "CBFOriginal_CF_Closest_9.png\n",
      "GunPointOriginal_CF_Closest_15.png\n",
      "GunPointOriginal_CF_Closest_16.png\n",
      "GunPointOriginal_CF_Closest_17.png\n",
      "GunPointOriginal_CF_Closest_18.png\n",
      "GunPointOriginal_CF_Closest_19.png\n",
      "GunPointOriginal_CF_Closest_2.png\n",
      "GunPointOriginal_CF_Closest_3.png\n",
      "GunPointOriginal_CF_Closest_4.png\n",
      "GunPointOriginal_CF_Closest_5.png\n",
      "GunPointOriginal_CF_Closest_6.png\n",
      "GunPointOriginal_CF_Closest_7.png\n",
      "GunPointOriginal_CF_Closest_8.png\n",
      "GunPointOriginal_CF_Closest_9.png\n",
      "CoffeeOriginal_CF_Closest_4.png\n",
      "CoffeeOriginal_CF_Closest_5.png\n",
      "CoffeeOriginal_CF_Closest_6.png\n",
      "CoffeeOriginal_CF_Closest_7.png\n",
      "CoffeeOriginal_CF_Closest_8.png\n",
      "CoffeeOriginal_CF_Closest_9.png\n",
      "GunPoint\n",
      "GunPointOriginal_CF_Closest_0.png\n",
      "GunPointOriginal_CF_Closest_1.png\n",
      "GunPointOriginal_CF_Closest_10.png\n",
      "GunPointOriginal_CF_Closest_11.png\n",
      "GunPointOriginal_CF_Closest_12.png\n",
      "GunPointOriginal_CF_Closest_13.png\n",
      "CoffeeOriginal_CF_Closest_0.png\n",
      "CoffeeOriginal_CF_Closest_1.png\n",
      "CoffeeOriginal_CF_Closest_10.png\n",
      "CoffeeOriginal_CF_Closest_11.png\n",
      "CoffeeOriginal_CF_Closest_12.png\n",
      "CoffeeOriginal_CF_Closest_13.png\n",
      "CoffeeOriginal_CF_Closest_14.png\n",
      "CoffeeOriginal_CF_Closest_15.png\n",
      "CoffeeOriginal_CF_Closest_16.png\n",
      "CoffeeOriginal_CF_Closest_17.png\n",
      "CoffeeOriginal_CF_Closest_18.png\n",
      "CoffeeOriginal_CF_Closest_19.png\n",
      "CoffeeOriginal_CF_Closest_2.png\n",
      "Coffee\n",
      "CoffeeOriginal_CF_Closest_3.png\n",
      "GunPointOriginal_CF_Closest_14.png\n"
     ]
    }
   ],
   "metadata": {}
  },
  {
   "cell_type": "code",
   "execution_count": 18,
   "source": [
    "dataset = 'GunPoint'\n",
    "np.array(datasetwise[dataset]).shape"
   ],
   "outputs": [
    {
     "output_type": "execute_result",
     "data": {
      "text/plain": [
       "(20, 500, 3)"
      ]
     },
     "metadata": {},
     "execution_count": 18
    }
   ],
   "metadata": {}
  },
  {
   "cell_type": "code",
   "execution_count": 75,
   "source": [
    "dataset = 'GunPoint'\n",
    "tr=np.array(datasetwise[dataset])\n",
    "print(tr.shape)\n",
    "means_freq=np.mean(tr,axis=0)\n",
    "stds_freq = np.std(tr,axis=0)\n",
    "print(means_freq.shape)\n",
    "print(stds_freq.shape)"
   ],
   "outputs": [
    {
     "output_type": "stream",
     "name": "stdout",
     "text": [
      "(20, 500, 3)\n",
      "(500, 3)\n",
      "(500, 3)\n"
     ]
    }
   ],
   "metadata": {}
  },
  {
   "cell_type": "code",
   "execution_count": 82,
   "source": [
    "'''Plot Occurences per Dataset per Generation'''\n",
    "dataset = 'GunPoint'\n",
    "import matplotlib.pyplot as plt\n",
    "dis=['freq', 'auth', 'gaussian']\n",
    "i=0\n",
    "print(means_freq[:,i].shape)\n",
    "print(stds_freq[:,i].shape)\n",
    "#means_freq=means_freq.reshape(3,-1)\n",
    "#stds_freq=stds_freq.reshape(3,-1)\n",
    "for i in range(0,3):\n",
    "    plt.plot(range(0,500),means_freq[:,i].reshape(-1), label=f'{dis[i]}')\n",
    "    #i=i+1\n",
    "    plt.fill_between(range(500), means_freq[:,i] - stds_freq[:,i], means_freq[:,i] + stds_freq[:,i], alpha=.1)\n",
    "plt.ylabel('hypervolume')\n",
    "plt.xlabel('epochs')\n",
    "plt.legend(loc=4)\n",
    "#plt.save()"
   ],
   "outputs": [
    {
     "output_type": "stream",
     "name": "stdout",
     "text": [
      "(500,)\n",
      "(500,)\n"
     ]
    },
    {
     "output_type": "execute_result",
     "data": {
      "text/plain": [
       "<matplotlib.legend.Legend at 0x7f1ab58bf048>"
      ]
     },
     "metadata": {},
     "execution_count": 82
    },
    {
     "output_type": "display_data",
     "data": {
      "image/png": "[encoded data removed]",
      "text/plain": [
       "<Figure size 432x288 with 1 Axes>"
      ]
     },
     "metadata": {
      "needs_background": "light"
     }
    }
   ],
   "metadata": {}
  },
  {
   "cell_type": "code",
   "execution_count": null,
   "source": [
    "'''Distribution Beginning vs Distribution End'''\n",
    "'''Stacked Bar Plot every 100 Epochs ? '''\n"
   ],
   "outputs": [],
   "metadata": {}
  },
  {
   "cell_type": "code",
   "execution_count": 34,
   "source": [
    "import seaborn as sns "
   ],
   "outputs": [],
   "metadata": {}
  },
  {
   "cell_type": "code",
   "execution_count": 63,
   "source": [
    "'''Boxplot every 100 Epochs ? '''\n",
    "#TODO Somethings wrong with resgaping\n",
    "import pandas as pd\n",
    "print(np.array(datasetwise[dataset]).shape)\n",
    "tr=np.array(datasetwise[dataset])#dataset#np.array(datasetwise[dataset]).reshape(3,20,500)\n",
    "# Use every xth entry :\n",
    "#print(tr.shape) \n",
    "\n",
    "for dataset in datasetwise.keys():\n",
    "    tr=np.array(datasetwise[dataset])\n",
    "    a=[]\n",
    "    ep=[]\n",
    "    typ=[]\n",
    "    for i in range(0, 500):\n",
    "        if i % 100 ==0: \n",
    "            print(np.array(tr[:,i,0]).shape)\n",
    "            ep.extend(np.repeat(i, len(np.array(tr[:,i,0]).reshape(-1))))\n",
    "            typ.extend(np.repeat('freq', len(np.array(tr[:,i,0]).reshape(-1))))\n",
    "            a.extend(np.array(tr[:,i,0]).reshape(-1))\n",
    "            ep.extend(np.repeat(i, len(np.array(tr[:,i,0]).reshape(-1))))\n",
    "            typ.extend(np.repeat('auth', len(np.array(tr[:,i,0]).reshape(-1))))\n",
    "            a.extend(np.array(tr[:,i,1]).reshape(-1))\n",
    "            ep.extend(np.repeat(i, len(np.array(tr[:,i,0]).reshape(-1))))\n",
    "            typ.extend(np.repeat('gaussian', len(np.array(tr[:,i,0]).reshape(-1))))\n",
    "            a.extend(np.array(tr[:,i,2]).reshape(-1))\n",
    "\n",
    "    print('EP ',np.array(ep).shape)\n",
    "    print('TYP',np.array(typ).shape)\n",
    "    print('a',np.array(a).shape)\n",
    "    n=pd.DataFrame([])\n",
    "    n['data']=a\n",
    "    n['mutation']=typ\n",
    "    n['epochs']=ep\n",
    "    #n['freq']=test[0]\n",
    "    #n['auth']=test[1]\n",
    "    #n['gaussian']=test[2]\n",
    "    sns.boxplot(x=\"epochs\", y=\"data\", hue=\"mutation\", data=n, palette=\"Pastel1\")\n",
    "    plt.title(f'{dataset}')\n",
    "    plt.show()\n",
    "    plt.close()"
   ],
   "outputs": [
    {
     "output_type": "stream",
     "name": "stdout",
     "text": [
      "(20, 500, 3)\n",
      "(20,)\n",
      "(20,)\n",
      "(20,)\n",
      "(20,)\n",
      "(20,)\n",
      "EP  (300,)\n",
      "TYP (300,)\n",
      "a (300,)\n"
     ]
    },
    {
     "output_type": "display_data",
     "data": {
      "image/png": "[encoded data removed]",
      "text/plain": [
       "<Figure size 432x288 with 1 Axes>"
      ]
     },
     "metadata": {
      "needs_background": "light"
     }
    },
    {
     "output_type": "stream",
     "name": "stdout",
     "text": [
      "(20,)\n",
      "(20,)\n",
      "(20,)\n",
      "(20,)\n",
      "(20,)\n",
      "EP  (300,)\n",
      "TYP (300,)\n",
      "a (300,)\n"
     ]
    },
    {
     "output_type": "display_data",
     "data": {
      "image/png": "[encoded data removed]",
      "text/plain": [
       "<Figure size 432x288 with 1 Axes>"
      ]
     },
     "metadata": {
      "needs_background": "light"
     }
    },
    {
     "output_type": "stream",
     "name": "stdout",
     "text": [
      "(20,)\n",
      "(20,)\n",
      "(20,)\n",
      "(20,)\n",
      "(20,)\n",
      "EP  (300,)\n",
      "TYP (300,)\n",
      "a (300,)\n"
     ]
    },
    {
     "output_type": "display_data",
     "data": {
      "image/png": "[encoded data removed]",
      "text/plain": [
       "<Figure size 432x288 with 1 Axes>"
      ]
     },
     "metadata": {
      "needs_background": "light"
     }
    }
   ],
   "metadata": {}
  }
 ],
 "metadata": {
  "orig_nbformat": 4,
  "language_info": {
   "name": "python",
   "version": "3.6.9",
   "mimetype": "text/x-python",
   "codemirror_mode": {
    "name": "ipython",
    "version": 3
   },
   "pygments_lexer": "ipython3",
   "nbconvert_exporter": "python",
   "file_extension": ".py"
  },
  "kernelspec": {
   "name": "python3",
   "display_name": "Python 3.6.9 64-bit ('TSEvo-ydCVe3on': pipenv)"
  },
  "interpreter": {
   "hash": "d903605ac879a75cbccc7b5fb6638483e8f4454f7a34afbad1c3644adfbcfe9d"
  }
 },
 "nbformat": 4,
 "nbformat_minor": 2
}
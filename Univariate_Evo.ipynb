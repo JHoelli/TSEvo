{
 "cells": [
  {
   "cell_type": "code",
   "execution_count": 1,
   "source": [
    "import pandas as pd\n",
    "import numpy as np\n",
    "import torch\n",
    "import gc\n",
    "import torch.nn as nn\n",
    "from tqdm import tqdm_notebook as tqdm\n",
    "from torch.utils.data import Dataset, DataLoader\n",
    "import seaborn as sns\n",
    "import matplotlib.pyplot as plt\n",
    "from sklearn.metrics import confusion_matrix, accuracy_score\n",
    "import random\n",
    "from sklearn import tree\n",
    "from sklearn.model_selection import cross_val_score\n",
    "from pymop import Problem\n",
    "import optuna\n",
    "import os"
   ],
   "outputs": [],
   "metadata": {}
  },
  {
   "cell_type": "markdown",
   "source": [
    "## Data"
   ],
   "metadata": {}
  },
  {
   "cell_type": "code",
   "execution_count": 2,
   "source": [
    "#TODO Betriebsystem unterscheidung\n",
    "from pathlib import Path\n",
    "import platform\n",
    "from data.DataLoader import load_UCR_dataset\n",
    "dataset='GunPoint'\n",
    "train_x,train_y,test_x,test_y=load_UCR_dataset(dataset)"
   ],
   "outputs": [],
   "metadata": {}
  },
  {
   "cell_type": "code",
   "execution_count": 3,
   "source": [
    "\n",
    "from models.UCRDataset import UCRDataset\n",
    "from models.CNN_TSNet import CNN_TSNet\n",
    "from models.CNN_TSNet import get_all_preds\n",
    "from models.UCRDataset import UCRDataset\n",
    "stride = 1\n",
    "kernel_size=10\n",
    "padding = kernel_size - 1\n",
    "input_size= train_x.shape[-1]\n",
    "device = torch.device( \"cpu\")#\"cuda:0\" if torch.cuda.is_available() else\n",
    "model = CNN_TSNet(kernel_size=kernel_size, stride=stride, padding=padding, input_size= input_size).to(device)\n",
    "model.load_state_dict(torch.load('gunpoint_best_state'))\n",
    "\n",
    "test_dataset = UCRDataset(test_x,test_y)\n",
    "test_loader = torch.utils.data.DataLoader(test_dataset,batch_size=1,shuffle=True)\n"
   ],
   "outputs": [],
   "metadata": {}
  },
  {
   "cell_type": "code",
   "execution_count": 4,
   "source": [
    "observation_01, label_01 = test_dataset[0]"
   ],
   "outputs": [],
   "metadata": {}
  },
  {
   "cell_type": "markdown",
   "source": [
    "## MOC\n"
   ],
   "metadata": {}
  },
  {
   "cell_type": "code",
   "execution_count": 5,
   "source": [
    "from CounterfactualExplanation import Explanation\n",
    "exp =Explanation(model= model,data=(test_x,test_y), backend='torch')"
   ],
   "outputs": [],
   "metadata": {}
  },
  {
   "cell_type": "code",
   "execution_count": 6,
   "source": [
    "#pop,logbook=exp.explain_instance(observation_01,np.array([[1,0]]))\n",
    "pop,logbook=exp.explain_instance(observation_01,np.array([[1,0]]))"
   ],
   "outputs": [
    {
     "output_type": "stream",
     "name": "stdout",
     "text": [
      "Reference Set not Target\n",
      "y (150,)\n",
      "y [0 1 1 0 0 1 0 1 1 0 0 0 1 0 0 0 0 1 1 1 0 1 0 0 0 1 0 0 1 0 0 1 1 0 0 0 0\n",
      " 0 0 1 0 1 0 0 1 0 1 1 0 1 1 1 0 1 0 0 1 1 0 1 0 1 0 0 1 0 0 1 1 1 1 1 1 1\n",
      " 1 1 1 1 1 0 0 0 1 1 1 1 0 1 0 0 0 1 0 1 0 0 1 1 0 0 1 0 0 1 1 0 0 1 0 1 1\n",
      " 1 0 1 0 0 1 0 0 1 0 1 1 1 0 1 0 0 1 1 1 1 0 0 0 1 0 1 0 0 1 0 0 1 0 1 0 1\n",
      " 1 0]\n",
      "original (1, 2)\n",
      "0\n",
      "ReferenceSet class [1 1 1 1 1 1 1 1 1 1 1 1 1 1 1 1 1 1 1 1 1 1 1 1 1 1 1 1 1 1 1 1 1 1 1 1 1\n",
      " 1 1 1 1 1 1 1 1 1 1 1 1 1 1 1 1 1 1 1 1 1 1 1 1 1 1 1 1 1 1 1 1 1 1 1 1 1]\n",
      "Reference Set from Explanation (74, 1, 150)\n",
      "(1, 1, 150)\n",
      "Binary Case\n",
      "Predict Torch\n"
     ]
    },
    {
     "output_type": "stream",
     "name": "stderr",
     "text": [
      "/media/jacqueline/Data/TSEvo/TSEvo/Problem.py:97: UserWarning: Implicit dimension choice for softmax has been deprecated. Change the call to include dim=X as an argument.\n",
      "  output = torch.nn.functional.softmax(self.model(input_)).detach().numpy()\n",
      "/media/jacqueline/Data/TSEvo/TSEvo/Problem.py:97: UserWarning: Implicit dimension choice for softmax has been deprecated. Change the call to include dim=X as an argument.\n",
      "  output = torch.nn.functional.softmax(self.model(input_)).detach().numpy()\n",
      "/media/jacqueline/Data/TSEvo/TSEvo/Problem.py:97: UserWarning: Implicit dimension choice for softmax has been deprecated. Change the call to include dim=X as an argument.\n",
      "  output = torch.nn.functional.softmax(self.model(input_)).detach().numpy()\n",
      "/media/jacqueline/Data/TSEvo/TSEvo/Problem.py:97: UserWarning: Implicit dimension choice for softmax has been deprecated. Change the call to include dim=X as an argument.\n",
      "  output = torch.nn.functional.softmax(self.model(input_)).detach().numpy()\n",
      "/media/jacqueline/Data/TSEvo/TSEvo/Problem.py:97: UserWarning: Implicit dimension choice for softmax has been deprecated. Change the call to include dim=X as an argument.\n",
      "  output = torch.nn.functional.softmax(self.model(input_)).detach().numpy()\n"
     ]
    },
    {
     "output_type": "stream",
     "name": "stdout",
     "text": [
      "   \t   \t     \t              stats_y_distance             \t              stats_x_distance             \t           stats_changed_features          \n",
      "   \t   \t     \t-------------------------------------------\t-------------------------------------------\t-------------------------------------------\n",
      "gen\tpop\tevals\tstd     \tmin\tavg     \tmax\tstd    \tmin     \tavg     \tmax\tstd     \tmin     \tavg   \tmax\n",
      "0  \t   \t100  \t0       \t1  \t1       \t1  \t0      \t1       \t1       \t1  \t0       \t1       \t1     \t1  \n",
      "0  \t   \t100  \t0.172511\t0  \t0.965443\t1  \t0.16091\t0.137241\t0.967183\t1  \t0.131201\t0.246667\t0.9734\t1  \n",
      "1  \t   \t100  \t0.333299\t0  \t0.856733\t1  \t0.279378\t0.0961499\t0.879387\t1  \t0.214836\t0.0666667\t0.9132\t1  \n",
      "2  \t   \t100  \t0.466429\t0  \t0.592856\t1  \t0.377636\t0.0754474\t0.671747\t1  \t0.295771\t0.0666667\t0.768333\t1  \n",
      "3  \t   \t100  \t0.109267\t0  \t0.0583325\t0.406176\t0.10353 \t0.0754474\t0.249315\t0.531681\t0.215444\t0.0666667\t0.474267\t1  \n"
     ]
    },
    {
     "output_type": "stream",
     "name": "stderr",
     "text": [
      "/media/jacqueline/Data/TSEvo/TSEvo/Problem.py:97: UserWarning: Implicit dimension choice for softmax has been deprecated. Change the call to include dim=X as an argument.\n",
      "  output = torch.nn.functional.softmax(self.model(input_)).detach().numpy()\n",
      "/media/jacqueline/Data/TSEvo/TSEvo/Problem.py:97: UserWarning: Implicit dimension choice for softmax has been deprecated. Change the call to include dim=X as an argument.\n",
      "  output = torch.nn.functional.softmax(self.model(input_)).detach().numpy()\n",
      "/media/jacqueline/Data/TSEvo/TSEvo/Problem.py:97: UserWarning: Implicit dimension choice for softmax has been deprecated. Change the call to include dim=X as an argument.\n",
      "  output = torch.nn.functional.softmax(self.model(input_)).detach().numpy()\n"
     ]
    },
    {
     "output_type": "stream",
     "name": "stdout",
     "text": [
      "4  \t   \t100  \t0.0906909\t0  \t0.0316806\t0.406176\t0.0455894\t0.0754474\t0.170213\t0.26904 \t0.121271\t0.0666667\t0.319067\t0.64\n",
      "5  \t   \t100  \t0.0575768\t0  \t0.0147932\t0.284592\t0.0301382\t0.0754474\t0.140923\t0.23939 \t0.100513\t0.0666667\t0.261067\t0.42\n",
      "6  \t   \t100  \t0.07369  \t0  \t0.0223223\t0.292651\t0.0273783\t0.0754474\t0.128655\t0.167746\t0.0974993\t0.0666667\t0.219667\t0.373333\n"
     ]
    },
    {
     "output_type": "stream",
     "name": "stderr",
     "text": [
      "/media/jacqueline/Data/TSEvo/TSEvo/Problem.py:97: UserWarning: Implicit dimension choice for softmax has been deprecated. Change the call to include dim=X as an argument.\n",
      "  output = torch.nn.functional.softmax(self.model(input_)).detach().numpy()\n",
      "/media/jacqueline/Data/TSEvo/TSEvo/Problem.py:97: UserWarning: Implicit dimension choice for softmax has been deprecated. Change the call to include dim=X as an argument.\n",
      "  output = torch.nn.functional.softmax(self.model(input_)).detach().numpy()\n",
      "/media/jacqueline/Data/TSEvo/TSEvo/Problem.py:97: UserWarning: Implicit dimension choice for softmax has been deprecated. Change the call to include dim=X as an argument.\n",
      "  output = torch.nn.functional.softmax(self.model(input_)).detach().numpy()\n"
     ]
    },
    {
     "output_type": "stream",
     "name": "stdout",
     "text": [
      "7  \t   \t100  \t0.0861442\t0  \t0.0309189\t0.292651\t0.0241958\t0.0754474\t0.117553\t0.166565\t0.0837317\t0.0666667\t0.177   \t0.36    \n",
      "8  \t   \t100  \t0.0967176\t0  \t0.0401923\t0.3052  \t0.0250902\t0.0754474\t0.110995\t0.166565\t0.0804557\t0.0666667\t0.147133\t0.36    \n",
      "9  \t   \t100  \t0.0821956\t0  \t0.0272093\t0.304243\t0.0245856\t0.0731103\t0.110204\t0.166565\t0.0713964\t0.0533333\t0.1284  \t0.36    \n"
     ]
    },
    {
     "output_type": "stream",
     "name": "stderr",
     "text": [
      "/media/jacqueline/Data/TSEvo/TSEvo/Problem.py:97: UserWarning: Implicit dimension choice for softmax has been deprecated. Change the call to include dim=X as an argument.\n",
      "  output = torch.nn.functional.softmax(self.model(input_)).detach().numpy()\n",
      "/media/jacqueline/Data/TSEvo/TSEvo/Problem.py:97: UserWarning: Implicit dimension choice for softmax has been deprecated. Change the call to include dim=X as an argument.\n",
      "  output = torch.nn.functional.softmax(self.model(input_)).detach().numpy()\n",
      "/media/jacqueline/Data/TSEvo/TSEvo/Problem.py:97: UserWarning: Implicit dimension choice for softmax has been deprecated. Change the call to include dim=X as an argument.\n",
      "  output = torch.nn.functional.softmax(self.model(input_)).detach().numpy()\n"
     ]
    },
    {
     "output_type": "stream",
     "name": "stdout",
     "text": [
      "10 \t   \t100  \t0.042587 \t0  \t0.00614245\t0.304243\t0.025076 \t0.0731103\t0.112992\t0.166565\t0.059988 \t0.0533333\t0.107867\t0.36    \n",
      "11 \t   \t100  \t0.042589 \t0  \t0.00612301\t0.304243\t0.0171927\t0.0731103\t0.1027  \t0.159883\t0.0536012\t0.0533333\t0.0910667\t0.3     \n",
      "12 \t   \t100  \t0.0425882\t0  \t0.00612836\t0.304243\t0.0161521\t0.0731103\t0.100332\t0.159883\t0.0422313\t0.0533333\t0.0830667\t0.3     \n"
     ]
    },
    {
     "output_type": "stream",
     "name": "stderr",
     "text": [
      "/media/jacqueline/Data/TSEvo/TSEvo/Problem.py:97: UserWarning: Implicit dimension choice for softmax has been deprecated. Change the call to include dim=X as an argument.\n",
      "  output = torch.nn.functional.softmax(self.model(input_)).detach().numpy()\n",
      "/media/jacqueline/Data/TSEvo/TSEvo/Problem.py:97: UserWarning: Implicit dimension choice for softmax has been deprecated. Change the call to include dim=X as an argument.\n",
      "  output = torch.nn.functional.softmax(self.model(input_)).detach().numpy()\n",
      "/media/jacqueline/Data/TSEvo/TSEvo/Problem.py:97: UserWarning: Implicit dimension choice for softmax has been deprecated. Change the call to include dim=X as an argument.\n",
      "  output = torch.nn.functional.softmax(self.model(input_)).detach().numpy()\n"
     ]
    },
    {
     "output_type": "stream",
     "name": "stdout",
     "text": [
      "13 \t   \t100  \t0.0425871\t0  \t0.00613638\t0.304243\t0.0169567\t0.0731103\t0.100783\t0.159883\t0.0451199\t0.0533333\t0.0858667\t0.3     \n",
      "14 \t   \t100  \t0.0583722\t0  \t0.0102196 \t0.407484\t0.0187322\t0.0644569\t0.101375\t0.159883\t0.0507413\t0.0533333\t0.0909333\t0.3     \n",
      "15 \t   \t100  \t0.0668027\t0  \t0.0135978 \t0.407484\t0.0138081\t0.0644569\t0.096951\t0.159883\t0.0209338\t0.0533333\t0.0773333\t0.153333\n"
     ]
    },
    {
     "output_type": "stream",
     "name": "stderr",
     "text": [
      "/media/jacqueline/Data/TSEvo/TSEvo/Problem.py:97: UserWarning: Implicit dimension choice for softmax has been deprecated. Change the call to include dim=X as an argument.\n",
      "  output = torch.nn.functional.softmax(self.model(input_)).detach().numpy()\n",
      "/media/jacqueline/Data/TSEvo/TSEvo/Problem.py:97: UserWarning: Implicit dimension choice for softmax has been deprecated. Change the call to include dim=X as an argument.\n",
      "  output = torch.nn.functional.softmax(self.model(input_)).detach().numpy()\n",
      "/media/jacqueline/Data/TSEvo/TSEvo/Problem.py:97: UserWarning: Implicit dimension choice for softmax has been deprecated. Change the call to include dim=X as an argument.\n",
      "  output = torch.nn.functional.softmax(self.model(input_)).detach().numpy()\n"
     ]
    },
    {
     "output_type": "stream",
     "name": "stdout",
     "text": [
      "16 \t   \t100  \t0.0730234\t0  \t0.0168073 \t0.38627 \t0.0152507\t0.0612468\t0.0954721\t0.159883\t0.0200749\t0.0533333\t0.077    \t0.14    \n",
      "17 \t   \t100  \t0.0730349\t0  \t0.0167558 \t0.38627 \t0.0141751\t0.0612468\t0.0964831\t0.159883\t0.0190217\t0.0533333\t0.0755333\t0.14    \n",
      "18 \t   \t100  \t0.00926054\t0  \t0.00100033\t0.0931141\t0.0146768\t0.0546444\t0.098376 \t0.159883\t0.0184029\t0.0533333\t0.0746667\t0.14    \n"
     ]
    },
    {
     "output_type": "stream",
     "name": "stderr",
     "text": [
      "/media/jacqueline/Data/TSEvo/TSEvo/Problem.py:97: UserWarning: Implicit dimension choice for softmax has been deprecated. Change the call to include dim=X as an argument.\n",
      "  output = torch.nn.functional.softmax(self.model(input_)).detach().numpy()\n",
      "/media/jacqueline/Data/TSEvo/TSEvo/Problem.py:97: UserWarning: Implicit dimension choice for softmax has been deprecated. Change the call to include dim=X as an argument.\n",
      "  output = torch.nn.functional.softmax(self.model(input_)).detach().numpy()\n",
      "/media/jacqueline/Data/TSEvo/TSEvo/Problem.py:97: UserWarning: Implicit dimension choice for softmax has been deprecated. Change the call to include dim=X as an argument.\n",
      "  output = torch.nn.functional.softmax(self.model(input_)).detach().numpy()\n"
     ]
    },
    {
     "output_type": "stream",
     "name": "stdout",
     "text": [
      "19 \t   \t100  \t0.00926054\t0  \t0.00100034\t0.0931141\t0.0136792\t0.0546444\t0.097744 \t0.159883\t0.0184765\t0.0533333\t0.0744667\t0.14    \n",
      "20 \t   \t100  \t0.0130282 \t0  \t0.00193028\t0.0931141\t0.0146547\t0.0546444\t0.0971286\t0.159883\t0.0177133\t0.0533333\t0.0734667\t0.14    \n",
      "21 \t   \t100  \t0.01303   \t0  \t0.00191562\t0.0931141\t0.0143521\t0.0546444\t0.0975187\t0.159883\t0.0176363\t0.0533333\t0.0730667\t0.14    \n"
     ]
    },
    {
     "output_type": "stream",
     "name": "stderr",
     "text": [
      "/media/jacqueline/Data/TSEvo/TSEvo/Problem.py:97: UserWarning: Implicit dimension choice for softmax has been deprecated. Change the call to include dim=X as an argument.\n",
      "  output = torch.nn.functional.softmax(self.model(input_)).detach().numpy()\n",
      "/media/jacqueline/Data/TSEvo/TSEvo/Problem.py:97: UserWarning: Implicit dimension choice for softmax has been deprecated. Change the call to include dim=X as an argument.\n",
      "  output = torch.nn.functional.softmax(self.model(input_)).detach().numpy()\n",
      "/media/jacqueline/Data/TSEvo/TSEvo/Problem.py:97: UserWarning: Implicit dimension choice for softmax has been deprecated. Change the call to include dim=X as an argument.\n",
      "  output = torch.nn.functional.softmax(self.model(input_)).detach().numpy()\n"
     ]
    },
    {
     "output_type": "stream",
     "name": "stdout",
     "text": [
      "22 \t   \t100  \t0.01303   \t0  \t0.00191566\t0.0931141\t0.0140688\t0.0546444\t0.0968462\t0.159883\t0.016722 \t0.0533333\t0.0718667\t0.14    \n",
      "23 \t   \t100  \t0.01303   \t0  \t0.00191571\t0.0931141\t0.00860644\t0.0546444\t0.094787 \t0.122158\t0.00992326\t0.0533333\t0.0692   \t0.106667\n",
      "24 \t   \t100  \t0.01303   \t0  \t0.00191571\t0.0931141\t0.00860644\t0.0546444\t0.094787 \t0.122158\t0.00992326\t0.0533333\t0.0692   \t0.106667\n"
     ]
    },
    {
     "output_type": "stream",
     "name": "stderr",
     "text": [
      "/media/jacqueline/Data/TSEvo/TSEvo/Problem.py:97: UserWarning: Implicit dimension choice for softmax has been deprecated. Change the call to include dim=X as an argument.\n",
      "  output = torch.nn.functional.softmax(self.model(input_)).detach().numpy()\n",
      "/media/jacqueline/Data/TSEvo/TSEvo/Problem.py:97: UserWarning: Implicit dimension choice for softmax has been deprecated. Change the call to include dim=X as an argument.\n",
      "  output = torch.nn.functional.softmax(self.model(input_)).detach().numpy()\n",
      "/media/jacqueline/Data/TSEvo/TSEvo/Problem.py:97: UserWarning: Implicit dimension choice for softmax has been deprecated. Change the call to include dim=X as an argument.\n",
      "  output = torch.nn.functional.softmax(self.model(input_)).detach().numpy()\n"
     ]
    },
    {
     "output_type": "stream",
     "name": "stdout",
     "text": [
      "25 \t   \t100  \t0.013029  \t0  \t0.00192374\t0.0931141\t0.00884847\t0.0546444\t0.0947172\t0.122158\t0.0109729 \t0.0533333\t0.0702   \t0.106667\n",
      "26 \t   \t100  \t0.0130277 \t0  \t0.00193645\t0.0931141\t0.00917528\t0.0546444\t0.0944614\t0.122158\t0.0107188 \t0.0533333\t0.0695333\t0.106667\n",
      "27 \t   \t100  \t0.01303   \t0  \t0.0019157 \t0.0931141\t0.00861881\t0.0546444\t0.0948318\t0.122158\t0.0100302 \t0.0533333\t0.0694667\t0.106667\n"
     ]
    },
    {
     "output_type": "stream",
     "name": "stderr",
     "text": [
      "/media/jacqueline/Data/TSEvo/TSEvo/Problem.py:97: UserWarning: Implicit dimension choice for softmax has been deprecated. Change the call to include dim=X as an argument.\n",
      "  output = torch.nn.functional.softmax(self.model(input_)).detach().numpy()\n",
      "/media/jacqueline/Data/TSEvo/TSEvo/Problem.py:97: UserWarning: Implicit dimension choice for softmax has been deprecated. Change the call to include dim=X as an argument.\n",
      "  output = torch.nn.functional.softmax(self.model(input_)).detach().numpy()\n",
      "/media/jacqueline/Data/TSEvo/TSEvo/Problem.py:97: UserWarning: Implicit dimension choice for softmax has been deprecated. Change the call to include dim=X as an argument.\n",
      "  output = torch.nn.functional.softmax(self.model(input_)).detach().numpy()\n"
     ]
    },
    {
     "output_type": "stream",
     "name": "stdout",
     "text": [
      "28 \t   \t100  \t0.0130289 \t0  \t0.00192537\t0.0931141\t0.00928341\t0.0546444\t0.0949553\t0.122158\t0.0108916 \t0.0533333\t0.0702   \t0.106667\n",
      "29 \t   \t100  \t0.0130288 \t0  \t0.00192596\t0.0931141\t0.00947052\t0.0546444\t0.0949399\t0.122158\t0.0115121 \t0.0533333\t0.0706   \t0.106667\n",
      "30 \t   \t100  \t0.015871  \t0  \t0.00287912\t0.0931141\t0.0105499 \t0.0546444\t0.0936841\t0.122158\t0.011199  \t0.0533333\t0.0706   \t0.1     \n"
     ]
    },
    {
     "output_type": "stream",
     "name": "stderr",
     "text": [
      "/media/jacqueline/Data/TSEvo/TSEvo/Problem.py:97: UserWarning: Implicit dimension choice for softmax has been deprecated. Change the call to include dim=X as an argument.\n",
      "  output = torch.nn.functional.softmax(self.model(input_)).detach().numpy()\n",
      "/media/jacqueline/Data/TSEvo/TSEvo/Problem.py:97: UserWarning: Implicit dimension choice for softmax has been deprecated. Change the call to include dim=X as an argument.\n",
      "  output = torch.nn.functional.softmax(self.model(input_)).detach().numpy()\n",
      "/media/jacqueline/Data/TSEvo/TSEvo/Problem.py:97: UserWarning: Implicit dimension choice for softmax has been deprecated. Change the call to include dim=X as an argument.\n",
      "  output = torch.nn.functional.softmax(self.model(input_)).detach().numpy()\n"
     ]
    },
    {
     "output_type": "stream",
     "name": "stdout",
     "text": [
      "31 \t   \t100  \t0.0130277 \t0  \t0.00193645\t0.0931141\t0.00952909\t0.0546444\t0.0943342\t0.122158\t0.0103062 \t0.0533333\t0.0699333\t0.1     \n",
      "32 \t   \t100  \t0.0130254 \t0  \t0.00195673\t0.0931141\t0.0100624 \t0.0546444\t0.0939852\t0.122158\t0.0153436 \t0.0533333\t0.0718   \t0.18    \n",
      "33 \t   \t100  \t0.0130221 \t0  \t0.00198581\t0.0931141\t0.0109158 \t0.0546444\t0.0935638\t0.122158\t0.0204139 \t0.0533333\t0.0737333\t0.206667\n"
     ]
    },
    {
     "output_type": "stream",
     "name": "stderr",
     "text": [
      "/media/jacqueline/Data/TSEvo/TSEvo/Problem.py:97: UserWarning: Implicit dimension choice for softmax has been deprecated. Change the call to include dim=X as an argument.\n",
      "  output = torch.nn.functional.softmax(self.model(input_)).detach().numpy()\n",
      "/media/jacqueline/Data/TSEvo/TSEvo/Problem.py:97: UserWarning: Implicit dimension choice for softmax has been deprecated. Change the call to include dim=X as an argument.\n",
      "  output = torch.nn.functional.softmax(self.model(input_)).detach().numpy()\n",
      "/media/jacqueline/Data/TSEvo/TSEvo/Problem.py:97: UserWarning: Implicit dimension choice for softmax has been deprecated. Change the call to include dim=X as an argument.\n",
      "  output = torch.nn.functional.softmax(self.model(input_)).detach().numpy()\n"
     ]
    },
    {
     "output_type": "stream",
     "name": "stdout",
     "text": [
      "34 \t   \t100  \t0.0130187 \t0  \t0.00201469\t0.0931141\t0.0117344 \t0.0546444\t0.0932233\t0.122158\t0.026556  \t0.0533333\t0.0776667\t0.206667\n",
      "35 \t   \t100  \t0.013021  \t0  \t0.00199484\t0.0931141\t0.0118809 \t0.0546444\t0.0940732\t0.122158\t0.022745  \t0.0533333\t0.076    \t0.206667\n",
      "36 \t   \t100  \t0.0130166 \t0  \t0.00203156\t0.0931141\t0.0119755 \t0.0546444\t0.0928566\t0.122158\t0.0230604 \t0.0533333\t0.0762   \t0.206667\n"
     ]
    },
    {
     "output_type": "stream",
     "name": "stderr",
     "text": [
      "/media/jacqueline/Data/TSEvo/TSEvo/Problem.py:97: UserWarning: Implicit dimension choice for softmax has been deprecated. Change the call to include dim=X as an argument.\n",
      "  output = torch.nn.functional.softmax(self.model(input_)).detach().numpy()\n",
      "/media/jacqueline/Data/TSEvo/TSEvo/Problem.py:97: UserWarning: Implicit dimension choice for softmax has been deprecated. Change the call to include dim=X as an argument.\n",
      "  output = torch.nn.functional.softmax(self.model(input_)).detach().numpy()\n"
     ]
    },
    {
     "output_type": "stream",
     "name": "stdout",
     "text": [
      "37 \t   \t100  \t0.0130183 \t0  \t0.00201599\t0.0931141\t0.0121627 \t0.0546444\t0.0935165\t0.122158\t0.0238678 \t0.0533333\t0.0778667\t0.206667\n",
      "38 \t   \t100  \t0.0202557 \t0  \t0.00483454\t0.0931141\t0.0155558 \t0.0546444\t0.092969 \t0.122158\t0.0353122 \t0.0533333\t0.0862667\t0.206667\n",
      "39 \t   \t100  \t0.0251977 \t0  \t0.00767413\t0.0931141\t0.016214  \t0.0546444\t0.0897641\t0.122158\t0.0262923 \t0.0533333\t0.0820667\t0.206667\n"
     ]
    },
    {
     "output_type": "stream",
     "name": "stderr",
     "text": [
      "/media/jacqueline/Data/TSEvo/TSEvo/Problem.py:97: UserWarning: Implicit dimension choice for softmax has been deprecated. Change the call to include dim=X as an argument.\n",
      "  output = torch.nn.functional.softmax(self.model(input_)).detach().numpy()\n",
      "/media/jacqueline/Data/TSEvo/TSEvo/Problem.py:97: UserWarning: Implicit dimension choice for softmax has been deprecated. Change the call to include dim=X as an argument.\n",
      "  output = torch.nn.functional.softmax(self.model(input_)).detach().numpy()\n",
      "/media/jacqueline/Data/TSEvo/TSEvo/Problem.py:97: UserWarning: Implicit dimension choice for softmax has been deprecated. Change the call to include dim=X as an argument.\n",
      "  output = torch.nn.functional.softmax(self.model(input_)).detach().numpy()\n"
     ]
    },
    {
     "output_type": "stream",
     "name": "stdout",
     "text": [
      "40 \t   \t100  \t0.0290544 \t0  \t0.0104777 \t0.0931141\t0.0163764 \t0.0546444\t0.0873827\t0.122158\t0.0268721 \t0.0533333\t0.0803333\t0.206667\n",
      "41 \t   \t100  \t0.0265852 \t0  \t0.00876585\t0.0931141\t0.0165256 \t0.0546444\t0.0889002\t0.122158\t0.0325876 \t0.0533333\t0.0854   \t0.206667\n",
      "42 \t   \t100  \t0.0157549 \t0  \t0.00337066\t0.0931141\t0.0144621 \t0.0546444\t0.0895869\t0.122158\t0.028594  \t0.0533333\t0.0862667\t0.206667\n"
     ]
    },
    {
     "output_type": "stream",
     "name": "stderr",
     "text": [
      "/media/jacqueline/Data/TSEvo/TSEvo/Problem.py:97: UserWarning: Implicit dimension choice for softmax has been deprecated. Change the call to include dim=X as an argument.\n",
      "  output = torch.nn.functional.softmax(self.model(input_)).detach().numpy()\n",
      "/media/jacqueline/Data/TSEvo/TSEvo/Problem.py:97: UserWarning: Implicit dimension choice for softmax has been deprecated. Change the call to include dim=X as an argument.\n",
      "  output = torch.nn.functional.softmax(self.model(input_)).detach().numpy()\n",
      "/media/jacqueline/Data/TSEvo/TSEvo/Problem.py:97: UserWarning: Implicit dimension choice for softmax has been deprecated. Change the call to include dim=X as an argument.\n",
      "  output = torch.nn.functional.softmax(self.model(input_)).detach().numpy()\n"
     ]
    },
    {
     "output_type": "stream",
     "name": "stdout",
     "text": [
      "43 \t   \t100  \t0.0157347 \t0  \t0.00347797\t0.0931141\t0.0149967 \t0.0546444\t0.0872499\t0.122158\t0.028852  \t0.0533333\t0.0900667\t0.206667\n",
      "44 \t   \t100  \t0.0180014 \t0  \t0.00463881\t0.0931141\t0.0164746 \t0.0546444\t0.0888303\t0.122158\t0.0351643 \t0.0533333\t0.0939333\t0.206667\n",
      "45 \t   \t100  \t0.027132  \t0  \t0.0105813 \t0.0931141\t0.0171857 \t0.0546444\t0.0851422\t0.122158\t0.0277849 \t0.0533333\t0.0886667\t0.206667\n"
     ]
    },
    {
     "output_type": "stream",
     "name": "stderr",
     "text": [
      "/media/jacqueline/Data/TSEvo/TSEvo/Problem.py:97: UserWarning: Implicit dimension choice for softmax has been deprecated. Change the call to include dim=X as an argument.\n",
      "  output = torch.nn.functional.softmax(self.model(input_)).detach().numpy()\n",
      "/media/jacqueline/Data/TSEvo/TSEvo/Problem.py:97: UserWarning: Implicit dimension choice for softmax has been deprecated. Change the call to include dim=X as an argument.\n",
      "  output = torch.nn.functional.softmax(self.model(input_)).detach().numpy()\n",
      "/media/jacqueline/Data/TSEvo/TSEvo/Problem.py:97: UserWarning: Implicit dimension choice for softmax has been deprecated. Change the call to include dim=X as an argument.\n",
      "  output = torch.nn.functional.softmax(self.model(input_)).detach().numpy()\n"
     ]
    },
    {
     "output_type": "stream",
     "name": "stdout",
     "text": [
      "46 \t   \t100  \t0.0249615 \t0  \t0.00885294\t0.0931141\t0.0166066 \t0.0546444\t0.0855695\t0.122158\t0.0289907 \t0.0533333\t0.0890667\t0.206667\n",
      "47 \t   \t100  \t0.0181654 \t0  \t0.00544897\t0.0931141\t0.0159417 \t0.0546444\t0.0864876\t0.122158\t0.0298186 \t0.0533333\t0.0919333\t0.206667\n",
      "48 \t   \t100  \t0.0182336 \t0  \t0.00590726\t0.0931141\t0.0170679 \t0.0546444\t0.0870662\t0.122158\t0.030371  \t0.0533333\t0.0954   \t0.206667\n"
     ]
    },
    {
     "output_type": "stream",
     "name": "stderr",
     "text": [
      "/media/jacqueline/Data/TSEvo/TSEvo/Problem.py:97: UserWarning: Implicit dimension choice for softmax has been deprecated. Change the call to include dim=X as an argument.\n",
      "  output = torch.nn.functional.softmax(self.model(input_)).detach().numpy()\n",
      "/media/jacqueline/Data/TSEvo/TSEvo/Problem.py:97: UserWarning: Implicit dimension choice for softmax has been deprecated. Change the call to include dim=X as an argument.\n",
      "  output = torch.nn.functional.softmax(self.model(input_)).detach().numpy()\n",
      "/media/jacqueline/Data/TSEvo/TSEvo/Problem.py:97: UserWarning: Implicit dimension choice for softmax has been deprecated. Change the call to include dim=X as an argument.\n",
      "  output = torch.nn.functional.softmax(self.model(input_)).detach().numpy()\n"
     ]
    },
    {
     "output_type": "stream",
     "name": "stdout",
     "text": [
      "49 \t   \t100  \t0.0244706 \t0  \t0.00938177\t0.0931141\t0.0169819 \t0.0546444\t0.0849653\t0.122158\t0.0306866 \t0.0533333\t0.0916667\t0.206667\n",
      "50 \t   \t100  \t0.0195468 \t0  \t0.00589185\t0.0931141\t0.0170623 \t0.0546444\t0.0880548\t0.122158\t0.0307228 \t0.0533333\t0.0912   \t0.206667\n",
      "51 \t   \t100  \t0.0196756 \t0  \t0.00647728\t0.0931141\t0.0167206 \t0.0546444\t0.0867281\t0.122158\t0.0295064 \t0.0533333\t0.0902   \t0.206667\n"
     ]
    },
    {
     "output_type": "stream",
     "name": "stderr",
     "text": [
      "/media/jacqueline/Data/TSEvo/TSEvo/Problem.py:97: UserWarning: Implicit dimension choice for softmax has been deprecated. Change the call to include dim=X as an argument.\n",
      "  output = torch.nn.functional.softmax(self.model(input_)).detach().numpy()\n",
      "/media/jacqueline/Data/TSEvo/TSEvo/Problem.py:97: UserWarning: Implicit dimension choice for softmax has been deprecated. Change the call to include dim=X as an argument.\n",
      "  output = torch.nn.functional.softmax(self.model(input_)).detach().numpy()\n",
      "/media/jacqueline/Data/TSEvo/TSEvo/Problem.py:97: UserWarning: Implicit dimension choice for softmax has been deprecated. Change the call to include dim=X as an argument.\n",
      "  output = torch.nn.functional.softmax(self.model(input_)).detach().numpy()\n"
     ]
    },
    {
     "output_type": "stream",
     "name": "stdout",
     "text": [
      "52 \t   \t100  \t0.0208686 \t0  \t0.0070053 \t0.0931141\t0.016671  \t0.0546444\t0.0865072\t0.122158\t0.0293045 \t0.0533333\t0.0894   \t0.206667\n",
      "53 \t   \t100  \t0.0208581 \t0  \t0.00706013\t0.0931141\t0.013707  \t0.0546444\t0.0841492\t0.110331\t0.021142  \t0.0533333\t0.0848667\t0.14    \n",
      "54 \t   \t100  \t0.0222376 \t0  \t0.00809331\t0.0931141\t0.0142168 \t0.0546444\t0.0830919\t0.110331\t0.0215716 \t0.0533333\t0.086    \t0.14    \n"
     ]
    },
    {
     "output_type": "stream",
     "name": "stderr",
     "text": [
      "/media/jacqueline/Data/TSEvo/TSEvo/Problem.py:97: UserWarning: Implicit dimension choice for softmax has been deprecated. Change the call to include dim=X as an argument.\n",
      "  output = torch.nn.functional.softmax(self.model(input_)).detach().numpy()\n",
      "/media/jacqueline/Data/TSEvo/TSEvo/Problem.py:97: UserWarning: Implicit dimension choice for softmax has been deprecated. Change the call to include dim=X as an argument.\n",
      "  output = torch.nn.functional.softmax(self.model(input_)).detach().numpy()\n",
      "/media/jacqueline/Data/TSEvo/TSEvo/Problem.py:97: UserWarning: Implicit dimension choice for softmax has been deprecated. Change the call to include dim=X as an argument.\n",
      "  output = torch.nn.functional.softmax(self.model(input_)).detach().numpy()\n"
     ]
    },
    {
     "output_type": "stream",
     "name": "stdout",
     "text": [
      "55 \t   \t100  \t0.042596  \t0  \t0.0136481 \t0.35962  \t0.0147871 \t0.0536109\t0.0816508\t0.110331\t0.0210408 \t0.0533333\t0.0855333\t0.14    \n",
      "56 \t   \t100  \t0.0546823 \t0  \t0.0176991 \t0.35962  \t0.0155382 \t0.0536109\t0.0812938\t0.110331\t0.0215802 \t0.0533333\t0.0869333\t0.14    \n",
      "57 \t   \t100  \t0.054984  \t0  \t0.0191733 \t0.35962  \t0.0159708 \t0.0536109\t0.0805184\t0.110331\t0.0218423 \t0.0533333\t0.0877333\t0.14    \n"
     ]
    },
    {
     "output_type": "stream",
     "name": "stderr",
     "text": [
      "/media/jacqueline/Data/TSEvo/TSEvo/Problem.py:97: UserWarning: Implicit dimension choice for softmax has been deprecated. Change the call to include dim=X as an argument.\n",
      "  output = torch.nn.functional.softmax(self.model(input_)).detach().numpy()\n",
      "/media/jacqueline/Data/TSEvo/TSEvo/Problem.py:97: UserWarning: Implicit dimension choice for softmax has been deprecated. Change the call to include dim=X as an argument.\n",
      "  output = torch.nn.functional.softmax(self.model(input_)).detach().numpy()\n",
      "/media/jacqueline/Data/TSEvo/TSEvo/Problem.py:97: UserWarning: Implicit dimension choice for softmax has been deprecated. Change the call to include dim=X as an argument.\n",
      "  output = torch.nn.functional.softmax(self.model(input_)).detach().numpy()\n"
     ]
    },
    {
     "output_type": "stream",
     "name": "stdout",
     "text": [
      "58 \t   \t100  \t0.0546168 \t0  \t0.0188226 \t0.35962  \t0.0164425 \t0.0536109\t0.0808927\t0.120766\t0.0234321 \t0.0533333\t0.0887333\t0.153333\n",
      "59 \t   \t100  \t0.0655816 \t0  \t0.0238958 \t0.382371 \t0.0162662 \t0.0490363\t0.0785428\t0.120722\t0.0246994 \t0.0533333\t0.0896   \t0.153333\n"
     ]
    },
    {
     "output_type": "stream",
     "name": "stderr",
     "text": [
      "/media/jacqueline/Data/TSEvo/TSEvo/Problem.py:97: UserWarning: Implicit dimension choice for softmax has been deprecated. Change the call to include dim=X as an argument.\n",
      "  output = torch.nn.functional.softmax(self.model(input_)).detach().numpy()\n",
      "/media/jacqueline/Data/TSEvo/TSEvo/Problem.py:97: UserWarning: Implicit dimension choice for softmax has been deprecated. Change the call to include dim=X as an argument.\n",
      "  output = torch.nn.functional.softmax(self.model(input_)).detach().numpy()\n",
      "/media/jacqueline/Data/TSEvo/TSEvo/Problem.py:97: UserWarning: Implicit dimension choice for softmax has been deprecated. Change the call to include dim=X as an argument.\n",
      "  output = torch.nn.functional.softmax(self.model(input_)).detach().numpy()\n"
     ]
    },
    {
     "output_type": "stream",
     "name": "stdout",
     "text": [
      "60 \t   \t100  \t0.0746254 \t0  \t0.0279827 \t0.382371 \t0.0169752 \t0.0490363\t0.0784267\t0.120722\t0.0243581 \t0.0533333\t0.0898667\t0.153333\n",
      "61 \t   \t100  \t0.0824948 \t0  \t0.0316157 \t0.382371 \t0.0171755 \t0.0490363\t0.0783787\t0.120722\t0.0238532 \t0.0533333\t0.0894   \t0.153333\n",
      "62 \t   \t100  \t0.0894108 \t0  \t0.0369227 \t0.382371 \t0.0177018 \t0.0490363\t0.0775868\t0.120722\t0.0242596 \t0.0533333\t0.0906   \t0.153333\n"
     ]
    },
    {
     "output_type": "stream",
     "name": "stderr",
     "text": [
      "/media/jacqueline/Data/TSEvo/TSEvo/Problem.py:97: UserWarning: Implicit dimension choice for softmax has been deprecated. Change the call to include dim=X as an argument.\n",
      "  output = torch.nn.functional.softmax(self.model(input_)).detach().numpy()\n",
      "/media/jacqueline/Data/TSEvo/TSEvo/Problem.py:97: UserWarning: Implicit dimension choice for softmax has been deprecated. Change the call to include dim=X as an argument.\n",
      "  output = torch.nn.functional.softmax(self.model(input_)).detach().numpy()\n",
      "/media/jacqueline/Data/TSEvo/TSEvo/Problem.py:97: UserWarning: Implicit dimension choice for softmax has been deprecated. Change the call to include dim=X as an argument.\n",
      "  output = torch.nn.functional.softmax(self.model(input_)).detach().numpy()\n"
     ]
    },
    {
     "output_type": "stream",
     "name": "stdout",
     "text": [
      "63 \t   \t100  \t0.089608  \t0  \t0.0386946 \t0.385212 \t0.0179375 \t0.0484497\t0.0773192\t0.120722\t0.0238603 \t0.0533333\t0.0901333\t0.153333\n",
      "64 \t   \t100  \t0.101676  \t0  \t0.0472733 \t0.386695 \t0.018322  \t0.0481088\t0.0760996\t0.120722\t0.0238159 \t0.0533333\t0.0894   \t0.153333\n",
      "65 \t   \t100  \t0.106213  \t0  \t0.0506669 \t0.386695 \t0.0183678 \t0.0481088\t0.0758646\t0.120722\t0.0246586 \t0.0533333\t0.0888667\t0.173333\n"
     ]
    },
    {
     "output_type": "stream",
     "name": "stderr",
     "text": [
      "/media/jacqueline/Data/TSEvo/TSEvo/Problem.py:97: UserWarning: Implicit dimension choice for softmax has been deprecated. Change the call to include dim=X as an argument.\n",
      "  output = torch.nn.functional.softmax(self.model(input_)).detach().numpy()\n",
      "/media/jacqueline/Data/TSEvo/TSEvo/Problem.py:97: UserWarning: Implicit dimension choice for softmax has been deprecated. Change the call to include dim=X as an argument.\n",
      "  output = torch.nn.functional.softmax(self.model(input_)).detach().numpy()\n",
      "/media/jacqueline/Data/TSEvo/TSEvo/Problem.py:97: UserWarning: Implicit dimension choice for softmax has been deprecated. Change the call to include dim=X as an argument.\n",
      "  output = torch.nn.functional.softmax(self.model(input_)).detach().numpy()\n"
     ]
    },
    {
     "output_type": "stream",
     "name": "stdout",
     "text": [
      "66 \t   \t100  \t0.110908  \t0  \t0.0550091 \t0.386695 \t0.0185053 \t0.0481088\t0.0752434\t0.120722\t0.0248029 \t0.0533333\t0.0885333\t0.173333\n",
      "67 \t   \t100  \t0.119277  \t0  \t0.0622765 \t0.386695 \t0.0188341 \t0.0481088\t0.0749072\t0.120722\t0.0215877 \t0.0533333\t0.0858667\t0.14    \n",
      "68 \t   \t100  \t0.113572  \t0  \t0.0590424 \t0.386695 \t0.016705  \t0.0481088\t0.0730764\t0.109296\t0.0219473 \t0.0533333\t0.0859333\t0.14    \n"
     ]
    },
    {
     "output_type": "stream",
     "name": "stderr",
     "text": [
      "/media/jacqueline/Data/TSEvo/TSEvo/Problem.py:97: UserWarning: Implicit dimension choice for softmax has been deprecated. Change the call to include dim=X as an argument.\n",
      "  output = torch.nn.functional.softmax(self.model(input_)).detach().numpy()\n",
      "/media/jacqueline/Data/TSEvo/TSEvo/Problem.py:97: UserWarning: Implicit dimension choice for softmax has been deprecated. Change the call to include dim=X as an argument.\n",
      "  output = torch.nn.functional.softmax(self.model(input_)).detach().numpy()\n"
     ]
    },
    {
     "output_type": "stream",
     "name": "stdout",
     "text": [
      "69 \t   \t100  \t0.122873  \t0  \t0.0607072 \t0.386695 \t0.0169956 \t0.0481088\t0.0745332\t0.109296\t0.0227742 \t0.0533333\t0.0867333\t0.14    \n",
      "70 \t   \t100  \t0.12296   \t0  \t0.0612418 \t0.386695 \t0.0170988 \t0.0481088\t0.0745324\t0.109296\t0.0227973 \t0.0533333\t0.0861333\t0.14    \n",
      "71 \t   \t100  \t0.125061  \t0  \t0.0625139 \t0.386695 \t0.017168  \t0.0481088\t0.0748781\t0.109296\t0.0229662 \t0.0533333\t0.0856667\t0.14    \n"
     ]
    },
    {
     "output_type": "stream",
     "name": "stderr",
     "text": [
      "/media/jacqueline/Data/TSEvo/TSEvo/Problem.py:97: UserWarning: Implicit dimension choice for softmax has been deprecated. Change the call to include dim=X as an argument.\n",
      "  output = torch.nn.functional.softmax(self.model(input_)).detach().numpy()\n",
      "/media/jacqueline/Data/TSEvo/TSEvo/Problem.py:97: UserWarning: Implicit dimension choice for softmax has been deprecated. Change the call to include dim=X as an argument.\n",
      "  output = torch.nn.functional.softmax(self.model(input_)).detach().numpy()\n",
      "/media/jacqueline/Data/TSEvo/TSEvo/Problem.py:97: UserWarning: Implicit dimension choice for softmax has been deprecated. Change the call to include dim=X as an argument.\n",
      "  output = torch.nn.functional.softmax(self.model(input_)).detach().numpy()\n"
     ]
    },
    {
     "output_type": "stream",
     "name": "stdout",
     "text": [
      "72 \t   \t100  \t0.125119  \t0  \t0.0634644 \t0.386695 \t0.0174899 \t0.0481088\t0.0755863\t0.109296\t0.020267  \t0.0533333\t0.0827333\t0.133333\n",
      "73 \t   \t100  \t0.123048  \t0  \t0.0623188 \t0.386695 \t0.0174014 \t0.0481088\t0.0749295\t0.109296\t0.0201788 \t0.0533333\t0.0818667\t0.133333\n",
      "74 \t   \t100  \t0.123147  \t0  \t0.0616354 \t0.386695 \t0.0173844 \t0.0481088\t0.0753069\t0.109296\t0.0201082 \t0.0533333\t0.0821333\t0.133333\n"
     ]
    },
    {
     "output_type": "stream",
     "name": "stderr",
     "text": [
      "/media/jacqueline/Data/TSEvo/TSEvo/Problem.py:97: UserWarning: Implicit dimension choice for softmax has been deprecated. Change the call to include dim=X as an argument.\n",
      "  output = torch.nn.functional.softmax(self.model(input_)).detach().numpy()\n",
      "/media/jacqueline/Data/TSEvo/TSEvo/Problem.py:97: UserWarning: Implicit dimension choice for softmax has been deprecated. Change the call to include dim=X as an argument.\n",
      "  output = torch.nn.functional.softmax(self.model(input_)).detach().numpy()\n",
      "/media/jacqueline/Data/TSEvo/TSEvo/Problem.py:97: UserWarning: Implicit dimension choice for softmax has been deprecated. Change the call to include dim=X as an argument.\n",
      "  output = torch.nn.functional.softmax(self.model(input_)).detach().numpy()\n"
     ]
    },
    {
     "output_type": "stream",
     "name": "stdout",
     "text": [
      "75 \t   \t100  \t0.124801  \t0  \t0.0635919 \t0.386695 \t0.017395  \t0.0481088\t0.0750348\t0.109296\t0.0200484 \t0.0533333\t0.0828   \t0.133333\n",
      "76 \t   \t100  \t0.116389  \t0  \t0.0564079 \t0.386695 \t0.0171842 \t0.0481088\t0.0755264\t0.109296\t0.0193047 \t0.0533333\t0.0828667\t0.133333\n",
      "77 \t   \t100  \t0.116513  \t0  \t0.056122  \t0.386695 \t0.0172167 \t0.0481088\t0.0760175\t0.109296\t0.0198746 \t0.0533333\t0.083    \t0.133333\n"
     ]
    },
    {
     "output_type": "stream",
     "name": "stderr",
     "text": [
      "/media/jacqueline/Data/TSEvo/TSEvo/Problem.py:97: UserWarning: Implicit dimension choice for softmax has been deprecated. Change the call to include dim=X as an argument.\n",
      "  output = torch.nn.functional.softmax(self.model(input_)).detach().numpy()\n",
      "/media/jacqueline/Data/TSEvo/TSEvo/Problem.py:97: UserWarning: Implicit dimension choice for softmax has been deprecated. Change the call to include dim=X as an argument.\n",
      "  output = torch.nn.functional.softmax(self.model(input_)).detach().numpy()\n",
      "/media/jacqueline/Data/TSEvo/TSEvo/Problem.py:97: UserWarning: Implicit dimension choice for softmax has been deprecated. Change the call to include dim=X as an argument.\n",
      "  output = torch.nn.functional.softmax(self.model(input_)).detach().numpy()\n"
     ]
    },
    {
     "output_type": "stream",
     "name": "stdout",
     "text": [
      "78 \t   \t100  \t0.118262  \t0  \t0.0595211 \t0.386695 \t0.0175432 \t0.0481088\t0.0755692\t0.109296\t0.0194295 \t0.0533333\t0.0812667\t0.133333\n",
      "79 \t   \t100  \t0.104315  \t0  \t0.0481482 \t0.386695 \t0.0170037 \t0.0481088\t0.0762548\t0.109296\t0.0192023 \t0.0533333\t0.0804   \t0.133333\n",
      "80 \t   \t100  \t0.110687  \t0  \t0.0544644 \t0.386695 \t0.0171941 \t0.0481088\t0.0753142\t0.109296\t0.0187337 \t0.0533333\t0.0796   \t0.133333\n"
     ]
    },
    {
     "output_type": "stream",
     "name": "stderr",
     "text": [
      "/media/jacqueline/Data/TSEvo/TSEvo/Problem.py:97: UserWarning: Implicit dimension choice for softmax has been deprecated. Change the call to include dim=X as an argument.\n",
      "  output = torch.nn.functional.softmax(self.model(input_)).detach().numpy()\n",
      "/media/jacqueline/Data/TSEvo/TSEvo/Problem.py:97: UserWarning: Implicit dimension choice for softmax has been deprecated. Change the call to include dim=X as an argument.\n",
      "  output = torch.nn.functional.softmax(self.model(input_)).detach().numpy()\n",
      "/media/jacqueline/Data/TSEvo/TSEvo/Problem.py:97: UserWarning: Implicit dimension choice for softmax has been deprecated. Change the call to include dim=X as an argument.\n",
      "  output = torch.nn.functional.softmax(self.model(input_)).detach().numpy()\n"
     ]
    },
    {
     "output_type": "stream",
     "name": "stdout",
     "text": [
      "81 \t   \t100  \t0.116979  \t0  \t0.0608384 \t0.386695 \t0.0175546 \t0.0481088\t0.0748781\t0.109296\t0.0178567 \t0.0533333\t0.0789333\t0.133333\n",
      "82 \t   \t100  \t0.123621  \t0  \t0.0637465 \t0.386695 \t0.0177939 \t0.0481088\t0.0754958\t0.109296\t0.0183322 \t0.0533333\t0.0781333\t0.133333\n",
      "83 \t   \t100  \t0.120035  \t0  \t0.0610181 \t0.386695 \t0.0177464 \t0.0481088\t0.0756533\t0.109296\t0.0180892 \t0.0533333\t0.0784   \t0.133333\n"
     ]
    },
    {
     "output_type": "stream",
     "name": "stderr",
     "text": [
      "/media/jacqueline/Data/TSEvo/TSEvo/Problem.py:97: UserWarning: Implicit dimension choice for softmax has been deprecated. Change the call to include dim=X as an argument.\n",
      "  output = torch.nn.functional.softmax(self.model(input_)).detach().numpy()\n",
      "/media/jacqueline/Data/TSEvo/TSEvo/Problem.py:97: UserWarning: Implicit dimension choice for softmax has been deprecated. Change the call to include dim=X as an argument.\n",
      "  output = torch.nn.functional.softmax(self.model(input_)).detach().numpy()\n",
      "/media/jacqueline/Data/TSEvo/TSEvo/Problem.py:97: UserWarning: Implicit dimension choice for softmax has been deprecated. Change the call to include dim=X as an argument.\n",
      "  output = torch.nn.functional.softmax(self.model(input_)).detach().numpy()\n"
     ]
    },
    {
     "output_type": "stream",
     "name": "stdout",
     "text": [
      "84 \t   \t100  \t0.123188  \t0  \t0.0651362 \t0.386695 \t0.0179115 \t0.0481088\t0.0748228\t0.109296\t0.018002  \t0.0533333\t0.0785333\t0.133333\n",
      "85 \t   \t100  \t0.123002  \t0  \t0.0658112 \t0.386695 \t0.0178164 \t0.0481088\t0.0742962\t0.109296\t0.0183316 \t0.0533333\t0.0788667\t0.133333\n",
      "86 \t   \t100  \t0.122968  \t0  \t0.0658911 \t0.386695 \t0.0180711 \t0.0481088\t0.0744662\t0.109296\t0.0195732 \t0.0533333\t0.08     \t0.133333\n"
     ]
    },
    {
     "output_type": "stream",
     "name": "stderr",
     "text": [
      "/media/jacqueline/Data/TSEvo/TSEvo/Problem.py:97: UserWarning: Implicit dimension choice for softmax has been deprecated. Change the call to include dim=X as an argument.\n",
      "  output = torch.nn.functional.softmax(self.model(input_)).detach().numpy()\n",
      "/media/jacqueline/Data/TSEvo/TSEvo/Problem.py:97: UserWarning: Implicit dimension choice for softmax has been deprecated. Change the call to include dim=X as an argument.\n",
      "  output = torch.nn.functional.softmax(self.model(input_)).detach().numpy()\n",
      "/media/jacqueline/Data/TSEvo/TSEvo/Problem.py:97: UserWarning: Implicit dimension choice for softmax has been deprecated. Change the call to include dim=X as an argument.\n",
      "  output = torch.nn.functional.softmax(self.model(input_)).detach().numpy()\n"
     ]
    },
    {
     "output_type": "stream",
     "name": "stdout",
     "text": [
      "87 \t   \t100  \t0.122324  \t0  \t0.0654726 \t0.386695 \t0.0180818 \t0.0481088\t0.0747891\t0.109296\t0.0193214 \t0.0533333\t0.0798667\t0.133333\n",
      "88 \t   \t100  \t0.12223   \t0  \t0.0656832 \t0.386695 \t0.0181877 \t0.0481088\t0.074714 \t0.109296\t0.0205805 \t0.0533333\t0.0806667\t0.133333\n",
      "89 \t   \t100  \t0.125931  \t0  \t0.0697532 \t0.386695 \t0.018232  \t0.0481088\t0.0739091\t0.109296\t0.0197747 \t0.0533333\t0.0797333\t0.133333\n"
     ]
    },
    {
     "output_type": "stream",
     "name": "stderr",
     "text": [
      "/media/jacqueline/Data/TSEvo/TSEvo/Problem.py:97: UserWarning: Implicit dimension choice for softmax has been deprecated. Change the call to include dim=X as an argument.\n",
      "  output = torch.nn.functional.softmax(self.model(input_)).detach().numpy()\n",
      "/media/jacqueline/Data/TSEvo/TSEvo/Problem.py:97: UserWarning: Implicit dimension choice for softmax has been deprecated. Change the call to include dim=X as an argument.\n",
      "  output = torch.nn.functional.softmax(self.model(input_)).detach().numpy()\n",
      "/media/jacqueline/Data/TSEvo/TSEvo/Problem.py:97: UserWarning: Implicit dimension choice for softmax has been deprecated. Change the call to include dim=X as an argument.\n",
      "  output = torch.nn.functional.softmax(self.model(input_)).detach().numpy()\n"
     ]
    },
    {
     "output_type": "stream",
     "name": "stdout",
     "text": [
      "90 \t   \t100  \t0.125767  \t0  \t0.0698517 \t0.386695 \t0.018229  \t0.0481088\t0.0735349\t0.109296\t0.0197868 \t0.0533333\t0.0802   \t0.133333\n",
      "91 \t   \t100  \t0.125609  \t0  \t0.0707531 \t0.386695 \t0.0182573 \t0.0481088\t0.0733118\t0.109296\t0.0199211 \t0.0533333\t0.0798   \t0.133333\n",
      "92 \t   \t100  \t0.125951  \t0  \t0.0715019 \t0.386695 \t0.0182296 \t0.0481088\t0.0730276\t0.109296\t0.0198271 \t0.0533333\t0.0795333\t0.133333\n"
     ]
    },
    {
     "output_type": "stream",
     "name": "stderr",
     "text": [
      "/media/jacqueline/Data/TSEvo/TSEvo/Problem.py:97: UserWarning: Implicit dimension choice for softmax has been deprecated. Change the call to include dim=X as an argument.\n",
      "  output = torch.nn.functional.softmax(self.model(input_)).detach().numpy()\n",
      "/media/jacqueline/Data/TSEvo/TSEvo/Problem.py:97: UserWarning: Implicit dimension choice for softmax has been deprecated. Change the call to include dim=X as an argument.\n",
      "  output = torch.nn.functional.softmax(self.model(input_)).detach().numpy()\n",
      "/media/jacqueline/Data/TSEvo/TSEvo/Problem.py:97: UserWarning: Implicit dimension choice for softmax has been deprecated. Change the call to include dim=X as an argument.\n",
      "  output = torch.nn.functional.softmax(self.model(input_)).detach().numpy()\n"
     ]
    },
    {
     "output_type": "stream",
     "name": "stdout",
     "text": [
      "93 \t   \t100  \t0.12933   \t0  \t0.0752657 \t0.386695 \t0.0184033 \t0.0481088\t0.0728553\t0.109296\t0.0195518 \t0.0533333\t0.0788667\t0.133333\n",
      "94 \t   \t100  \t0.129556  \t0  \t0.0747743 \t0.386695 \t0.0183708 \t0.0481088\t0.073081 \t0.109296\t0.0206666 \t0.0533333\t0.0799333\t0.133333\n"
     ]
    },
    {
     "output_type": "stream",
     "name": "stderr",
     "text": [
      "/media/jacqueline/Data/TSEvo/TSEvo/Problem.py:97: UserWarning: Implicit dimension choice for softmax has been deprecated. Change the call to include dim=X as an argument.\n",
      "  output = torch.nn.functional.softmax(self.model(input_)).detach().numpy()\n",
      "/media/jacqueline/Data/TSEvo/TSEvo/Problem.py:97: UserWarning: Implicit dimension choice for softmax has been deprecated. Change the call to include dim=X as an argument.\n",
      "  output = torch.nn.functional.softmax(self.model(input_)).detach().numpy()\n"
     ]
    },
    {
     "output_type": "stream",
     "name": "stdout",
     "text": [
      "95 \t   \t100  \t0.129446  \t0  \t0.0749977 \t0.386695 \t0.0184087 \t0.0481088\t0.072877 \t0.109296\t0.0194822 \t0.0533333\t0.0786667\t0.133333\n",
      "96 \t   \t100  \t0.12589   \t0  \t0.0711803 \t0.386695 \t0.0183387 \t0.0481088\t0.0732443\t0.109296\t0.0195117 \t0.0533333\t0.0786   \t0.133333\n",
      "97 \t   \t100  \t0.132496  \t0  \t0.0776957 \t0.386695 \t0.0184215 \t0.0481088\t0.0727868\t0.109296\t0.0185063 \t0.0533333\t0.0780667\t0.133333\n",
      "98 \t   \t100  \t0.123852  \t0  \t0.068005  \t0.386695 \t0.0185257 \t0.0481088\t0.0733452\t0.109296\t0.0183229 \t0.0533333\t0.0779333\t0.133333\n"
     ]
    },
    {
     "output_type": "stream",
     "name": "stderr",
     "text": [
      "/media/jacqueline/Data/TSEvo/TSEvo/Problem.py:97: UserWarning: Implicit dimension choice for softmax has been deprecated. Change the call to include dim=X as an argument.\n",
      "  output = torch.nn.functional.softmax(self.model(input_)).detach().numpy()\n",
      "/media/jacqueline/Data/TSEvo/TSEvo/Problem.py:97: UserWarning: Implicit dimension choice for softmax has been deprecated. Change the call to include dim=X as an argument.\n",
      "  output = torch.nn.functional.softmax(self.model(input_)).detach().numpy()\n",
      "/media/jacqueline/Data/TSEvo/TSEvo/Problem.py:97: UserWarning: Implicit dimension choice for softmax has been deprecated. Change the call to include dim=X as an argument.\n",
      "  output = torch.nn.functional.softmax(self.model(input_)).detach().numpy()\n"
     ]
    },
    {
     "output_type": "stream",
     "name": "stdout",
     "text": [
      "99 \t   \t100  \t0.127249  \t0  \t0.0729083 \t0.386695 \t0.0186462 \t0.0481088\t0.0728215\t0.109296\t0.0182594 \t0.0533333\t0.0781333\t0.133333\n",
      "100\t   \t100  \t0.126768  \t0  \t0.0727059 \t0.386695 \t0.0179955 \t0.0481088\t0.0721835\t0.109296\t0.0186638 \t0.0533333\t0.0778667\t0.133333\n",
      "101\t   \t100  \t0.126551  \t0  \t0.0731035 \t0.386695 \t0.0179309 \t0.0481088\t0.0715608\t0.109296\t0.0198522 \t0.0533333\t0.0783333\t0.133333\n"
     ]
    },
    {
     "output_type": "stream",
     "name": "stderr",
     "text": [
      "/media/jacqueline/Data/TSEvo/TSEvo/Problem.py:97: UserWarning: Implicit dimension choice for softmax has been deprecated. Change the call to include dim=X as an argument.\n",
      "  output = torch.nn.functional.softmax(self.model(input_)).detach().numpy()\n",
      "/media/jacqueline/Data/TSEvo/TSEvo/Problem.py:97: UserWarning: Implicit dimension choice for softmax has been deprecated. Change the call to include dim=X as an argument.\n",
      "  output = torch.nn.functional.softmax(self.model(input_)).detach().numpy()\n",
      "/media/jacqueline/Data/TSEvo/TSEvo/Problem.py:97: UserWarning: Implicit dimension choice for softmax has been deprecated. Change the call to include dim=X as an argument.\n",
      "  output = torch.nn.functional.softmax(self.model(input_)).detach().numpy()\n"
     ]
    },
    {
     "output_type": "stream",
     "name": "stdout",
     "text": [
      "102\t   \t100  \t0.126531  \t0  \t0.0731528 \t0.386695 \t0.0179597 \t0.0481088\t0.0715555\t0.109296\t0.0198577 \t0.0533333\t0.0782667\t0.133333\n",
      "103\t   \t100  \t0.119874  \t0  \t0.0657973 \t0.386695 \t0.0179953 \t0.0481088\t0.0726057\t0.109296\t0.0207713 \t0.0533333\t0.0788   \t0.133333\n",
      "104\t   \t100  \t0.127277  \t0  \t0.0732136 \t0.410925 \t0.0183979 \t0.0466249\t0.0725069\t0.109296\t0.0215055 \t0.0533333\t0.0786   \t0.133333\n"
     ]
    },
    {
     "output_type": "stream",
     "name": "stderr",
     "text": [
      "/media/jacqueline/Data/TSEvo/TSEvo/Problem.py:97: UserWarning: Implicit dimension choice for softmax has been deprecated. Change the call to include dim=X as an argument.\n",
      "  output = torch.nn.functional.softmax(self.model(input_)).detach().numpy()\n",
      "/media/jacqueline/Data/TSEvo/TSEvo/Problem.py:97: UserWarning: Implicit dimension choice for softmax has been deprecated. Change the call to include dim=X as an argument.\n",
      "  output = torch.nn.functional.softmax(self.model(input_)).detach().numpy()\n",
      "/media/jacqueline/Data/TSEvo/TSEvo/Problem.py:97: UserWarning: Implicit dimension choice for softmax has been deprecated. Change the call to include dim=X as an argument.\n",
      "  output = torch.nn.functional.softmax(self.model(input_)).detach().numpy()\n"
     ]
    },
    {
     "output_type": "stream",
     "name": "stdout",
     "text": [
      "105\t   \t100  \t0.125069  \t0  \t0.0712671 \t0.410925 \t0.0183706 \t0.0466249\t0.0729111\t0.109296\t0.0213203 \t0.0533333\t0.0783333\t0.133333\n",
      "106\t   \t100  \t0.133571  \t0  \t0.0819747 \t0.410925 \t0.018534  \t0.0466249\t0.0716592\t0.109296\t0.0212858 \t0.0533333\t0.0789333\t0.133333\n",
      "107\t   \t100  \t0.135449  \t0  \t0.0852084 \t0.410925 \t0.0184937 \t0.0466249\t0.0712039\t0.109296\t0.0218667 \t0.0533333\t0.0797333\t0.133333\n"
     ]
    },
    {
     "output_type": "stream",
     "name": "stderr",
     "text": [
      "/media/jacqueline/Data/TSEvo/TSEvo/Problem.py:97: UserWarning: Implicit dimension choice for softmax has been deprecated. Change the call to include dim=X as an argument.\n",
      "  output = torch.nn.functional.softmax(self.model(input_)).detach().numpy()\n",
      "/media/jacqueline/Data/TSEvo/TSEvo/Problem.py:97: UserWarning: Implicit dimension choice for softmax has been deprecated. Change the call to include dim=X as an argument.\n",
      "  output = torch.nn.functional.softmax(self.model(input_)).detach().numpy()\n",
      "/media/jacqueline/Data/TSEvo/TSEvo/Problem.py:97: UserWarning: Implicit dimension choice for softmax has been deprecated. Change the call to include dim=X as an argument.\n",
      "  output = torch.nn.functional.softmax(self.model(input_)).detach().numpy()\n"
     ]
    },
    {
     "output_type": "stream",
     "name": "stdout",
     "text": [
      "108\t   \t100  \t0.137914  \t0  \t0.0888011 \t0.410925 \t0.0185852 \t0.0466249\t0.0709239\t0.109296\t0.022     \t0.0533333\t0.0806667\t0.133333\n",
      "109\t   \t100  \t0.137913  \t0  \t0.0888017 \t0.410925 \t0.0183856 \t0.0466249\t0.0707442\t0.109296\t0.0219181 \t0.0533333\t0.0802   \t0.133333\n",
      "110\t   \t100  \t0.137898  \t0  \t0.0885773 \t0.410925 \t0.0185445 \t0.0466249\t0.0708975\t0.109296\t0.021683  \t0.0533333\t0.0802667\t0.133333\n"
     ]
    },
    {
     "output_type": "stream",
     "name": "stderr",
     "text": [
      "/media/jacqueline/Data/TSEvo/TSEvo/Problem.py:97: UserWarning: Implicit dimension choice for softmax has been deprecated. Change the call to include dim=X as an argument.\n",
      "  output = torch.nn.functional.softmax(self.model(input_)).detach().numpy()\n",
      "/media/jacqueline/Data/TSEvo/TSEvo/Problem.py:97: UserWarning: Implicit dimension choice for softmax has been deprecated. Change the call to include dim=X as an argument.\n",
      "  output = torch.nn.functional.softmax(self.model(input_)).detach().numpy()\n",
      "/media/jacqueline/Data/TSEvo/TSEvo/Problem.py:97: UserWarning: Implicit dimension choice for softmax has been deprecated. Change the call to include dim=X as an argument.\n",
      "  output = torch.nn.functional.softmax(self.model(input_)).detach().numpy()\n"
     ]
    },
    {
     "output_type": "stream",
     "name": "stdout",
     "text": [
      "111\t   \t100  \t0.133583  \t0  \t0.0817623 \t0.410925 \t0.0184683 \t0.0466249\t0.0715444\t0.109296\t0.0235396 \t0.0533333\t0.081    \t0.166667\n",
      "112\t   \t100  \t0.135883  \t0  \t0.0877226 \t0.410925 \t0.0184576 \t0.0466249\t0.0707195\t0.109296\t0.0251081 \t0.0533333\t0.0822667\t0.166667\n",
      "113\t   \t100  \t0.127492  \t0  \t0.0829065 \t0.410925 \t0.0184846 \t0.0466249\t0.0707833\t0.109296\t0.0245684 \t0.0533333\t0.0811333\t0.166667\n"
     ]
    },
    {
     "output_type": "stream",
     "name": "stderr",
     "text": [
      "/media/jacqueline/Data/TSEvo/TSEvo/Problem.py:97: UserWarning: Implicit dimension choice for softmax has been deprecated. Change the call to include dim=X as an argument.\n",
      "  output = torch.nn.functional.softmax(self.model(input_)).detach().numpy()\n",
      "/media/jacqueline/Data/TSEvo/TSEvo/Problem.py:97: UserWarning: Implicit dimension choice for softmax has been deprecated. Change the call to include dim=X as an argument.\n",
      "  output = torch.nn.functional.softmax(self.model(input_)).detach().numpy()\n",
      "/media/jacqueline/Data/TSEvo/TSEvo/Problem.py:97: UserWarning: Implicit dimension choice for softmax has been deprecated. Change the call to include dim=X as an argument.\n",
      "  output = torch.nn.functional.softmax(self.model(input_)).detach().numpy()\n"
     ]
    },
    {
     "output_type": "stream",
     "name": "stdout",
     "text": [
      "114\t   \t100  \t0.129149  \t0  \t0.0875944 \t0.410925 \t0.0183695 \t0.0466249\t0.0699253\t0.109296\t0.0251506 \t0.0533333\t0.0817333\t0.166667\n",
      "115\t   \t100  \t0.123578  \t0  \t0.0826602 \t0.410925 \t0.0176144 \t0.0466249\t0.0690477\t0.109296\t0.0250301 \t0.0533333\t0.0804   \t0.166667\n",
      "116\t   \t100  \t0.125756  \t0  \t0.0854206 \t0.410925 \t0.01772   \t0.0466249\t0.0688815\t0.109296\t0.0250385 \t0.0533333\t0.0814   \t0.166667\n"
     ]
    },
    {
     "output_type": "stream",
     "name": "stderr",
     "text": [
      "/media/jacqueline/Data/TSEvo/TSEvo/Problem.py:97: UserWarning: Implicit dimension choice for softmax has been deprecated. Change the call to include dim=X as an argument.\n",
      "  output = torch.nn.functional.softmax(self.model(input_)).detach().numpy()\n",
      "/media/jacqueline/Data/TSEvo/TSEvo/Problem.py:97: UserWarning: Implicit dimension choice for softmax has been deprecated. Change the call to include dim=X as an argument.\n",
      "  output = torch.nn.functional.softmax(self.model(input_)).detach().numpy()\n",
      "/media/jacqueline/Data/TSEvo/TSEvo/Problem.py:97: UserWarning: Implicit dimension choice for softmax has been deprecated. Change the call to include dim=X as an argument.\n",
      "  output = torch.nn.functional.softmax(self.model(input_)).detach().numpy()\n"
     ]
    },
    {
     "output_type": "stream",
     "name": "stdout",
     "text": [
      "117\t   \t100  \t0.128968  \t0  \t0.0893499 \t0.410925 \t0.0180229 \t0.0466249\t0.0689289\t0.109296\t0.0246334 \t0.0533333\t0.0824667\t0.166667\n",
      "118\t   \t100  \t0.109791  \t0  \t0.0641205 \t0.410925 \t0.0179743 \t0.0466249\t0.0710495\t0.109296\t0.0257402 \t0.04     \t0.0816667\t0.166667\n"
     ]
    },
    {
     "output_type": "stream",
     "name": "stderr",
     "text": [
      "/media/jacqueline/Data/TSEvo/TSEvo/Problem.py:97: UserWarning: Implicit dimension choice for softmax has been deprecated. Change the call to include dim=X as an argument.\n",
      "  output = torch.nn.functional.softmax(self.model(input_)).detach().numpy()\n",
      "/media/jacqueline/Data/TSEvo/TSEvo/Problem.py:97: UserWarning: Implicit dimension choice for softmax has been deprecated. Change the call to include dim=X as an argument.\n",
      "  output = torch.nn.functional.softmax(self.model(input_)).detach().numpy()\n",
      "/media/jacqueline/Data/TSEvo/TSEvo/Problem.py:97: UserWarning: Implicit dimension choice for softmax has been deprecated. Change the call to include dim=X as an argument.\n",
      "  output = torch.nn.functional.softmax(self.model(input_)).detach().numpy()\n",
      "/media/jacqueline/Data/TSEvo/TSEvo/Problem.py:97: UserWarning: Implicit dimension choice for softmax has been deprecated. Change the call to include dim=X as an argument.\n",
      "  output = torch.nn.functional.softmax(self.model(input_)).detach().numpy()\n",
      "/media/jacqueline/Data/TSEvo/TSEvo/Problem.py:97: UserWarning: Implicit dimension choice for softmax has been deprecated. Change the call to include dim=X as an argument.\n",
      "  output = torch.nn.functional.softmax(self.model(input_)).detach().numpy()\n"
     ]
    },
    {
     "output_type": "stream",
     "name": "stdout",
     "text": [
      "119\t   \t100  \t0.111061  \t0  \t0.0658426 \t0.410925 \t0.017786  \t0.0466249\t0.0708146\t0.109296\t0.0258937 \t0.04     \t0.0819333\t0.166667\n",
      "120\t   \t100  \t0.117838  \t0  \t0.0700645 \t0.466504 \t0.0178888 \t0.0463437\t0.0703717\t0.109296\t0.0263153 \t0.04     \t0.0822   \t0.166667\n",
      "121\t   \t100  \t0.13168   \t0  \t0.0800492 \t0.486426 \t0.0182852 \t0.0462575\t0.0703472\t0.109296\t0.0270521 \t0.04     \t0.0819333\t0.166667\n",
      "122\t   \t100  \t0.138453  \t0  \t0.0857981 \t0.486426 \t0.0179813 \t0.0462575\t0.0697904\t0.109296\t0.0280833 \t0.04     \t0.0828667\t0.166667\n"
     ]
    },
    {
     "output_type": "stream",
     "name": "stderr",
     "text": [
      "/media/jacqueline/Data/TSEvo/TSEvo/Problem.py:97: UserWarning: Implicit dimension choice for softmax has been deprecated. Change the call to include dim=X as an argument.\n",
      "  output = torch.nn.functional.softmax(self.model(input_)).detach().numpy()\n",
      "/media/jacqueline/Data/TSEvo/TSEvo/Problem.py:97: UserWarning: Implicit dimension choice for softmax has been deprecated. Change the call to include dim=X as an argument.\n",
      "  output = torch.nn.functional.softmax(self.model(input_)).detach().numpy()\n"
     ]
    },
    {
     "output_type": "stream",
     "name": "stdout",
     "text": [
      "123\t   \t100  \t0.138453  \t0  \t0.0857977 \t0.486426 \t0.0179768 \t0.0462575\t0.0697888\t0.109296\t0.0280713 \t0.04     \t0.0832667\t0.166667\n",
      "124\t   \t100  \t0.138972  \t0  \t0.0852972 \t0.486426 \t0.0182482 \t0.0462575\t0.0702144\t0.109296\t0.0282159 \t0.04     \t0.0824667\t0.166667\n"
     ]
    },
    {
     "output_type": "stream",
     "name": "stderr",
     "text": [
      "/media/jacqueline/Data/TSEvo/TSEvo/Problem.py:97: UserWarning: Implicit dimension choice for softmax has been deprecated. Change the call to include dim=X as an argument.\n",
      "  output = torch.nn.functional.softmax(self.model(input_)).detach().numpy()\n",
      "/media/jacqueline/Data/TSEvo/TSEvo/Problem.py:97: UserWarning: Implicit dimension choice for softmax has been deprecated. Change the call to include dim=X as an argument.\n",
      "  output = torch.nn.functional.softmax(self.model(input_)).detach().numpy()\n"
     ]
    },
    {
     "output_type": "stream",
     "name": "stdout",
     "text": [
      "125\t   \t100  \t0.139296  \t0  \t0.0843453 \t0.486426 \t0.0181865 \t0.0462575\t0.0703447\t0.109296\t0.0295184 \t0.04     \t0.0828667\t0.166667\n",
      "126\t   \t100  \t0.140154  \t0  \t0.0862971 \t0.486426 \t0.0182115 \t0.0462575\t0.069694 \t0.109296\t0.029597  \t0.04     \t0.0834667\t0.166667\n",
      "127\t   \t100  \t0.139519  \t0  \t0.0882798 \t0.486426 \t0.018676  \t0.0462575\t0.0698777\t0.109296\t0.0250954 \t0.04     \t0.0793333\t0.166667\n"
     ]
    },
    {
     "output_type": "stream",
     "name": "stderr",
     "text": [
      "/media/jacqueline/Data/TSEvo/TSEvo/Problem.py:97: UserWarning: Implicit dimension choice for softmax has been deprecated. Change the call to include dim=X as an argument.\n",
      "  output = torch.nn.functional.softmax(self.model(input_)).detach().numpy()\n",
      "/media/jacqueline/Data/TSEvo/TSEvo/Problem.py:97: UserWarning: Implicit dimension choice for softmax has been deprecated. Change the call to include dim=X as an argument.\n",
      "  output = torch.nn.functional.softmax(self.model(input_)).detach().numpy()\n"
     ]
    },
    {
     "output_type": "stream",
     "name": "stdout",
     "text": [
      "128\t   \t100  \t0.13677   \t0  \t0.0839077 \t0.487795 \t0.0184209 \t0.0459165\t0.0701706\t0.109296\t0.0253793 \t0.04     \t0.0782667\t0.166667\n",
      "129\t   \t100  \t0.142009  \t0  \t0.0909307 \t0.487795 \t0.018312  \t0.0459165\t0.0691192\t0.109296\t0.025822  \t0.04     \t0.0784   \t0.166667\n"
     ]
    },
    {
     "output_type": "stream",
     "name": "stderr",
     "text": [
      "/media/jacqueline/Data/TSEvo/TSEvo/Problem.py:97: UserWarning: Implicit dimension choice for softmax has been deprecated. Change the call to include dim=X as an argument.\n",
      "  output = torch.nn.functional.softmax(self.model(input_)).detach().numpy()\n",
      "/media/jacqueline/Data/TSEvo/TSEvo/Problem.py:97: UserWarning: Implicit dimension choice for softmax has been deprecated. Change the call to include dim=X as an argument.\n",
      "  output = torch.nn.functional.softmax(self.model(input_)).detach().numpy()\n"
     ]
    },
    {
     "output_type": "stream",
     "name": "stdout",
     "text": [
      "130\t   \t100  \t0.14088   \t0  \t0.0791993 \t0.487795 \t0.0180251 \t0.0459165\t0.0703706\t0.109296\t0.0278022 \t0.04     \t0.0785333\t0.166667\n",
      "131\t   \t100  \t0.141596  \t0  \t0.0816266 \t0.487795 \t0.0183709 \t0.0459165\t0.0704136\t0.109296\t0.0215137 \t0.04     \t0.0746   \t0.133333\n"
     ]
    },
    {
     "output_type": "stream",
     "name": "stderr",
     "text": [
      "/media/jacqueline/Data/TSEvo/TSEvo/Problem.py:97: UserWarning: Implicit dimension choice for softmax has been deprecated. Change the call to include dim=X as an argument.\n",
      "  output = torch.nn.functional.softmax(self.model(input_)).detach().numpy()\n",
      "/media/jacqueline/Data/TSEvo/TSEvo/Problem.py:97: UserWarning: Implicit dimension choice for softmax has been deprecated. Change the call to include dim=X as an argument.\n",
      "  output = torch.nn.functional.softmax(self.model(input_)).detach().numpy()\n",
      "/media/jacqueline/Data/TSEvo/TSEvo/Problem.py:97: UserWarning: Implicit dimension choice for softmax has been deprecated. Change the call to include dim=X as an argument.\n",
      "  output = torch.nn.functional.softmax(self.model(input_)).detach().numpy()\n",
      "/media/jacqueline/Data/TSEvo/TSEvo/Problem.py:97: UserWarning: Implicit dimension choice for softmax has been deprecated. Change the call to include dim=X as an argument.\n",
      "  output = torch.nn.functional.softmax(self.model(input_)).detach().numpy()\n"
     ]
    },
    {
     "output_type": "stream",
     "name": "stdout",
     "text": [
      "132\t   \t100  \t0.141389  \t0  \t0.0825058 \t0.487795 \t0.0186543 \t0.0459165\t0.07056  \t0.109296\t0.0219923 \t0.04     \t0.0749333\t0.133333\n",
      "133\t   \t100  \t0.142145  \t0  \t0.0813375 \t0.487795 \t0.018617  \t0.0459165\t0.0710419\t0.109296\t0.0230963 \t0.04     \t0.0749333\t0.133333\n",
      "134\t   \t100  \t0.141332  \t0  \t0.079555  \t0.487795 \t0.0185478 \t0.0459165\t0.0711099\t0.109296\t0.0231189 \t0.04     \t0.0747333\t0.133333\n"
     ]
    },
    {
     "output_type": "stream",
     "name": "stderr",
     "text": [
      "/media/jacqueline/Data/TSEvo/TSEvo/Problem.py:97: UserWarning: Implicit dimension choice for softmax has been deprecated. Change the call to include dim=X as an argument.\n",
      "  output = torch.nn.functional.softmax(self.model(input_)).detach().numpy()\n",
      "/media/jacqueline/Data/TSEvo/TSEvo/Problem.py:97: UserWarning: Implicit dimension choice for softmax has been deprecated. Change the call to include dim=X as an argument.\n",
      "  output = torch.nn.functional.softmax(self.model(input_)).detach().numpy()\n"
     ]
    },
    {
     "output_type": "stream",
     "name": "stdout",
     "text": [
      "135\t   \t100  \t0.14184   \t0  \t0.0821101 \t0.487795 \t0.0190505 \t0.0459165\t0.071532 \t0.109296\t0.0221967 \t0.04     \t0.0741333\t0.133333\n",
      "136\t   \t100  \t0.144369  \t0  \t0.0857739 \t0.487795 \t0.0190841 \t0.0459165\t0.071063 \t0.109296\t0.022451  \t0.04     \t0.0744667\t0.133333\n",
      "137\t   \t100  \t0.146729  \t0  \t0.0912348 \t0.487795 \t0.0190447 \t0.0459165\t0.0702303\t0.109296\t0.0213537 \t0.04     \t0.0734667\t0.133333\n",
      "138\t   \t100  \t0.129467  \t0  \t0.0736789 \t0.487795 \t0.0188025 \t0.0459165\t0.0714049\t0.109296\t0.0208908 \t0.04     \t0.0732   \t0.133333\n"
     ]
    },
    {
     "output_type": "stream",
     "name": "stderr",
     "text": [
      "/media/jacqueline/Data/TSEvo/TSEvo/Problem.py:97: UserWarning: Implicit dimension choice for softmax has been deprecated. Change the call to include dim=X as an argument.\n",
      "  output = torch.nn.functional.softmax(self.model(input_)).detach().numpy()\n",
      "/media/jacqueline/Data/TSEvo/TSEvo/Problem.py:97: UserWarning: Implicit dimension choice for softmax has been deprecated. Change the call to include dim=X as an argument.\n",
      "  output = torch.nn.functional.softmax(self.model(input_)).detach().numpy()\n",
      "/media/jacqueline/Data/TSEvo/TSEvo/Problem.py:97: UserWarning: Implicit dimension choice for softmax has been deprecated. Change the call to include dim=X as an argument.\n",
      "  output = torch.nn.functional.softmax(self.model(input_)).detach().numpy()\n"
     ]
    },
    {
     "output_type": "stream",
     "name": "stdout",
     "text": [
      "139\t   \t100  \t0.131223  \t0  \t0.0764567 \t0.487795 \t0.0189279 \t0.0459165\t0.0713051\t0.109296\t0.0221446 \t0.04     \t0.0738667\t0.14    \n",
      "140\t   \t100  \t0.129312  \t0  \t0.0718611 \t0.487795 \t0.0187142 \t0.0459165\t0.0715945\t0.109296\t0.0231873 \t0.04     \t0.0751333\t0.14    \n",
      "141\t   \t100  \t0.129264  \t0  \t0.0719551 \t0.487795 \t0.0185848 \t0.0459165\t0.0712606\t0.109296\t0.0231873 \t0.04     \t0.0751333\t0.14    \n"
     ]
    },
    {
     "output_type": "stream",
     "name": "stderr",
     "text": [
      "/media/jacqueline/Data/TSEvo/TSEvo/Problem.py:97: UserWarning: Implicit dimension choice for softmax has been deprecated. Change the call to include dim=X as an argument.\n",
      "  output = torch.nn.functional.softmax(self.model(input_)).detach().numpy()\n",
      "/media/jacqueline/Data/TSEvo/TSEvo/Problem.py:97: UserWarning: Implicit dimension choice for softmax has been deprecated. Change the call to include dim=X as an argument.\n",
      "  output = torch.nn.functional.softmax(self.model(input_)).detach().numpy()\n",
      "/media/jacqueline/Data/TSEvo/TSEvo/Problem.py:97: UserWarning: Implicit dimension choice for softmax has been deprecated. Change the call to include dim=X as an argument.\n",
      "  output = torch.nn.functional.softmax(self.model(input_)).detach().numpy()\n"
     ]
    },
    {
     "output_type": "stream",
     "name": "stdout",
     "text": [
      "142\t   \t100  \t0.129471  \t0  \t0.0687454 \t0.487795 \t0.0184138 \t0.0459165\t0.072199 \t0.109296\t0.0235003 \t0.04     \t0.0752667\t0.14    \n",
      "143\t   \t100  \t0.129269  \t0  \t0.07101   \t0.487795 \t0.0184595 \t0.0459165\t0.0715567\t0.109296\t0.0237397 \t0.04     \t0.0742667\t0.14    \n",
      "144\t   \t100  \t0.132461  \t0  \t0.0779479 \t0.487795 \t0.0184839 \t0.0459165\t0.0706592\t0.109296\t0.0244814 \t0.04     \t0.0728667\t0.14    \n"
     ]
    },
    {
     "output_type": "stream",
     "name": "stderr",
     "text": [
      "/media/jacqueline/Data/TSEvo/TSEvo/Problem.py:97: UserWarning: Implicit dimension choice for softmax has been deprecated. Change the call to include dim=X as an argument.\n",
      "  output = torch.nn.functional.softmax(self.model(input_)).detach().numpy()\n",
      "/media/jacqueline/Data/TSEvo/TSEvo/Problem.py:97: UserWarning: Implicit dimension choice for softmax has been deprecated. Change the call to include dim=X as an argument.\n",
      "  output = torch.nn.functional.softmax(self.model(input_)).detach().numpy()\n",
      "/media/jacqueline/Data/TSEvo/TSEvo/Problem.py:97: UserWarning: Implicit dimension choice for softmax has been deprecated. Change the call to include dim=X as an argument.\n",
      "  output = torch.nn.functional.softmax(self.model(input_)).detach().numpy()\n"
     ]
    },
    {
     "output_type": "stream",
     "name": "stdout",
     "text": [
      "145\t   \t100  \t0.136464  \t0  \t0.0863177 \t0.487795 \t0.0188369 \t0.0459165\t0.0699058\t0.109296\t0.0251583 \t0.04     \t0.0722   \t0.14    \n",
      "146\t   \t100  \t0.136304  \t0  \t0.087128  \t0.487795 \t0.0188543 \t0.0459165\t0.0697743\t0.109296\t0.0233485 \t0.04     \t0.0714   \t0.133333\n"
     ]
    },
    {
     "output_type": "stream",
     "name": "stderr",
     "text": [
      "/media/jacqueline/Data/TSEvo/TSEvo/Problem.py:97: UserWarning: Implicit dimension choice for softmax has been deprecated. Change the call to include dim=X as an argument.\n",
      "  output = torch.nn.functional.softmax(self.model(input_)).detach().numpy()\n",
      "/media/jacqueline/Data/TSEvo/TSEvo/Problem.py:97: UserWarning: Implicit dimension choice for softmax has been deprecated. Change the call to include dim=X as an argument.\n",
      "  output = torch.nn.functional.softmax(self.model(input_)).detach().numpy()\n",
      "/media/jacqueline/Data/TSEvo/TSEvo/Problem.py:97: UserWarning: Implicit dimension choice for softmax has been deprecated. Change the call to include dim=X as an argument.\n",
      "  output = torch.nn.functional.softmax(self.model(input_)).detach().numpy()\n",
      "/media/jacqueline/Data/TSEvo/TSEvo/Problem.py:97: UserWarning: Implicit dimension choice for softmax has been deprecated. Change the call to include dim=X as an argument.\n",
      "  output = torch.nn.functional.softmax(self.model(input_)).detach().numpy()\n",
      "/media/jacqueline/Data/TSEvo/TSEvo/Problem.py:97: UserWarning: Implicit dimension choice for softmax has been deprecated. Change the call to include dim=X as an argument.\n",
      "  output = torch.nn.functional.softmax(self.model(input_)).detach().numpy()\n"
     ]
    },
    {
     "output_type": "stream",
     "name": "stdout",
     "text": [
      "147\t   \t100  \t0.140152  \t0  \t0.0900394 \t0.487795 \t0.0188489 \t0.0459165\t0.069674 \t0.109296\t0.0221986 \t0.04     \t0.0696667\t0.133333\n",
      "148\t   \t100  \t0.139896  \t0  \t0.0903321 \t0.487795 \t0.0189998 \t0.0459165\t0.0697635\t0.109296\t0.0234586 \t0.04     \t0.0706   \t0.133333\n",
      "149\t   \t100  \t0.14546   \t0  \t0.096107  \t0.491442 \t0.018819  \t0.0457256\t0.0690163\t0.109296\t0.0240069 \t0.04     \t0.071    \t0.133333\n",
      "150\t   \t100  \t0.145462  \t0  \t0.0961036 \t0.491442 \t0.0189523 \t0.0457256\t0.0691732\t0.109296\t0.0235196 \t0.04     \t0.0704   \t0.133333\n"
     ]
    },
    {
     "output_type": "stream",
     "name": "stderr",
     "text": [
      "/media/jacqueline/Data/TSEvo/TSEvo/Problem.py:97: UserWarning: Implicit dimension choice for softmax has been deprecated. Change the call to include dim=X as an argument.\n",
      "  output = torch.nn.functional.softmax(self.model(input_)).detach().numpy()\n",
      "/media/jacqueline/Data/TSEvo/TSEvo/Problem.py:97: UserWarning: Implicit dimension choice for softmax has been deprecated. Change the call to include dim=X as an argument.\n",
      "  output = torch.nn.functional.softmax(self.model(input_)).detach().numpy()\n"
     ]
    },
    {
     "output_type": "stream",
     "name": "stdout",
     "text": [
      "151\t   \t100  \t0.125744  \t0  \t0.0801627 \t0.464188 \t0.0186627 \t0.0452802\t0.0700884\t0.109296\t0.0235396 \t0.04     \t0.0703333\t0.133333\n",
      "152\t   \t100  \t0.134197  \t0  \t0.088309  \t0.464188 \t0.0186367 \t0.0452802\t0.0692436\t0.109296\t0.0246283 \t0.04     \t0.0716667\t0.133333\n",
      "153\t   \t100  \t0.134702  \t0  \t0.0846108 \t0.464188 \t0.0188563 \t0.0452802\t0.0701851\t0.109296\t0.0246847 \t0.04     \t0.0713333\t0.133333\n"
     ]
    },
    {
     "output_type": "stream",
     "name": "stderr",
     "text": [
      "/media/jacqueline/Data/TSEvo/TSEvo/Problem.py:97: UserWarning: Implicit dimension choice for softmax has been deprecated. Change the call to include dim=X as an argument.\n",
      "  output = torch.nn.functional.softmax(self.model(input_)).detach().numpy()\n",
      "/media/jacqueline/Data/TSEvo/TSEvo/Problem.py:97: UserWarning: Implicit dimension choice for softmax has been deprecated. Change the call to include dim=X as an argument.\n",
      "  output = torch.nn.functional.softmax(self.model(input_)).detach().numpy()\n"
     ]
    },
    {
     "output_type": "stream",
     "name": "stdout",
     "text": [
      "154\t   \t100  \t0.135433  \t0  \t0.0885856 \t0.464188 \t0.0187704 \t0.0452802\t0.0691472\t0.109296\t0.0246486 \t0.04     \t0.07     \t0.133333\n",
      "155\t   \t100  \t0.135457  \t0  \t0.0886112 \t0.464188 \t0.0186804 \t0.0452802\t0.0689544\t0.109296\t0.0247737 \t0.04     \t0.0698   \t0.133333\n",
      "156\t   \t100  \t0.13301   \t0  \t0.0873172 \t0.464188 \t0.018445  \t0.0452802\t0.0687832\t0.109296\t0.024038  \t0.04     \t0.0688667\t0.133333\n"
     ]
    },
    {
     "output_type": "stream",
     "name": "stderr",
     "text": [
      "/media/jacqueline/Data/TSEvo/TSEvo/Problem.py:97: UserWarning: Implicit dimension choice for softmax has been deprecated. Change the call to include dim=X as an argument.\n",
      "  output = torch.nn.functional.softmax(self.model(input_)).detach().numpy()\n",
      "/media/jacqueline/Data/TSEvo/TSEvo/Problem.py:97: UserWarning: Implicit dimension choice for softmax has been deprecated. Change the call to include dim=X as an argument.\n",
      "  output = torch.nn.functional.softmax(self.model(input_)).detach().numpy()\n",
      "/media/jacqueline/Data/TSEvo/TSEvo/Problem.py:97: UserWarning: Implicit dimension choice for softmax has been deprecated. Change the call to include dim=X as an argument.\n",
      "  output = torch.nn.functional.softmax(self.model(input_)).detach().numpy()\n"
     ]
    },
    {
     "output_type": "stream",
     "name": "stdout",
     "text": [
      "157\t   \t100  \t0.132581  \t0  \t0.0894671 \t0.464188 \t0.0190243 \t0.0452802\t0.0690252\t0.109296\t0.0238473 \t0.04     \t0.0692   \t0.133333\n",
      "158\t   \t100  \t0.132748  \t0  \t0.0911752 \t0.464188 \t0.0189281 \t0.0452802\t0.0684691\t0.109296\t0.0244728 \t0.04     \t0.0692   \t0.133333\n",
      "159\t   \t100  \t0.132799  \t0  \t0.0910988 \t0.464188 \t0.0190001 \t0.0452802\t0.0687025\t0.109296\t0.0244814 \t0.04     \t0.0695333\t0.133333\n"
     ]
    },
    {
     "output_type": "stream",
     "name": "stderr",
     "text": [
      "/media/jacqueline/Data/TSEvo/TSEvo/Problem.py:97: UserWarning: Implicit dimension choice for softmax has been deprecated. Change the call to include dim=X as an argument.\n",
      "  output = torch.nn.functional.softmax(self.model(input_)).detach().numpy()\n",
      "/media/jacqueline/Data/TSEvo/TSEvo/Problem.py:97: UserWarning: Implicit dimension choice for softmax has been deprecated. Change the call to include dim=X as an argument.\n",
      "  output = torch.nn.functional.softmax(self.model(input_)).detach().numpy()\n",
      "/media/jacqueline/Data/TSEvo/TSEvo/Problem.py:97: UserWarning: Implicit dimension choice for softmax has been deprecated. Change the call to include dim=X as an argument.\n",
      "  output = torch.nn.functional.softmax(self.model(input_)).detach().numpy()\n"
     ]
    },
    {
     "output_type": "stream",
     "name": "stdout",
     "text": [
      "160\t   \t100  \t0.136284  \t0  \t0.0948481 \t0.464188 \t0.019086  \t0.0452802\t0.0686029\t0.109296\t0.0242831 \t0.04     \t0.0696667\t0.133333\n",
      "161\t   \t100  \t0.135856  \t0  \t0.0965692 \t0.464188 \t0.0186933 \t0.0452802\t0.0678584\t0.109296\t0.0240254 \t0.04     \t0.0703333\t0.133333\n"
     ]
    },
    {
     "output_type": "stream",
     "name": "stderr",
     "text": [
      "/media/jacqueline/Data/TSEvo/TSEvo/Problem.py:97: UserWarning: Implicit dimension choice for softmax has been deprecated. Change the call to include dim=X as an argument.\n",
      "  output = torch.nn.functional.softmax(self.model(input_)).detach().numpy()\n",
      "/media/jacqueline/Data/TSEvo/TSEvo/Problem.py:97: UserWarning: Implicit dimension choice for softmax has been deprecated. Change the call to include dim=X as an argument.\n",
      "  output = torch.nn.functional.softmax(self.model(input_)).detach().numpy()\n"
     ]
    },
    {
     "output_type": "stream",
     "name": "stdout",
     "text": [
      "162\t   \t100  \t0.136556  \t0  \t0.0990473 \t0.464188 \t0.0188118 \t0.0452802\t0.0675151\t0.109296\t0.0241573 \t0.04     \t0.0709333\t0.133333\n",
      "163\t   \t100  \t0.120832  \t0  \t0.0830722 \t0.464188 \t0.0184517 \t0.0452802\t0.0685266\t0.109296\t0.0261798 \t0.04     \t0.0722   \t0.166667\n",
      "164\t   \t100  \t0.124252  \t0  \t0.0862622 \t0.464188 \t0.0182353 \t0.0452802\t0.0679516\t0.109296\t0.0275652 \t0.04     \t0.0729333\t0.166667\n"
     ]
    },
    {
     "output_type": "stream",
     "name": "stderr",
     "text": [
      "/media/jacqueline/Data/TSEvo/TSEvo/Problem.py:97: UserWarning: Implicit dimension choice for softmax has been deprecated. Change the call to include dim=X as an argument.\n",
      "  output = torch.nn.functional.softmax(self.model(input_)).detach().numpy()\n",
      "/media/jacqueline/Data/TSEvo/TSEvo/Problem.py:97: UserWarning: Implicit dimension choice for softmax has been deprecated. Change the call to include dim=X as an argument.\n",
      "  output = torch.nn.functional.softmax(self.model(input_)).detach().numpy()\n",
      "/media/jacqueline/Data/TSEvo/TSEvo/Problem.py:97: UserWarning: Implicit dimension choice for softmax has been deprecated. Change the call to include dim=X as an argument.\n",
      "  output = torch.nn.functional.softmax(self.model(input_)).detach().numpy()\n",
      "/media/jacqueline/Data/TSEvo/TSEvo/Problem.py:97: UserWarning: Implicit dimension choice for softmax has been deprecated. Change the call to include dim=X as an argument.\n",
      "  output = torch.nn.functional.softmax(self.model(input_)).detach().numpy()\n"
     ]
    },
    {
     "output_type": "stream",
     "name": "stdout",
     "text": [
      "165\t   \t100  \t0.128224  \t0  \t0.0892338 \t0.464188 \t0.0188164 \t0.0452802\t0.0682853\t0.109296\t0.0279841 \t0.04     \t0.0733333\t0.166667\n",
      "166\t   \t100  \t0.121197  \t0  \t0.0817114 \t0.464188 \t0.01865   \t0.0452802\t0.0687201\t0.109296\t0.028157  \t0.04     \t0.0736   \t0.166667\n"
     ]
    },
    {
     "output_type": "stream",
     "name": "stderr",
     "text": [
      "/media/jacqueline/Data/TSEvo/TSEvo/Problem.py:97: UserWarning: Implicit dimension choice for softmax has been deprecated. Change the call to include dim=X as an argument.\n",
      "  output = torch.nn.functional.softmax(self.model(input_)).detach().numpy()\n",
      "/media/jacqueline/Data/TSEvo/TSEvo/Problem.py:97: UserWarning: Implicit dimension choice for softmax has been deprecated. Change the call to include dim=X as an argument.\n",
      "  output = torch.nn.functional.softmax(self.model(input_)).detach().numpy()\n"
     ]
    },
    {
     "output_type": "stream",
     "name": "stdout",
     "text": [
      "167\t   \t100  \t0.123625  \t0  \t0.0858447 \t0.464188 \t0.0187693 \t0.0452802\t0.0681944\t0.109296\t0.0293679 \t0.04     \t0.0741333\t0.166667\n",
      "168\t   \t100  \t0.122726  \t0  \t0.0815707 \t0.464188 \t0.0192831 \t0.0452802\t0.0695085\t0.109296\t0.0302854 \t0.04     \t0.0751333\t0.166667\n",
      "169\t   \t100  \t0.122771  \t0  \t0.0814994 \t0.464188 \t0.0192709 \t0.0452802\t0.0695712\t0.109296\t0.0298631 \t0.04     \t0.0741333\t0.166667\n",
      "170\t   \t100  \t0.123344  \t0  \t0.0816322 \t0.464188 \t0.0189056 \t0.0452802\t0.0693496\t0.109296\t0.0309892 \t0.04     \t0.075    \t0.166667\n"
     ]
    },
    {
     "output_type": "stream",
     "name": "stderr",
     "text": [
      "/media/jacqueline/Data/TSEvo/TSEvo/Problem.py:97: UserWarning: Implicit dimension choice for softmax has been deprecated. Change the call to include dim=X as an argument.\n",
      "  output = torch.nn.functional.softmax(self.model(input_)).detach().numpy()\n",
      "/media/jacqueline/Data/TSEvo/TSEvo/Problem.py:97: UserWarning: Implicit dimension choice for softmax has been deprecated. Change the call to include dim=X as an argument.\n",
      "  output = torch.nn.functional.softmax(self.model(input_)).detach().numpy()\n",
      "/media/jacqueline/Data/TSEvo/TSEvo/Problem.py:97: UserWarning: Implicit dimension choice for softmax has been deprecated. Change the call to include dim=X as an argument.\n",
      "  output = torch.nn.functional.softmax(self.model(input_)).detach().numpy()\n"
     ]
    },
    {
     "output_type": "stream",
     "name": "stdout",
     "text": [
      "171\t   \t100  \t0.128345  \t0  \t0.090372  \t0.464188 \t0.018999  \t0.0452802\t0.0682988\t0.109296\t0.0283941 \t0.04     \t0.0733333\t0.16    \n",
      "172\t   \t100  \t0.130618  \t0  \t0.0937797 \t0.464188 \t0.0186819 \t0.0452802\t0.0677513\t0.109296\t0.0269765 \t0.04     \t0.0720667\t0.16    \n",
      "173\t   \t100  \t0.133516  \t0  \t0.0969607 \t0.464188 \t0.0194434 \t0.0452802\t0.068391 \t0.109296\t0.0277509 \t0.04     \t0.073    \t0.16    \n"
     ]
    },
    {
     "output_type": "stream",
     "name": "stderr",
     "text": [
      "/media/jacqueline/Data/TSEvo/TSEvo/Problem.py:97: UserWarning: Implicit dimension choice for softmax has been deprecated. Change the call to include dim=X as an argument.\n",
      "  output = torch.nn.functional.softmax(self.model(input_)).detach().numpy()\n",
      "/media/jacqueline/Data/TSEvo/TSEvo/Problem.py:97: UserWarning: Implicit dimension choice for softmax has been deprecated. Change the call to include dim=X as an argument.\n",
      "  output = torch.nn.functional.softmax(self.model(input_)).detach().numpy()\n",
      "/media/jacqueline/Data/TSEvo/TSEvo/Problem.py:97: UserWarning: Implicit dimension choice for softmax has been deprecated. Change the call to include dim=X as an argument.\n",
      "  output = torch.nn.functional.softmax(self.model(input_)).detach().numpy()\n"
     ]
    },
    {
     "output_type": "stream",
     "name": "stdout",
     "text": [
      "174\t   \t100  \t0.134142  \t0  \t0.0996037 \t0.464188 \t0.0195303 \t0.0452802\t0.0680639\t0.109296\t0.0282726 \t0.04     \t0.0728667\t0.16    \n",
      "175\t   \t100  \t0.134392  \t0  \t0.0983955 \t0.464188 \t0.0192896 \t0.0452802\t0.0679256\t0.109296\t0.0293033 \t0.04     \t0.0742667\t0.16    \n",
      "176\t   \t100  \t0.1343    \t0  \t0.100329  \t0.464188 \t0.0193005 \t0.0452802\t0.067546 \t0.109296\t0.0289271 \t0.04     \t0.0743333\t0.16    \n"
     ]
    },
    {
     "output_type": "stream",
     "name": "stderr",
     "text": [
      "/media/jacqueline/Data/TSEvo/TSEvo/Problem.py:97: UserWarning: Implicit dimension choice for softmax has been deprecated. Change the call to include dim=X as an argument.\n",
      "  output = torch.nn.functional.softmax(self.model(input_)).detach().numpy()\n",
      "/media/jacqueline/Data/TSEvo/TSEvo/Problem.py:97: UserWarning: Implicit dimension choice for softmax has been deprecated. Change the call to include dim=X as an argument.\n",
      "  output = torch.nn.functional.softmax(self.model(input_)).detach().numpy()\n",
      "/media/jacqueline/Data/TSEvo/TSEvo/Problem.py:97: UserWarning: Implicit dimension choice for softmax has been deprecated. Change the call to include dim=X as an argument.\n",
      "  output = torch.nn.functional.softmax(self.model(input_)).detach().numpy()\n",
      "/media/jacqueline/Data/TSEvo/TSEvo/Problem.py:97: UserWarning: Implicit dimension choice for softmax has been deprecated. Change the call to include dim=X as an argument.\n",
      "  output = torch.nn.functional.softmax(self.model(input_)).detach().numpy()\n"
     ]
    },
    {
     "output_type": "stream",
     "name": "stdout",
     "text": [
      "177\t   \t100  \t0.134368  \t0  \t0.0982512 \t0.464188 \t0.0194074 \t0.0452802\t0.0680022\t0.109296\t0.0295447 \t0.04     \t0.0746667\t0.16    \n",
      "178\t   \t100  \t0.137606  \t0  \t0.101927  \t0.464188 \t0.0195025 \t0.0452802\t0.067878 \t0.109296\t0.0310197 \t0.04     \t0.0753333\t0.16    \n"
     ]
    },
    {
     "output_type": "stream",
     "name": "stderr",
     "text": [
      "/media/jacqueline/Data/TSEvo/TSEvo/Problem.py:97: UserWarning: Implicit dimension choice for softmax has been deprecated. Change the call to include dim=X as an argument.\n",
      "  output = torch.nn.functional.softmax(self.model(input_)).detach().numpy()\n",
      "/media/jacqueline/Data/TSEvo/TSEvo/Problem.py:97: UserWarning: Implicit dimension choice for softmax has been deprecated. Change the call to include dim=X as an argument.\n",
      "  output = torch.nn.functional.softmax(self.model(input_)).detach().numpy()\n"
     ]
    },
    {
     "output_type": "stream",
     "name": "stdout",
     "text": [
      "179\t   \t100  \t0.134387  \t0  \t0.0982997 \t0.464188 \t0.0194264 \t0.0452802\t0.0680036\t0.109296\t0.0307878 \t0.04     \t0.0743333\t0.16    \n",
      "180\t   \t100  \t0.137312  \t0  \t0.102446  \t0.464188 \t0.0193222 \t0.0452802\t0.0673594\t0.109296\t0.0317862 \t0.04     \t0.0742   \t0.18    \n",
      "181\t   \t100  \t0.137612  \t0  \t0.10445   \t0.464188 \t0.0194896 \t0.0452802\t0.0674702\t0.109296\t0.0333491 \t0.04     \t0.0772   \t0.18    \n",
      "182\t   \t100  \t0.138378  \t0  \t0.107286  \t0.464188 \t0.0195452 \t0.0452802\t0.0672053\t0.109296\t0.0322128 \t0.04     \t0.0763333\t0.18    \n"
     ]
    },
    {
     "output_type": "stream",
     "name": "stderr",
     "text": [
      "/media/jacqueline/Data/TSEvo/TSEvo/Problem.py:97: UserWarning: Implicit dimension choice for softmax has been deprecated. Change the call to include dim=X as an argument.\n",
      "  output = torch.nn.functional.softmax(self.model(input_)).detach().numpy()\n",
      "/media/jacqueline/Data/TSEvo/TSEvo/Problem.py:97: UserWarning: Implicit dimension choice for softmax has been deprecated. Change the call to include dim=X as an argument.\n",
      "  output = torch.nn.functional.softmax(self.model(input_)).detach().numpy()\n",
      "/media/jacqueline/Data/TSEvo/TSEvo/Problem.py:97: UserWarning: Implicit dimension choice for softmax has been deprecated. Change the call to include dim=X as an argument.\n",
      "  output = torch.nn.functional.softmax(self.model(input_)).detach().numpy()\n"
     ]
    },
    {
     "output_type": "stream",
     "name": "stdout",
     "text": [
      "183\t   \t100  \t0.141175  \t0  \t0.110961  \t0.464188 \t0.0195917 \t0.0452802\t0.0670872\t0.109296\t0.0327465 \t0.04     \t0.0776667\t0.18    \n",
      "184\t   \t100  \t0.141584  \t0  \t0.105118  \t0.464188 \t0.0194859 \t0.0452802\t0.0678518\t0.109296\t0.0344942 \t0.04     \t0.0785333\t0.18    \n"
     ]
    },
    {
     "output_type": "stream",
     "name": "stderr",
     "text": [
      "/media/jacqueline/Data/TSEvo/TSEvo/Problem.py:97: UserWarning: Implicit dimension choice for softmax has been deprecated. Change the call to include dim=X as an argument.\n",
      "  output = torch.nn.functional.softmax(self.model(input_)).detach().numpy()\n",
      "/media/jacqueline/Data/TSEvo/TSEvo/Problem.py:97: UserWarning: Implicit dimension choice for softmax has been deprecated. Change the call to include dim=X as an argument.\n",
      "  output = torch.nn.functional.softmax(self.model(input_)).detach().numpy()\n"
     ]
    },
    {
     "output_type": "stream",
     "name": "stdout",
     "text": [
      "185\t   \t100  \t0.141658  \t0  \t0.105014  \t0.464188 \t0.0196214 \t0.0452802\t0.0681985\t0.109296\t0.036235  \t0.04     \t0.0806   \t0.18    \n",
      "186\t   \t100  \t0.133843  \t0  \t0.0935024 \t0.464188 \t0.0193336 \t0.0452802\t0.0690426\t0.109296\t0.0354212 \t0.04     \t0.0799333\t0.18    \n",
      "187\t   \t100  \t0.13303   \t0  \t0.0911447 \t0.464188 \t0.0191679 \t0.0452802\t0.0689443\t0.109296\t0.036119  \t0.04     \t0.0824667\t0.18    \n"
     ]
    },
    {
     "output_type": "stream",
     "name": "stderr",
     "text": [
      "/media/jacqueline/Data/TSEvo/TSEvo/Problem.py:97: UserWarning: Implicit dimension choice for softmax has been deprecated. Change the call to include dim=X as an argument.\n",
      "  output = torch.nn.functional.softmax(self.model(input_)).detach().numpy()\n",
      "/media/jacqueline/Data/TSEvo/TSEvo/Problem.py:97: UserWarning: Implicit dimension choice for softmax has been deprecated. Change the call to include dim=X as an argument.\n",
      "  output = torch.nn.functional.softmax(self.model(input_)).detach().numpy()\n",
      "/media/jacqueline/Data/TSEvo/TSEvo/Problem.py:97: UserWarning: Implicit dimension choice for softmax has been deprecated. Change the call to include dim=X as an argument.\n",
      "  output = torch.nn.functional.softmax(self.model(input_)).detach().numpy()\n"
     ]
    },
    {
     "output_type": "stream",
     "name": "stdout",
     "text": [
      "188\t   \t100  \t0.138199  \t0  \t0.0984373 \t0.464188 \t0.0192504 \t0.0452802\t0.0680184\t0.109296\t0.0362855 \t0.04     \t0.0822667\t0.18    \n",
      "189\t   \t100  \t0.138119  \t0  \t0.0985716 \t0.464188 \t0.0192279 \t0.0452802\t0.0679174\t0.109296\t0.0359083 \t0.04     \t0.0814667\t0.18    \n"
     ]
    },
    {
     "output_type": "stream",
     "name": "stderr",
     "text": [
      "/media/jacqueline/Data/TSEvo/TSEvo/Problem.py:97: UserWarning: Implicit dimension choice for softmax has been deprecated. Change the call to include dim=X as an argument.\n",
      "  output = torch.nn.functional.softmax(self.model(input_)).detach().numpy()\n",
      "/media/jacqueline/Data/TSEvo/TSEvo/Problem.py:97: UserWarning: Implicit dimension choice for softmax has been deprecated. Change the call to include dim=X as an argument.\n",
      "  output = torch.nn.functional.softmax(self.model(input_)).detach().numpy()\n",
      "/media/jacqueline/Data/TSEvo/TSEvo/Problem.py:97: UserWarning: Implicit dimension choice for softmax has been deprecated. Change the call to include dim=X as an argument.\n",
      "  output = torch.nn.functional.softmax(self.model(input_)).detach().numpy()\n",
      "/media/jacqueline/Data/TSEvo/TSEvo/Problem.py:97: UserWarning: Implicit dimension choice for softmax has been deprecated. Change the call to include dim=X as an argument.\n",
      "  output = torch.nn.functional.softmax(self.model(input_)).detach().numpy()\n"
     ]
    },
    {
     "output_type": "stream",
     "name": "stdout",
     "text": [
      "190\t   \t100  \t0.137624  \t0  \t0.101275  \t0.464188 \t0.0192953 \t0.0452802\t0.0672649\t0.109296\t0.0346669 \t0.04     \t0.0790667\t0.18    \n",
      "191\t   \t100  \t0.140191  \t0  \t0.101709  \t0.464188 \t0.0194211 \t0.0452802\t0.0681922\t0.109296\t0.0351962 \t0.04     \t0.0817333\t0.18    \n",
      "192\t   \t100  \t0.140056  \t0  \t0.101951  \t0.464188 \t0.0194178 \t0.0452802\t0.0681486\t0.109296\t0.0357261 \t0.04     \t0.0807333\t0.213333\n",
      "193\t   \t100  \t0.138768  \t0  \t0.100939  \t0.464188 \t0.019413  \t0.0452802\t0.0678285\t0.109296\t0.0384511 \t0.04     \t0.0819333\t0.213333\n"
     ]
    },
    {
     "output_type": "stream",
     "name": "stderr",
     "text": [
      "/media/jacqueline/Data/TSEvo/TSEvo/Problem.py:97: UserWarning: Implicit dimension choice for softmax has been deprecated. Change the call to include dim=X as an argument.\n",
      "  output = torch.nn.functional.softmax(self.model(input_)).detach().numpy()\n",
      "/media/jacqueline/Data/TSEvo/TSEvo/Problem.py:97: UserWarning: Implicit dimension choice for softmax has been deprecated. Change the call to include dim=X as an argument.\n",
      "  output = torch.nn.functional.softmax(self.model(input_)).detach().numpy()\n"
     ]
    },
    {
     "output_type": "stream",
     "name": "stdout",
     "text": [
      "194\t   \t100  \t0.140895  \t0  \t0.103006  \t0.464188 \t0.0194565 \t0.0452802\t0.0677802\t0.109296\t0.0385665 \t0.04     \t0.0814   \t0.213333\n",
      "195\t   \t100  \t0.140401  \t0  \t0.101951  \t0.464188 \t0.0197982 \t0.0452802\t0.0683396\t0.109296\t0.0389806 \t0.04     \t0.0836   \t0.213333\n"
     ]
    },
    {
     "output_type": "stream",
     "name": "stderr",
     "text": [
      "/media/jacqueline/Data/TSEvo/TSEvo/Problem.py:97: UserWarning: Implicit dimension choice for softmax has been deprecated. Change the call to include dim=X as an argument.\n",
      "  output = torch.nn.functional.softmax(self.model(input_)).detach().numpy()\n",
      "/media/jacqueline/Data/TSEvo/TSEvo/Problem.py:97: UserWarning: Implicit dimension choice for softmax has been deprecated. Change the call to include dim=X as an argument.\n",
      "  output = torch.nn.functional.softmax(self.model(input_)).detach().numpy()\n"
     ]
    },
    {
     "output_type": "stream",
     "name": "stdout",
     "text": [
      "196\t   \t100  \t0.140574  \t0  \t0.0998657 \t0.464188 \t0.019768  \t0.0452802\t0.0688153\t0.109296\t0.0395214 \t0.04     \t0.0838667\t0.213333\n",
      "197\t   \t100  \t0.140275  \t0  \t0.101905  \t0.464188 \t0.0196464 \t0.0452802\t0.0680863\t0.109296\t0.0398648 \t0.04     \t0.0848667\t0.213333\n"
     ]
    },
    {
     "output_type": "stream",
     "name": "stderr",
     "text": [
      "/media/jacqueline/Data/TSEvo/TSEvo/Problem.py:97: UserWarning: Implicit dimension choice for softmax has been deprecated. Change the call to include dim=X as an argument.\n",
      "  output = torch.nn.functional.softmax(self.model(input_)).detach().numpy()\n",
      "/media/jacqueline/Data/TSEvo/TSEvo/Problem.py:97: UserWarning: Implicit dimension choice for softmax has been deprecated. Change the call to include dim=X as an argument.\n",
      "  output = torch.nn.functional.softmax(self.model(input_)).detach().numpy()\n",
      "/media/jacqueline/Data/TSEvo/TSEvo/Problem.py:97: UserWarning: Implicit dimension choice for softmax has been deprecated. Change the call to include dim=X as an argument.\n",
      "  output = torch.nn.functional.softmax(self.model(input_)).detach().numpy()\n",
      "/media/jacqueline/Data/TSEvo/TSEvo/Problem.py:97: UserWarning: Implicit dimension choice for softmax has been deprecated. Change the call to include dim=X as an argument.\n",
      "  output = torch.nn.functional.softmax(self.model(input_)).detach().numpy()\n"
     ]
    },
    {
     "output_type": "stream",
     "name": "stdout",
     "text": [
      "198\t   \t100  \t0.141648  \t0  \t0.100863  \t0.464188 \t0.0196708 \t0.0452802\t0.0685557\t0.109296\t0.0394358 \t0.04     \t0.0852   \t0.213333\n",
      "199\t   \t100  \t0.14236   \t0  \t0.0991169 \t0.464188 \t0.0196714 \t0.0452802\t0.0689365\t0.109296\t0.0397827 \t0.04     \t0.0846667\t0.213333\n",
      "200\t   \t100  \t0.143393  \t0  \t0.101457  \t0.464188 \t0.0198279 \t0.0452802\t0.0691041\t0.109296\t0.0413011 \t0.04     \t0.0853333\t0.213333\n",
      "201\t   \t100  \t0.143332  \t0  \t0.101547  \t0.464188 \t0.0198685 \t0.0452802\t0.0690232\t0.109296\t0.0425099 \t0.04     \t0.0868   \t0.213333\n"
     ]
    },
    {
     "output_type": "stream",
     "name": "stderr",
     "text": [
      "/media/jacqueline/Data/TSEvo/TSEvo/Problem.py:97: UserWarning: Implicit dimension choice for softmax has been deprecated. Change the call to include dim=X as an argument.\n",
      "  output = torch.nn.functional.softmax(self.model(input_)).detach().numpy()\n",
      "/media/jacqueline/Data/TSEvo/TSEvo/Problem.py:97: UserWarning: Implicit dimension choice for softmax has been deprecated. Change the call to include dim=X as an argument.\n",
      "  output = torch.nn.functional.softmax(self.model(input_)).detach().numpy()\n"
     ]
    },
    {
     "output_type": "stream",
     "name": "stdout",
     "text": [
      "202\t   \t100  \t0.143457  \t0  \t0.0997248 \t0.464188 \t0.019429  \t0.0452802\t0.0691034\t0.109296\t0.0448351 \t0.04     \t0.0898   \t0.213333\n",
      "203\t   \t100  \t0.143287  \t0  \t0.101439  \t0.464188 \t0.01972   \t0.0452802\t0.069014 \t0.109296\t0.0450589 \t0.04     \t0.0894   \t0.213333\n"
     ]
    },
    {
     "output_type": "stream",
     "name": "stderr",
     "text": [
      "/media/jacqueline/Data/TSEvo/TSEvo/Problem.py:97: UserWarning: Implicit dimension choice for softmax has been deprecated. Change the call to include dim=X as an argument.\n",
      "  output = torch.nn.functional.softmax(self.model(input_)).detach().numpy()\n",
      "/media/jacqueline/Data/TSEvo/TSEvo/Problem.py:97: UserWarning: Implicit dimension choice for softmax has been deprecated. Change the call to include dim=X as an argument.\n",
      "  output = torch.nn.functional.softmax(self.model(input_)).detach().numpy()\n"
     ]
    },
    {
     "output_type": "stream",
     "name": "stdout",
     "text": [
      "204\t   \t100  \t0.143174  \t0  \t0.1016    \t0.464188 \t0.0197379 \t0.0452802\t0.0687918\t0.109296\t0.0455341 \t0.04     \t0.0890667\t0.213333\n",
      "205\t   \t100  \t0.143226  \t0  \t0.1017    \t0.464188 \t0.0197544 \t0.0452802\t0.0688006\t0.109296\t0.0460664 \t0.04     \t0.0903333\t0.213333\n"
     ]
    },
    {
     "output_type": "stream",
     "name": "stderr",
     "text": [
      "/media/jacqueline/Data/TSEvo/TSEvo/Problem.py:97: UserWarning: Implicit dimension choice for softmax has been deprecated. Change the call to include dim=X as an argument.\n",
      "  output = torch.nn.functional.softmax(self.model(input_)).detach().numpy()\n",
      "/media/jacqueline/Data/TSEvo/TSEvo/Problem.py:97: UserWarning: Implicit dimension choice for softmax has been deprecated. Change the call to include dim=X as an argument.\n",
      "  output = torch.nn.functional.softmax(self.model(input_)).detach().numpy()\n"
     ]
    },
    {
     "output_type": "stream",
     "name": "stdout",
     "text": [
      "206\t   \t100  \t0.143261  \t0  \t0.101662  \t0.464188 \t0.0198438 \t0.0452802\t0.0690632\t0.109296\t0.0460374 \t0.04     \t0.091    \t0.213333\n",
      "207\t   \t100  \t0.143276  \t0  \t0.101638  \t0.464188 \t0.0197373 \t0.0452802\t0.0690269\t0.109296\t0.0455787 \t0.04     \t0.0906   \t0.213333\n"
     ]
    },
    {
     "output_type": "stream",
     "name": "stderr",
     "text": [
      "/media/jacqueline/Data/TSEvo/TSEvo/Problem.py:97: UserWarning: Implicit dimension choice for softmax has been deprecated. Change the call to include dim=X as an argument.\n",
      "  output = torch.nn.functional.softmax(self.model(input_)).detach().numpy()\n",
      "/media/jacqueline/Data/TSEvo/TSEvo/Problem.py:97: UserWarning: Implicit dimension choice for softmax has been deprecated. Change the call to include dim=X as an argument.\n",
      "  output = torch.nn.functional.softmax(self.model(input_)).detach().numpy()\n",
      "/media/jacqueline/Data/TSEvo/TSEvo/Problem.py:97: UserWarning: Implicit dimension choice for softmax has been deprecated. Change the call to include dim=X as an argument.\n",
      "  output = torch.nn.functional.softmax(self.model(input_)).detach().numpy()\n",
      "/media/jacqueline/Data/TSEvo/TSEvo/Problem.py:97: UserWarning: Implicit dimension choice for softmax has been deprecated. Change the call to include dim=X as an argument.\n",
      "  output = torch.nn.functional.softmax(self.model(input_)).detach().numpy()\n",
      "/media/jacqueline/Data/TSEvo/TSEvo/Problem.py:97: UserWarning: Implicit dimension choice for softmax has been deprecated. Change the call to include dim=X as an argument.\n",
      "  output = torch.nn.functional.softmax(self.model(input_)).detach().numpy()\n"
     ]
    },
    {
     "output_type": "stream",
     "name": "stdout",
     "text": [
      "208\t   \t100  \t0.140675  \t0  \t0.0979201 \t0.464188 \t0.019756  \t0.0452802\t0.0694828\t0.109296\t0.0428664 \t0.04     \t0.0889333\t0.206667\n",
      "209\t   \t100  \t0.140688  \t0  \t0.0992188 \t0.464188 \t0.0198983 \t0.0452802\t0.06948  \t0.109296\t0.0425678 \t0.04     \t0.0890667\t0.206667\n",
      "210\t   \t100  \t0.140234  \t0  \t0.100804  \t0.464188 \t0.0197412 \t0.0452802\t0.0684932\t0.109296\t0.0422801 \t0.04     \t0.0878   \t0.206667\n",
      "211\t   \t100  \t0.140242  \t0  \t0.0988095 \t0.464188 \t0.0200082 \t0.0452802\t0.0690459\t0.109296\t0.0412478 \t0.04     \t0.0878   \t0.206667\n"
     ]
    },
    {
     "output_type": "stream",
     "name": "stderr",
     "text": [
      "/media/jacqueline/Data/TSEvo/TSEvo/Problem.py:97: UserWarning: Implicit dimension choice for softmax has been deprecated. Change the call to include dim=X as an argument.\n",
      "  output = torch.nn.functional.softmax(self.model(input_)).detach().numpy()\n",
      "/media/jacqueline/Data/TSEvo/TSEvo/Problem.py:97: UserWarning: Implicit dimension choice for softmax has been deprecated. Change the call to include dim=X as an argument.\n",
      "  output = torch.nn.functional.softmax(self.model(input_)).detach().numpy()\n",
      "/media/jacqueline/Data/TSEvo/TSEvo/Problem.py:97: UserWarning: Implicit dimension choice for softmax has been deprecated. Change the call to include dim=X as an argument.\n",
      "  output = torch.nn.functional.softmax(self.model(input_)).detach().numpy()\n"
     ]
    },
    {
     "output_type": "stream",
     "name": "stdout",
     "text": [
      "212\t   \t100  \t0.140202  \t0  \t0.0995128 \t0.464188 \t0.0202081 \t0.0452802\t0.0691744\t0.109296\t0.042422  \t0.04     \t0.0881333\t0.206667\n",
      "213\t   \t100  \t0.14222   \t0  \t0.100698  \t0.464188 \t0.0201634 \t0.0452802\t0.0688592\t0.109296\t0.0424584 \t0.04     \t0.0878   \t0.206667\n",
      "214\t   \t100  \t0.145696  \t0  \t0.105047  \t0.464188 \t0.0202699 \t0.0452802\t0.0685524\t0.109296\t0.0414568 \t0.04     \t0.0867333\t0.206667\n"
     ]
    },
    {
     "output_type": "stream",
     "name": "stderr",
     "text": [
      "/media/jacqueline/Data/TSEvo/TSEvo/Problem.py:97: UserWarning: Implicit dimension choice for softmax has been deprecated. Change the call to include dim=X as an argument.\n",
      "  output = torch.nn.functional.softmax(self.model(input_)).detach().numpy()\n",
      "/media/jacqueline/Data/TSEvo/TSEvo/Problem.py:97: UserWarning: Implicit dimension choice for softmax has been deprecated. Change the call to include dim=X as an argument.\n",
      "  output = torch.nn.functional.softmax(self.model(input_)).detach().numpy()\n"
     ]
    },
    {
     "output_type": "stream",
     "name": "stdout",
     "text": [
      "215\t   \t100  \t0.155337  \t0  \t0.114152  \t0.464188 \t0.0208241 \t0.0452802\t0.0687259\t0.109296\t0.0388515 \t0.04     \t0.0850667\t0.206667\n",
      "216\t   \t100  \t0.15521   \t0  \t0.11434   \t0.464188 \t0.020574  \t0.0452802\t0.0682276\t0.109296\t0.0380769 \t0.04     \t0.0848   \t0.206667\n"
     ]
    },
    {
     "output_type": "stream",
     "name": "stderr",
     "text": [
      "/media/jacqueline/Data/TSEvo/TSEvo/Problem.py:97: UserWarning: Implicit dimension choice for softmax has been deprecated. Change the call to include dim=X as an argument.\n",
      "  output = torch.nn.functional.softmax(self.model(input_)).detach().numpy()\n",
      "/media/jacqueline/Data/TSEvo/TSEvo/Problem.py:97: UserWarning: Implicit dimension choice for softmax has been deprecated. Change the call to include dim=X as an argument.\n",
      "  output = torch.nn.functional.softmax(self.model(input_)).detach().numpy()\n"
     ]
    },
    {
     "output_type": "stream",
     "name": "stdout",
     "text": [
      "217\t   \t100  \t0.155319  \t0  \t0.116198  \t0.464188 \t0.0205273 \t0.0452802\t0.0680888\t0.109296\t0.0371361 \t0.04     \t0.0834667\t0.206667\n",
      "218\t   \t100  \t0.155158  \t0  \t0.115823  \t0.464188 \t0.0204937 \t0.0452802\t0.068105 \t0.109296\t0.0396372 \t0.04     \t0.0846667\t0.206667\n",
      "219\t   \t100  \t0.157745  \t0  \t0.117463  \t0.464188 \t0.0205643 \t0.0452802\t0.0683734\t0.109296\t0.0367514 \t0.04     \t0.0832667\t0.186667\n"
     ]
    },
    {
     "output_type": "stream",
     "name": "stderr",
     "text": [
      "/media/jacqueline/Data/TSEvo/TSEvo/Problem.py:97: UserWarning: Implicit dimension choice for softmax has been deprecated. Change the call to include dim=X as an argument.\n",
      "  output = torch.nn.functional.softmax(self.model(input_)).detach().numpy()\n",
      "/media/jacqueline/Data/TSEvo/TSEvo/Problem.py:97: UserWarning: Implicit dimension choice for softmax has been deprecated. Change the call to include dim=X as an argument.\n",
      "  output = torch.nn.functional.softmax(self.model(input_)).detach().numpy()\n",
      "/media/jacqueline/Data/TSEvo/TSEvo/Problem.py:97: UserWarning: Implicit dimension choice for softmax has been deprecated. Change the call to include dim=X as an argument.\n",
      "  output = torch.nn.functional.softmax(self.model(input_)).detach().numpy()\n"
     ]
    },
    {
     "output_type": "stream",
     "name": "stdout",
     "text": [
      "220\t   \t100  \t0.157635  \t0  \t0.117626  \t0.464188 \t0.0204348 \t0.0452802\t0.068226 \t0.109296\t0.0379156 \t0.04     \t0.0847333\t0.186667\n",
      "221\t   \t100  \t0.157167  \t0  \t0.121015  \t0.464188 \t0.0203812 \t0.0452802\t0.0678173\t0.109296\t0.0382167 \t0.04     \t0.0848   \t0.186667\n",
      "222\t   \t100  \t0.158469  \t0  \t0.124377  \t0.464188 \t0.0208575 \t0.0452802\t0.0681019\t0.109296\t0.0374742 \t0.04     \t0.0851333\t0.186667\n"
     ]
    },
    {
     "output_type": "stream",
     "name": "stderr",
     "text": [
      "/media/jacqueline/Data/TSEvo/TSEvo/Problem.py:97: UserWarning: Implicit dimension choice for softmax has been deprecated. Change the call to include dim=X as an argument.\n",
      "  output = torch.nn.functional.softmax(self.model(input_)).detach().numpy()\n",
      "/media/jacqueline/Data/TSEvo/TSEvo/Problem.py:97: UserWarning: Implicit dimension choice for softmax has been deprecated. Change the call to include dim=X as an argument.\n",
      "  output = torch.nn.functional.softmax(self.model(input_)).detach().numpy()\n"
     ]
    },
    {
     "output_type": "stream",
     "name": "stdout",
     "text": [
      "223\t   \t100  \t0.156947  \t0  \t0.122875  \t0.464188 \t0.0207688 \t0.0452802\t0.067952 \t0.109296\t0.0379916 \t0.04     \t0.0841333\t0.186667\n",
      "224\t   \t100  \t0.158971  \t0  \t0.121585  \t0.464188 \t0.0208196 \t0.0452802\t0.0683925\t0.109296\t0.0395294 \t0.04     \t0.0859333\t0.2     \n"
     ]
    },
    {
     "output_type": "stream",
     "name": "stderr",
     "text": [
      "/media/jacqueline/Data/TSEvo/TSEvo/Problem.py:97: UserWarning: Implicit dimension choice for softmax has been deprecated. Change the call to include dim=X as an argument.\n",
      "  output = torch.nn.functional.softmax(self.model(input_)).detach().numpy()\n",
      "/media/jacqueline/Data/TSEvo/TSEvo/Problem.py:97: UserWarning: Implicit dimension choice for softmax has been deprecated. Change the call to include dim=X as an argument.\n",
      "  output = torch.nn.functional.softmax(self.model(input_)).detach().numpy()\n"
     ]
    },
    {
     "output_type": "stream",
     "name": "stdout",
     "text": [
      "225\t   \t100  \t0.156753  \t0  \t0.116146  \t0.464188 \t0.0208965 \t0.0452802\t0.0687967\t0.109296\t0.0403832 \t0.04     \t0.0875333\t0.2     \n",
      "226\t   \t100  \t0.156604  \t0  \t0.118255  \t0.464188 \t0.0208777 \t0.0452802\t0.0684298\t0.109296\t0.040523  \t0.04     \t0.0863333\t0.2     \n"
     ]
    },
    {
     "output_type": "stream",
     "name": "stderr",
     "text": [
      "/media/jacqueline/Data/TSEvo/TSEvo/Problem.py:97: UserWarning: Implicit dimension choice for softmax has been deprecated. Change the call to include dim=X as an argument.\n",
      "  output = torch.nn.functional.softmax(self.model(input_)).detach().numpy()\n",
      "/media/jacqueline/Data/TSEvo/TSEvo/Problem.py:97: UserWarning: Implicit dimension choice for softmax has been deprecated. Change the call to include dim=X as an argument.\n",
      "  output = torch.nn.functional.softmax(self.model(input_)).detach().numpy()\n",
      "/media/jacqueline/Data/TSEvo/TSEvo/Problem.py:97: UserWarning: Implicit dimension choice for softmax has been deprecated. Change the call to include dim=X as an argument.\n",
      "  output = torch.nn.functional.softmax(self.model(input_)).detach().numpy()\n",
      "/media/jacqueline/Data/TSEvo/TSEvo/Problem.py:97: UserWarning: Implicit dimension choice for softmax has been deprecated. Change the call to include dim=X as an argument.\n",
      "  output = torch.nn.functional.softmax(self.model(input_)).detach().numpy()\n"
     ]
    },
    {
     "output_type": "stream",
     "name": "stdout",
     "text": [
      "227\t   \t100  \t0.156903  \t0  \t0.117776  \t0.464188 \t0.0209571 \t0.0452802\t0.0688675\t0.109296\t0.0395686 \t0.04     \t0.0854667\t0.2     \n",
      "228\t   \t100  \t0.156836  \t0  \t0.117867  \t0.464188 \t0.02016   \t0.0452802\t0.0678185\t0.109296\t0.0389381 \t0.04     \t0.0846   \t0.2     \n",
      "229\t   \t100  \t0.160235  \t0  \t0.119094  \t0.464188 \t0.0201132 \t0.0452802\t0.0678307\t0.109296\t0.037099  \t0.04     \t0.0836667\t0.18    \n"
     ]
    },
    {
     "output_type": "stream",
     "name": "stderr",
     "text": [
      "/media/jacqueline/Data/TSEvo/TSEvo/Problem.py:97: UserWarning: Implicit dimension choice for softmax has been deprecated. Change the call to include dim=X as an argument.\n",
      "  output = torch.nn.functional.softmax(self.model(input_)).detach().numpy()\n",
      "/media/jacqueline/Data/TSEvo/TSEvo/Problem.py:97: UserWarning: Implicit dimension choice for softmax has been deprecated. Change the call to include dim=X as an argument.\n",
      "  output = torch.nn.functional.softmax(self.model(input_)).detach().numpy()\n"
     ]
    },
    {
     "output_type": "stream",
     "name": "stdout",
     "text": [
      "230\t   \t100  \t0.160999  \t0  \t0.121519  \t0.464188 \t0.0201011 \t0.0452802\t0.0673467\t0.109296\t0.0346587 \t0.04     \t0.0812   \t0.18    \n",
      "231\t   \t100  \t0.161067  \t0  \t0.121424  \t0.464188 \t0.0201928 \t0.0452802\t0.0675967\t0.109296\t0.0345328 \t0.04     \t0.0814667\t0.18    \n"
     ]
    },
    {
     "output_type": "stream",
     "name": "stderr",
     "text": [
      "/media/jacqueline/Data/TSEvo/TSEvo/Problem.py:97: UserWarning: Implicit dimension choice for softmax has been deprecated. Change the call to include dim=X as an argument.\n",
      "  output = torch.nn.functional.softmax(self.model(input_)).detach().numpy()\n",
      "/media/jacqueline/Data/TSEvo/TSEvo/Problem.py:97: UserWarning: Implicit dimension choice for softmax has been deprecated. Change the call to include dim=X as an argument.\n",
      "  output = torch.nn.functional.softmax(self.model(input_)).detach().numpy()\n"
     ]
    },
    {
     "output_type": "stream",
     "name": "stdout",
     "text": [
      "232\t   \t100  \t0.160858  \t0  \t0.12331   \t0.464188 \t0.0201705 \t0.0452802\t0.0673045\t0.109296\t0.033365  \t0.04     \t0.0783333\t0.18    \n",
      "233\t   \t100  \t0.162083  \t0  \t0.125276  \t0.464188 \t0.0199817 \t0.0452802\t0.0668708\t0.109296\t0.0335327 \t0.04     \t0.0786667\t0.18    \n"
     ]
    },
    {
     "output_type": "stream",
     "name": "stderr",
     "text": [
      "/media/jacqueline/Data/TSEvo/TSEvo/Problem.py:97: UserWarning: Implicit dimension choice for softmax has been deprecated. Change the call to include dim=X as an argument.\n",
      "  output = torch.nn.functional.softmax(self.model(input_)).detach().numpy()\n",
      "/media/jacqueline/Data/TSEvo/TSEvo/Problem.py:97: UserWarning: Implicit dimension choice for softmax has been deprecated. Change the call to include dim=X as an argument.\n",
      "  output = torch.nn.functional.softmax(self.model(input_)).detach().numpy()\n"
     ]
    },
    {
     "output_type": "stream",
     "name": "stdout",
     "text": [
      "234\t   \t100  \t0.161966  \t0  \t0.125441  \t0.464188 \t0.0201841 \t0.0452802\t0.0669812\t0.109296\t0.0295034 \t0.04     \t0.0762   \t0.153333\n",
      "235\t   \t100  \t0.162008  \t0  \t0.128041  \t0.464188 \t0.0199486 \t0.0452802\t0.0663688\t0.109296\t0.0277938 \t0.04     \t0.0744667\t0.146667\n",
      "236\t   \t100  \t0.159555  \t0  \t0.122784  \t0.464188 \t0.0198741 \t0.0452802\t0.0667672\t0.109296\t0.0293069 \t0.04     \t0.0762   \t0.153333\n",
      "237\t   \t100  \t0.159297  \t0  \t0.123204  \t0.464188 \t0.0200563 \t0.0452802\t0.0668217\t0.109296\t0.0296711 \t0.04     \t0.0764   \t0.153333\n"
     ]
    },
    {
     "output_type": "stream",
     "name": "stderr",
     "text": [
      "/media/jacqueline/Data/TSEvo/TSEvo/Problem.py:97: UserWarning: Implicit dimension choice for softmax has been deprecated. Change the call to include dim=X as an argument.\n",
      "  output = torch.nn.functional.softmax(self.model(input_)).detach().numpy()\n",
      "/media/jacqueline/Data/TSEvo/TSEvo/Problem.py:97: UserWarning: Implicit dimension choice for softmax has been deprecated. Change the call to include dim=X as an argument.\n",
      "  output = torch.nn.functional.softmax(self.model(input_)).detach().numpy()\n",
      "/media/jacqueline/Data/TSEvo/TSEvo/Problem.py:97: UserWarning: Implicit dimension choice for softmax has been deprecated. Change the call to include dim=X as an argument.\n",
      "  output = torch.nn.functional.softmax(self.model(input_)).detach().numpy()\n"
     ]
    },
    {
     "output_type": "stream",
     "name": "stdout",
     "text": [
      "238\t   \t100  \t0.160711  \t0  \t0.126286  \t0.464188 \t0.0201154 \t0.0452802\t0.0666602\t0.109296\t0.0305275 \t0.04     \t0.0769333\t0.153333\n",
      "239\t   \t100  \t0.157964  \t0  \t0.124727  \t0.464188 \t0.0194094 \t0.0452802\t0.0657104\t0.109296\t0.0303538 \t0.04     \t0.0757333\t0.153333\n"
     ]
    },
    {
     "output_type": "stream",
     "name": "stderr",
     "text": [
      "/media/jacqueline/Data/TSEvo/TSEvo/Problem.py:97: UserWarning: Implicit dimension choice for softmax has been deprecated. Change the call to include dim=X as an argument.\n",
      "  output = torch.nn.functional.softmax(self.model(input_)).detach().numpy()\n",
      "/media/jacqueline/Data/TSEvo/TSEvo/Problem.py:97: UserWarning: Implicit dimension choice for softmax has been deprecated. Change the call to include dim=X as an argument.\n",
      "  output = torch.nn.functional.softmax(self.model(input_)).detach().numpy()\n"
     ]
    },
    {
     "output_type": "stream",
     "name": "stdout",
     "text": [
      "240\t   \t100  \t0.157958  \t0  \t0.124735  \t0.464188 \t0.0197745 \t0.0452802\t0.0659195\t0.109296\t0.0280218 \t0.04     \t0.0736667\t0.146667\n",
      "241\t   \t100  \t0.157699  \t0  \t0.124316  \t0.464188 \t0.0198049 \t0.0452802\t0.066001 \t0.109296\t0.0275115 \t0.04     \t0.0732667\t0.146667\n"
     ]
    },
    {
     "output_type": "stream",
     "name": "stderr",
     "text": [
      "/media/jacqueline/Data/TSEvo/TSEvo/Problem.py:97: UserWarning: Implicit dimension choice for softmax has been deprecated. Change the call to include dim=X as an argument.\n",
      "  output = torch.nn.functional.softmax(self.model(input_)).detach().numpy()\n",
      "/media/jacqueline/Data/TSEvo/TSEvo/Problem.py:97: UserWarning: Implicit dimension choice for softmax has been deprecated. Change the call to include dim=X as an argument.\n",
      "  output = torch.nn.functional.softmax(self.model(input_)).detach().numpy()\n",
      "/media/jacqueline/Data/TSEvo/TSEvo/Problem.py:97: UserWarning: Implicit dimension choice for softmax has been deprecated. Change the call to include dim=X as an argument.\n",
      "  output = torch.nn.functional.softmax(self.model(input_)).detach().numpy()\n",
      "/media/jacqueline/Data/TSEvo/TSEvo/Problem.py:97: UserWarning: Implicit dimension choice for softmax has been deprecated. Change the call to include dim=X as an argument.\n",
      "  output = torch.nn.functional.softmax(self.model(input_)).detach().numpy()\n"
     ]
    },
    {
     "output_type": "stream",
     "name": "stdout",
     "text": [
      "242\t   \t100  \t0.155832  \t0  \t0.119891  \t0.464188 \t0.0199604 \t0.0452802\t0.0667156\t0.109296\t0.0272438 \t0.04     \t0.0733333\t0.146667\n",
      "243\t   \t100  \t0.155215  \t0  \t0.119067  \t0.464188 \t0.0196836 \t0.0452802\t0.066391 \t0.109296\t0.0265484 \t0.04     \t0.0730667\t0.146667\n",
      "244\t   \t100  \t0.15554   \t0  \t0.119168  \t0.464188 \t0.0197332 \t0.0452802\t0.0665436\t0.109296\t0.026837  \t0.04     \t0.0738   \t0.146667\n"
     ]
    },
    {
     "output_type": "stream",
     "name": "stderr",
     "text": [
      "/media/jacqueline/Data/TSEvo/TSEvo/Problem.py:97: UserWarning: Implicit dimension choice for softmax has been deprecated. Change the call to include dim=X as an argument.\n",
      "  output = torch.nn.functional.softmax(self.model(input_)).detach().numpy()\n",
      "/media/jacqueline/Data/TSEvo/TSEvo/Problem.py:97: UserWarning: Implicit dimension choice for softmax has been deprecated. Change the call to include dim=X as an argument.\n",
      "  output = torch.nn.functional.softmax(self.model(input_)).detach().numpy()\n"
     ]
    },
    {
     "output_type": "stream",
     "name": "stdout",
     "text": [
      "245\t   \t100  \t0.148032  \t0  \t0.110475  \t0.464188 \t0.0194934 \t0.0452802\t0.0669204\t0.109296\t0.0272584 \t0.04     \t0.0740667\t0.146667\n",
      "246\t   \t100  \t0.148376  \t0  \t0.11006   \t0.464188 \t0.0195476 \t0.0452802\t0.067157 \t0.109296\t0.0291975 \t0.04     \t0.0755333\t0.18    \n"
     ]
    },
    {
     "output_type": "stream",
     "name": "stderr",
     "text": [
      "/media/jacqueline/Data/TSEvo/TSEvo/Problem.py:97: UserWarning: Implicit dimension choice for softmax has been deprecated. Change the call to include dim=X as an argument.\n",
      "  output = torch.nn.functional.softmax(self.model(input_)).detach().numpy()\n",
      "/media/jacqueline/Data/TSEvo/TSEvo/Problem.py:97: UserWarning: Implicit dimension choice for softmax has been deprecated. Change the call to include dim=X as an argument.\n",
      "  output = torch.nn.functional.softmax(self.model(input_)).detach().numpy()\n"
     ]
    },
    {
     "output_type": "stream",
     "name": "stdout",
     "text": [
      "247\t   \t100  \t0.145139  \t0  \t0.103614  \t0.464188 \t0.0195756 \t0.0452802\t0.067926 \t0.109296\t0.0292935 \t0.04     \t0.0756667\t0.18    \n",
      "248\t   \t100  \t0.151151  \t0  \t0.111648  \t0.464188 \t0.0198106 \t0.0452802\t0.0677453\t0.109296\t0.0277041 \t0.04     \t0.0735333\t0.16    \n"
     ]
    },
    {
     "output_type": "stream",
     "name": "stderr",
     "text": [
      "/media/jacqueline/Data/TSEvo/TSEvo/Problem.py:97: UserWarning: Implicit dimension choice for softmax has been deprecated. Change the call to include dim=X as an argument.\n",
      "  output = torch.nn.functional.softmax(self.model(input_)).detach().numpy()\n",
      "/media/jacqueline/Data/TSEvo/TSEvo/Problem.py:97: UserWarning: Implicit dimension choice for softmax has been deprecated. Change the call to include dim=X as an argument.\n",
      "  output = torch.nn.functional.softmax(self.model(input_)).detach().numpy()\n"
     ]
    },
    {
     "output_type": "stream",
     "name": "stdout",
     "text": [
      "249\t   \t100  \t0.14742   \t0  \t0.107537  \t0.464188 \t0.0196815 \t0.0452802\t0.0676535\t0.109296\t0.0267242 \t0.04     \t0.0731333\t0.146667\n",
      "250\t   \t100  \t0.153136  \t0  \t0.116388  \t0.464188 \t0.0200664 \t0.0452802\t0.0676132\t0.109296\t0.0259278 \t0.04     \t0.0725333\t0.146667\n"
     ]
    },
    {
     "output_type": "stream",
     "name": "stderr",
     "text": [
      "/media/jacqueline/Data/TSEvo/TSEvo/Problem.py:97: UserWarning: Implicit dimension choice for softmax has been deprecated. Change the call to include dim=X as an argument.\n",
      "  output = torch.nn.functional.softmax(self.model(input_)).detach().numpy()\n",
      "/media/jacqueline/Data/TSEvo/TSEvo/Problem.py:97: UserWarning: Implicit dimension choice for softmax has been deprecated. Change the call to include dim=X as an argument.\n",
      "  output = torch.nn.functional.softmax(self.model(input_)).detach().numpy()\n"
     ]
    },
    {
     "output_type": "stream",
     "name": "stdout",
     "text": [
      "251\t   \t100  \t0.154899  \t0  \t0.120397  \t0.464188 \t0.0199957 \t0.0452802\t0.0668435\t0.109296\t0.0258643 \t0.04     \t0.0718667\t0.146667\n",
      "252\t   \t100  \t0.156387  \t0  \t0.120076  \t0.464188 \t0.0200598 \t0.0452802\t0.0670756\t0.109296\t0.0261852 \t0.04     \t0.0723333\t0.146667\n"
     ]
    },
    {
     "output_type": "stream",
     "name": "stderr",
     "text": [
      "/media/jacqueline/Data/TSEvo/TSEvo/Problem.py:97: UserWarning: Implicit dimension choice for softmax has been deprecated. Change the call to include dim=X as an argument.\n",
      "  output = torch.nn.functional.softmax(self.model(input_)).detach().numpy()\n",
      "/media/jacqueline/Data/TSEvo/TSEvo/Problem.py:97: UserWarning: Implicit dimension choice for softmax has been deprecated. Change the call to include dim=X as an argument.\n",
      "  output = torch.nn.functional.softmax(self.model(input_)).detach().numpy()\n"
     ]
    },
    {
     "output_type": "stream",
     "name": "stdout",
     "text": [
      "253\t   \t100  \t0.160874  \t0  \t0.12318   \t0.464188 \t0.0196322 \t0.0452802\t0.066652 \t0.109296\t0.0272512 \t0.04     \t0.0731333\t0.153333\n",
      "254\t   \t100  \t0.16104   \t0  \t0.122724  \t0.464188 \t0.0196511 \t0.0452802\t0.066888 \t0.109296\t0.0288487 \t0.04     \t0.0741333\t0.153333\n",
      "255\t   \t100  \t0.160042  \t0  \t0.119634  \t0.464188 \t0.0195915 \t0.0452802\t0.0670065\t0.109296\t0.0281528 \t0.04     \t0.0742   \t0.146667\n"
     ]
    },
    {
     "output_type": "stream",
     "name": "stderr",
     "text": [
      "/media/jacqueline/Data/TSEvo/TSEvo/Problem.py:97: UserWarning: Implicit dimension choice for softmax has been deprecated. Change the call to include dim=X as an argument.\n",
      "  output = torch.nn.functional.softmax(self.model(input_)).detach().numpy()\n",
      "/media/jacqueline/Data/TSEvo/TSEvo/Problem.py:97: UserWarning: Implicit dimension choice for softmax has been deprecated. Change the call to include dim=X as an argument.\n",
      "  output = torch.nn.functional.softmax(self.model(input_)).detach().numpy()\n"
     ]
    },
    {
     "output_type": "stream",
     "name": "stdout",
     "text": [
      "256\t   \t100  \t0.159433  \t0  \t0.123165  \t0.464188 \t0.0197782 \t0.0452802\t0.0665992\t0.109296\t0.0274375 \t0.04     \t0.0736   \t0.146667\n",
      "257\t   \t100  \t0.160868  \t0  \t0.125132  \t0.464188 \t0.0198889 \t0.0452802\t0.0666789\t0.109296\t0.0277669 \t0.04     \t0.0743333\t0.146667\n"
     ]
    },
    {
     "output_type": "stream",
     "name": "stderr",
     "text": [
      "/media/jacqueline/Data/TSEvo/TSEvo/Problem.py:97: UserWarning: Implicit dimension choice for softmax has been deprecated. Change the call to include dim=X as an argument.\n",
      "  output = torch.nn.functional.softmax(self.model(input_)).detach().numpy()\n",
      "/media/jacqueline/Data/TSEvo/TSEvo/Problem.py:97: UserWarning: Implicit dimension choice for softmax has been deprecated. Change the call to include dim=X as an argument.\n",
      "  output = torch.nn.functional.softmax(self.model(input_)).detach().numpy()\n",
      "/media/jacqueline/Data/TSEvo/TSEvo/Problem.py:97: UserWarning: Implicit dimension choice for softmax has been deprecated. Change the call to include dim=X as an argument.\n",
      "  output = torch.nn.functional.softmax(self.model(input_)).detach().numpy()\n",
      "/media/jacqueline/Data/TSEvo/TSEvo/Problem.py:97: UserWarning: Implicit dimension choice for softmax has been deprecated. Change the call to include dim=X as an argument.\n",
      "  output = torch.nn.functional.softmax(self.model(input_)).detach().numpy()\n"
     ]
    },
    {
     "output_type": "stream",
     "name": "stdout",
     "text": [
      "258\t   \t100  \t0.15915   \t0  \t0.12133   \t0.464188 \t0.0199568 \t0.0452802\t0.0672438\t0.109296\t0.027042  \t0.04     \t0.0738667\t0.146667\n",
      "259\t   \t100  \t0.15914   \t0  \t0.121344  \t0.464188 \t0.0199788 \t0.0452802\t0.0672222\t0.109296\t0.0284768 \t0.04     \t0.0752667\t0.153333\n",
      "260\t   \t100  \t0.158865  \t0  \t0.121799  \t0.464188 \t0.0199949 \t0.0452802\t0.0671231\t0.109296\t0.0282352 \t0.04     \t0.0754667\t0.153333\n",
      "261\t   \t100  \t0.161192  \t0  \t0.12409   \t0.464188 \t0.019966  \t0.0452802\t0.0671129\t0.109296\t0.0292651 \t0.04     \t0.0766667\t0.153333\n"
     ]
    },
    {
     "output_type": "stream",
     "name": "stderr",
     "text": [
      "/media/jacqueline/Data/TSEvo/TSEvo/Problem.py:97: UserWarning: Implicit dimension choice for softmax has been deprecated. Change the call to include dim=X as an argument.\n",
      "  output = torch.nn.functional.softmax(self.model(input_)).detach().numpy()\n",
      "/media/jacqueline/Data/TSEvo/TSEvo/Problem.py:97: UserWarning: Implicit dimension choice for softmax has been deprecated. Change the call to include dim=X as an argument.\n",
      "  output = torch.nn.functional.softmax(self.model(input_)).detach().numpy()\n"
     ]
    },
    {
     "output_type": "stream",
     "name": "stdout",
     "text": [
      "262\t   \t100  \t0.162432  \t0  \t0.123852  \t0.464188 \t0.0199543 \t0.0452802\t0.0671656\t0.109296\t0.0293851 \t0.04     \t0.0764   \t0.153333\n",
      "263\t   \t100  \t0.162017  \t0  \t0.125169  \t0.464188 \t0.019771  \t0.0452802\t0.0667351\t0.109296\t0.0297572 \t0.04     \t0.0772   \t0.153333\n",
      "264\t   \t100  \t0.161957  \t0  \t0.125251  \t0.464188 \t0.019691  \t0.0452802\t0.0665071\t0.109296\t0.0297769 \t0.04     \t0.0766   \t0.153333\n"
     ]
    },
    {
     "output_type": "stream",
     "name": "stderr",
     "text": [
      "/media/jacqueline/Data/TSEvo/TSEvo/Problem.py:97: UserWarning: Implicit dimension choice for softmax has been deprecated. Change the call to include dim=X as an argument.\n",
      "  output = torch.nn.functional.softmax(self.model(input_)).detach().numpy()\n",
      "/media/jacqueline/Data/TSEvo/TSEvo/Problem.py:97: UserWarning: Implicit dimension choice for softmax has been deprecated. Change the call to include dim=X as an argument.\n",
      "  output = torch.nn.functional.softmax(self.model(input_)).detach().numpy()\n",
      "/media/jacqueline/Data/TSEvo/TSEvo/Problem.py:97: UserWarning: Implicit dimension choice for softmax has been deprecated. Change the call to include dim=X as an argument.\n",
      "  output = torch.nn.functional.softmax(self.model(input_)).detach().numpy()\n",
      "/media/jacqueline/Data/TSEvo/TSEvo/Problem.py:97: UserWarning: Implicit dimension choice for softmax has been deprecated. Change the call to include dim=X as an argument.\n",
      "  output = torch.nn.functional.softmax(self.model(input_)).detach().numpy()\n"
     ]
    },
    {
     "output_type": "stream",
     "name": "stdout",
     "text": [
      "265\t   \t100  \t0.164858  \t0  \t0.129857  \t0.464188 \t0.0194101 \t0.0452802\t0.0658699\t0.109296\t0.0320235 \t0.04     \t0.0779333\t0.186667\n",
      "266\t   \t100  \t0.164473  \t0  \t0.130402  \t0.464188 \t0.019164  \t0.0452802\t0.0652587\t0.109296\t0.0323786 \t0.04     \t0.0769333\t0.186667\n",
      "267\t   \t100  \t0.165259  \t0  \t0.135448  \t0.464188 \t0.0191285 \t0.0452802\t0.0645694\t0.109296\t0.0332332 \t0.04     \t0.0766667\t0.186667\n"
     ]
    },
    {
     "output_type": "stream",
     "name": "stderr",
     "text": [
      "/media/jacqueline/Data/TSEvo/TSEvo/Problem.py:97: UserWarning: Implicit dimension choice for softmax has been deprecated. Change the call to include dim=X as an argument.\n",
      "  output = torch.nn.functional.softmax(self.model(input_)).detach().numpy()\n",
      "/media/jacqueline/Data/TSEvo/TSEvo/Problem.py:97: UserWarning: Implicit dimension choice for softmax has been deprecated. Change the call to include dim=X as an argument.\n",
      "  output = torch.nn.functional.softmax(self.model(input_)).detach().numpy()\n"
     ]
    },
    {
     "output_type": "stream",
     "name": "stdout",
     "text": [
      "268\t   \t100  \t0.168083  \t0  \t0.140511  \t0.464188 \t0.0193555 \t0.0452802\t0.0647126\t0.109296\t0.0323382 \t0.04     \t0.0765333\t0.186667\n",
      "269\t   \t100  \t0.165189  \t0  \t0.129787  \t0.464188 \t0.0195491 \t0.0452802\t0.0662554\t0.109296\t0.0340929 \t0.04     \t0.0782667\t0.186667\n",
      "270\t   \t100  \t0.165163  \t0  \t0.12982   \t0.464188 \t0.0195646 \t0.0452802\t0.0661437\t0.109296\t0.0352723 \t0.04     \t0.0791333\t0.186667\n"
     ]
    },
    {
     "output_type": "stream",
     "name": "stderr",
     "text": [
      "/media/jacqueline/Data/TSEvo/TSEvo/Problem.py:97: UserWarning: Implicit dimension choice for softmax has been deprecated. Change the call to include dim=X as an argument.\n",
      "  output = torch.nn.functional.softmax(self.model(input_)).detach().numpy()\n",
      "/media/jacqueline/Data/TSEvo/TSEvo/Problem.py:97: UserWarning: Implicit dimension choice for softmax has been deprecated. Change the call to include dim=X as an argument.\n",
      "  output = torch.nn.functional.softmax(self.model(input_)).detach().numpy()\n",
      "/media/jacqueline/Data/TSEvo/TSEvo/Problem.py:97: UserWarning: Implicit dimension choice for softmax has been deprecated. Change the call to include dim=X as an argument.\n",
      "  output = torch.nn.functional.softmax(self.model(input_)).detach().numpy()\n",
      "/media/jacqueline/Data/TSEvo/TSEvo/Problem.py:97: UserWarning: Implicit dimension choice for softmax has been deprecated. Change the call to include dim=X as an argument.\n",
      "  output = torch.nn.functional.softmax(self.model(input_)).detach().numpy()\n"
     ]
    },
    {
     "output_type": "stream",
     "name": "stdout",
     "text": [
      "271\t   \t100  \t0.1651    \t0  \t0.1297    \t0.464188 \t0.0197976 \t0.0452802\t0.0664335\t0.109296\t0.0355037 \t0.04     \t0.0781333\t0.186667\n",
      "272\t   \t100  \t0.162812  \t0  \t0.124084  \t0.464188 \t0.0199723 \t0.0452802\t0.067081 \t0.109296\t0.0381706 \t0.04     \t0.0816   \t0.186667\n",
      "273\t   \t100  \t0.163042  \t0  \t0.123832  \t0.464188 \t0.0197591 \t0.0452802\t0.0670366\t0.109296\t0.0402258 \t0.04     \t0.0843333\t0.186667\n"
     ]
    },
    {
     "output_type": "stream",
     "name": "stderr",
     "text": [
      "/media/jacqueline/Data/TSEvo/TSEvo/Problem.py:97: UserWarning: Implicit dimension choice for softmax has been deprecated. Change the call to include dim=X as an argument.\n",
      "  output = torch.nn.functional.softmax(self.model(input_)).detach().numpy()\n",
      "/media/jacqueline/Data/TSEvo/TSEvo/Problem.py:97: UserWarning: Implicit dimension choice for softmax has been deprecated. Change the call to include dim=X as an argument.\n",
      "  output = torch.nn.functional.softmax(self.model(input_)).detach().numpy()\n"
     ]
    },
    {
     "output_type": "stream",
     "name": "stdout",
     "text": [
      "274\t   \t100  \t0.16306   \t0  \t0.123803  \t0.464188 \t0.0196559 \t0.0452802\t0.0669892\t0.109296\t0.0418539 \t0.04     \t0.0856   \t0.206667\n",
      "275\t   \t100  \t0.162984  \t0  \t0.123907  \t0.464188 \t0.0196805 \t0.0452802\t0.0668395\t0.109296\t0.0441513 \t0.04     \t0.088    \t0.206667\n",
      "276\t   \t100  \t0.160267  \t0  \t0.119488  \t0.464188 \t0.0197476 \t0.0452802\t0.0672609\t0.109296\t0.0442829 \t0.04     \t0.0894   \t0.206667\n"
     ]
    },
    {
     "output_type": "stream",
     "name": "stderr",
     "text": [
      "/media/jacqueline/Data/TSEvo/TSEvo/Problem.py:97: UserWarning: Implicit dimension choice for softmax has been deprecated. Change the call to include dim=X as an argument.\n",
      "  output = torch.nn.functional.softmax(self.model(input_)).detach().numpy()\n",
      "/media/jacqueline/Data/TSEvo/TSEvo/Problem.py:97: UserWarning: Implicit dimension choice for softmax has been deprecated. Change the call to include dim=X as an argument.\n",
      "  output = torch.nn.functional.softmax(self.model(input_)).detach().numpy()\n",
      "/media/jacqueline/Data/TSEvo/TSEvo/Problem.py:97: UserWarning: Implicit dimension choice for softmax has been deprecated. Change the call to include dim=X as an argument.\n",
      "  output = torch.nn.functional.softmax(self.model(input_)).detach().numpy()\n",
      "/media/jacqueline/Data/TSEvo/TSEvo/Problem.py:97: UserWarning: Implicit dimension choice for softmax has been deprecated. Change the call to include dim=X as an argument.\n",
      "  output = torch.nn.functional.softmax(self.model(input_)).detach().numpy()\n"
     ]
    },
    {
     "output_type": "stream",
     "name": "stdout",
     "text": [
      "277\t   \t100  \t0.163622  \t0  \t0.124159  \t0.464188 \t0.0198506 \t0.0452802\t0.0671194\t0.109296\t0.0443884 \t0.04     \t0.0884   \t0.206667\n",
      "278\t   \t100  \t0.166459  \t0  \t0.131259  \t0.464188 \t0.0199882 \t0.0452802\t0.0665338\t0.109296\t0.0418452 \t0.04     \t0.0874   \t0.206667\n"
     ]
    },
    {
     "output_type": "stream",
     "name": "stderr",
     "text": [
      "/media/jacqueline/Data/TSEvo/TSEvo/Problem.py:97: UserWarning: Implicit dimension choice for softmax has been deprecated. Change the call to include dim=X as an argument.\n",
      "  output = torch.nn.functional.softmax(self.model(input_)).detach().numpy()\n",
      "/media/jacqueline/Data/TSEvo/TSEvo/Problem.py:97: UserWarning: Implicit dimension choice for softmax has been deprecated. Change the call to include dim=X as an argument.\n",
      "  output = torch.nn.functional.softmax(self.model(input_)).detach().numpy()\n"
     ]
    },
    {
     "output_type": "stream",
     "name": "stdout",
     "text": [
      "279\t   \t100  \t0.169929  \t0  \t0.136705  \t0.464188 \t0.0203862 \t0.0452802\t0.0666184\t0.109296\t0.0410556 \t0.04     \t0.0862   \t0.206667\n",
      "280\t   \t100  \t0.166302  \t0  \t0.129137  \t0.464188 \t0.0201445 \t0.0452802\t0.0668207\t0.109296\t0.0416275 \t0.04     \t0.0868667\t0.206667\n"
     ]
    },
    {
     "output_type": "stream",
     "name": "stderr",
     "text": [
      "/media/jacqueline/Data/TSEvo/TSEvo/Problem.py:97: UserWarning: Implicit dimension choice for softmax has been deprecated. Change the call to include dim=X as an argument.\n",
      "  output = torch.nn.functional.softmax(self.model(input_)).detach().numpy()\n",
      "/media/jacqueline/Data/TSEvo/TSEvo/Problem.py:97: UserWarning: Implicit dimension choice for softmax has been deprecated. Change the call to include dim=X as an argument.\n",
      "  output = torch.nn.functional.softmax(self.model(input_)).detach().numpy()\n"
     ]
    },
    {
     "output_type": "stream",
     "name": "stdout",
     "text": [
      "281\t   \t100  \t0.166163  \t0  \t0.12933   \t0.464188 \t0.0197998 \t0.0452802\t0.0662972\t0.109296\t0.0427197 \t0.04     \t0.0872667\t0.206667\n",
      "282\t   \t100  \t0.166153  \t0  \t0.129343  \t0.464188 \t0.0197373 \t0.0452802\t0.0661605\t0.109296\t0.0428432 \t0.04     \t0.0865333\t0.206667\n",
      "283\t   \t100  \t0.166268  \t0  \t0.129174  \t0.464188 \t0.0192939 \t0.0452802\t0.0657925\t0.109296\t0.0440873 \t0.04     \t0.0875333\t0.206667\n"
     ]
    },
    {
     "output_type": "stream",
     "name": "stderr",
     "text": [
      "/media/jacqueline/Data/TSEvo/TSEvo/Problem.py:97: UserWarning: Implicit dimension choice for softmax has been deprecated. Change the call to include dim=X as an argument.\n",
      "  output = torch.nn.functional.softmax(self.model(input_)).detach().numpy()\n",
      "/media/jacqueline/Data/TSEvo/TSEvo/Problem.py:97: UserWarning: Implicit dimension choice for softmax has been deprecated. Change the call to include dim=X as an argument.\n",
      "  output = torch.nn.functional.softmax(self.model(input_)).detach().numpy()\n"
     ]
    },
    {
     "output_type": "stream",
     "name": "stdout",
     "text": [
      "284\t   \t100  \t0.165285  \t0  \t0.121422  \t0.464188 \t0.019349  \t0.0452802\t0.0669262\t0.109296\t0.0442065 \t0.04     \t0.0900667\t0.206667\n",
      "285\t   \t100  \t0.168868  \t0  \t0.126481  \t0.464188 \t0.0195532 \t0.0452802\t0.066706 \t0.109296\t0.0429315 \t0.04     \t0.0886667\t0.206667\n"
     ]
    },
    {
     "output_type": "stream",
     "name": "stderr",
     "text": [
      "/media/jacqueline/Data/TSEvo/TSEvo/Problem.py:97: UserWarning: Implicit dimension choice for softmax has been deprecated. Change the call to include dim=X as an argument.\n",
      "  output = torch.nn.functional.softmax(self.model(input_)).detach().numpy()\n",
      "/media/jacqueline/Data/TSEvo/TSEvo/Problem.py:97: UserWarning: Implicit dimension choice for softmax has been deprecated. Change the call to include dim=X as an argument.\n",
      "  output = torch.nn.functional.softmax(self.model(input_)).detach().numpy()\n"
     ]
    },
    {
     "output_type": "stream",
     "name": "stdout",
     "text": [
      "286\t   \t100  \t0.165955  \t0  \t0.129394  \t0.464188 \t0.0192899 \t0.0452802\t0.0657558\t0.109296\t0.0458051 \t0.04     \t0.0896667\t0.206667\n",
      "287\t   \t100  \t0.162243  \t0  \t0.121838  \t0.464188 \t0.0192528 \t0.0452802\t0.0662664\t0.109296\t0.0460907 \t0.04     \t0.0907333\t0.206667\n"
     ]
    },
    {
     "output_type": "stream",
     "name": "stderr",
     "text": [
      "/media/jacqueline/Data/TSEvo/TSEvo/Problem.py:97: UserWarning: Implicit dimension choice for softmax has been deprecated. Change the call to include dim=X as an argument.\n",
      "  output = torch.nn.functional.softmax(self.model(input_)).detach().numpy()\n",
      "/media/jacqueline/Data/TSEvo/TSEvo/Problem.py:97: UserWarning: Implicit dimension choice for softmax has been deprecated. Change the call to include dim=X as an argument.\n",
      "  output = torch.nn.functional.softmax(self.model(input_)).detach().numpy()\n"
     ]
    },
    {
     "output_type": "stream",
     "name": "stdout",
     "text": [
      "288\t   \t100  \t0.163733  \t0  \t0.126739  \t0.464188 \t0.0192791 \t0.0452802\t0.0658978\t0.109296\t0.0463502 \t0.04     \t0.0912   \t0.206667\n",
      "289\t   \t100  \t0.163959  \t0  \t0.126409  \t0.464188 \t0.0192467 \t0.0452802\t0.0659979\t0.109296\t0.0464088 \t0.04     \t0.092    \t0.206667\n"
     ]
    },
    {
     "output_type": "stream",
     "name": "stderr",
     "text": [
      "/media/jacqueline/Data/TSEvo/TSEvo/Problem.py:97: UserWarning: Implicit dimension choice for softmax has been deprecated. Change the call to include dim=X as an argument.\n",
      "  output = torch.nn.functional.softmax(self.model(input_)).detach().numpy()\n",
      "/media/jacqueline/Data/TSEvo/TSEvo/Problem.py:97: UserWarning: Implicit dimension choice for softmax has been deprecated. Change the call to include dim=X as an argument.\n",
      "  output = torch.nn.functional.softmax(self.model(input_)).detach().numpy()\n"
     ]
    },
    {
     "output_type": "stream",
     "name": "stdout",
     "text": [
      "290\t   \t100  \t0.164083  \t0  \t0.126234  \t0.464188 \t0.0191621 \t0.0452802\t0.0660703\t0.109296\t0.0463674 \t0.04     \t0.0928   \t0.206667\n",
      "291\t   \t100  \t0.16927   \t0  \t0.132739  \t0.464188 \t0.0195076 \t0.0452802\t0.0661425\t0.109296\t0.0460404 \t0.04     \t0.0938667\t0.206667\n"
     ]
    },
    {
     "output_type": "stream",
     "name": "stderr",
     "text": [
      "/media/jacqueline/Data/TSEvo/TSEvo/Problem.py:97: UserWarning: Implicit dimension choice for softmax has been deprecated. Change the call to include dim=X as an argument.\n",
      "  output = torch.nn.functional.softmax(self.model(input_)).detach().numpy()\n",
      "/media/jacqueline/Data/TSEvo/TSEvo/Problem.py:97: UserWarning: Implicit dimension choice for softmax has been deprecated. Change the call to include dim=X as an argument.\n",
      "  output = torch.nn.functional.softmax(self.model(input_)).detach().numpy()\n"
     ]
    },
    {
     "output_type": "stream",
     "name": "stdout",
     "text": [
      "292\t   \t100  \t0.16387   \t0  \t0.12464   \t0.464188 \t0.0196627 \t0.0452802\t0.0665449\t0.109296\t0.045711  \t0.04     \t0.0928   \t0.206667\n",
      "293\t   \t100  \t0.16675   \t0  \t0.128366  \t0.464188 \t0.01951   \t0.0452802\t0.0662379\t0.109296\t0.0459785 \t0.04     \t0.0941333\t0.206667\n"
     ]
    },
    {
     "output_type": "stream",
     "name": "stderr",
     "text": [
      "/media/jacqueline/Data/TSEvo/TSEvo/Problem.py:97: UserWarning: Implicit dimension choice for softmax has been deprecated. Change the call to include dim=X as an argument.\n",
      "  output = torch.nn.functional.softmax(self.model(input_)).detach().numpy()\n",
      "/media/jacqueline/Data/TSEvo/TSEvo/Problem.py:97: UserWarning: Implicit dimension choice for softmax has been deprecated. Change the call to include dim=X as an argument.\n",
      "  output = torch.nn.functional.softmax(self.model(input_)).detach().numpy()\n"
     ]
    },
    {
     "output_type": "stream",
     "name": "stdout",
     "text": [
      "294\t   \t100  \t0.164186  \t0  \t0.122692  \t0.464188 \t0.0194754 \t0.0452802\t0.0665302\t0.109296\t0.0459257 \t0.04     \t0.0929333\t0.206667\n",
      "295\t   \t100  \t0.168177  \t0  \t0.130134  \t0.464188 \t0.0197417 \t0.0452802\t0.0663749\t0.109296\t0.0448727 \t0.04     \t0.0928667\t0.206667\n"
     ]
    },
    {
     "output_type": "stream",
     "name": "stderr",
     "text": [
      "/media/jacqueline/Data/TSEvo/TSEvo/Problem.py:97: UserWarning: Implicit dimension choice for softmax has been deprecated. Change the call to include dim=X as an argument.\n",
      "  output = torch.nn.functional.softmax(self.model(input_)).detach().numpy()\n",
      "/media/jacqueline/Data/TSEvo/TSEvo/Problem.py:97: UserWarning: Implicit dimension choice for softmax has been deprecated. Change the call to include dim=X as an argument.\n",
      "  output = torch.nn.functional.softmax(self.model(input_)).detach().numpy()\n"
     ]
    },
    {
     "output_type": "stream",
     "name": "stdout",
     "text": [
      "296\t   \t100  \t0.165901  \t0  \t0.125288  \t0.464188 \t0.0195104 \t0.0452802\t0.0663442\t0.109296\t0.0465398 \t0.04     \t0.0946   \t0.206667\n",
      "297\t   \t100  \t0.166843  \t0  \t0.128543  \t0.464188 \t0.0194877 \t0.0452802\t0.0661538\t0.109296\t0.0455522 \t0.04     \t0.0936667\t0.206667\n"
     ]
    },
    {
     "output_type": "stream",
     "name": "stderr",
     "text": [
      "/media/jacqueline/Data/TSEvo/TSEvo/Problem.py:97: UserWarning: Implicit dimension choice for softmax has been deprecated. Change the call to include dim=X as an argument.\n",
      "  output = torch.nn.functional.softmax(self.model(input_)).detach().numpy()\n",
      "/media/jacqueline/Data/TSEvo/TSEvo/Problem.py:97: UserWarning: Implicit dimension choice for softmax has been deprecated. Change the call to include dim=X as an argument.\n",
      "  output = torch.nn.functional.softmax(self.model(input_)).detach().numpy()\n"
     ]
    },
    {
     "output_type": "stream",
     "name": "stdout",
     "text": [
      "298\t   \t100  \t0.166917  \t0  \t0.128556  \t0.464188 \t0.0196508 \t0.0452802\t0.06644  \t0.109296\t0.0455046 \t0.04     \t0.0926667\t0.206667\n",
      "299\t   \t100  \t0.166845  \t0  \t0.12906   \t0.464188 \t0.0193847 \t0.0452802\t0.0658363\t0.109296\t0.0452654 \t0.04     \t0.0914667\t0.206667\n"
     ]
    },
    {
     "output_type": "stream",
     "name": "stderr",
     "text": [
      "/media/jacqueline/Data/TSEvo/TSEvo/Problem.py:97: UserWarning: Implicit dimension choice for softmax has been deprecated. Change the call to include dim=X as an argument.\n",
      "  output = torch.nn.functional.softmax(self.model(input_)).detach().numpy()\n",
      "/media/jacqueline/Data/TSEvo/TSEvo/Problem.py:97: UserWarning: Implicit dimension choice for softmax has been deprecated. Change the call to include dim=X as an argument.\n",
      "  output = torch.nn.functional.softmax(self.model(input_)).detach().numpy()\n"
     ]
    },
    {
     "output_type": "stream",
     "name": "stdout",
     "text": [
      "300\t   \t100  \t0.167719  \t0  \t0.132807  \t0.464188 \t0.0198087 \t0.0452802\t0.066016 \t0.109296\t0.0455182 \t0.04     \t0.0907333\t0.206667\n",
      "301\t   \t100  \t0.167619  \t0  \t0.132941  \t0.464188 \t0.0196505 \t0.0452802\t0.0656952\t0.109296\t0.0429252 \t0.04     \t0.0874   \t0.206667\n"
     ]
    },
    {
     "output_type": "stream",
     "name": "stderr",
     "text": [
      "/media/jacqueline/Data/TSEvo/TSEvo/Problem.py:97: UserWarning: Implicit dimension choice for softmax has been deprecated. Change the call to include dim=X as an argument.\n",
      "  output = torch.nn.functional.softmax(self.model(input_)).detach().numpy()\n",
      "/media/jacqueline/Data/TSEvo/TSEvo/Problem.py:97: UserWarning: Implicit dimension choice for softmax has been deprecated. Change the call to include dim=X as an argument.\n",
      "  output = torch.nn.functional.softmax(self.model(input_)).detach().numpy()\n"
     ]
    },
    {
     "output_type": "stream",
     "name": "stdout",
     "text": [
      "302\t   \t100  \t0.167589  \t0  \t0.132981  \t0.464188 \t0.0196324 \t0.0452802\t0.0656437\t0.109296\t0.0435788 \t0.04     \t0.0886667\t0.206667\n",
      "303\t   \t100  \t0.167092  \t0  \t0.126629  \t0.464188 \t0.0196267 \t0.0452802\t0.0664317\t0.109296\t0.0444951 \t0.04     \t0.0914   \t0.206667\n"
     ]
    },
    {
     "output_type": "stream",
     "name": "stderr",
     "text": [
      "/media/jacqueline/Data/TSEvo/TSEvo/Problem.py:97: UserWarning: Implicit dimension choice for softmax has been deprecated. Change the call to include dim=X as an argument.\n",
      "  output = torch.nn.functional.softmax(self.model(input_)).detach().numpy()\n",
      "/media/jacqueline/Data/TSEvo/TSEvo/Problem.py:97: UserWarning: Implicit dimension choice for softmax has been deprecated. Change the call to include dim=X as an argument.\n",
      "  output = torch.nn.functional.softmax(self.model(input_)).detach().numpy()\n",
      "/media/jacqueline/Data/TSEvo/TSEvo/Problem.py:97: UserWarning: Implicit dimension choice for softmax has been deprecated. Change the call to include dim=X as an argument.\n",
      "  output = torch.nn.functional.softmax(self.model(input_)).detach().numpy()\n",
      "/media/jacqueline/Data/TSEvo/TSEvo/Problem.py:97: UserWarning: Implicit dimension choice for softmax has been deprecated. Change the call to include dim=X as an argument.\n",
      "  output = torch.nn.functional.softmax(self.model(input_)).detach().numpy()\n"
     ]
    },
    {
     "output_type": "stream",
     "name": "stdout",
     "text": [
      "304\t   \t100  \t0.167586  \t0  \t0.126524  \t0.464188 \t0.0194222 \t0.0452802\t0.066337 \t0.109296\t0.0449946 \t0.04     \t0.0918667\t0.206667\n",
      "305\t   \t100  \t0.166168  \t0  \t0.125194  \t0.464188 \t0.0191659 \t0.0452802\t0.0659977\t0.109296\t0.0453198 \t0.04     \t0.0916   \t0.206667\n",
      "306\t   \t100  \t0.167884  \t0  \t0.133391  \t0.464188 \t0.0192887 \t0.0452802\t0.0655125\t0.109296\t0.045161  \t0.04     \t0.0902   \t0.206667\n"
     ]
    },
    {
     "output_type": "stream",
     "name": "stderr",
     "text": [
      "/media/jacqueline/Data/TSEvo/TSEvo/Problem.py:97: UserWarning: Implicit dimension choice for softmax has been deprecated. Change the call to include dim=X as an argument.\n",
      "  output = torch.nn.functional.softmax(self.model(input_)).detach().numpy()\n",
      "/media/jacqueline/Data/TSEvo/TSEvo/Problem.py:97: UserWarning: Implicit dimension choice for softmax has been deprecated. Change the call to include dim=X as an argument.\n",
      "  output = torch.nn.functional.softmax(self.model(input_)).detach().numpy()\n"
     ]
    },
    {
     "output_type": "stream",
     "name": "stdout",
     "text": [
      "307\t   \t100  \t0.167603  \t0  \t0.133802  \t0.464188 \t0.0190549 \t0.0452802\t0.0651101\t0.109296\t0.0450925 \t0.04     \t0.09     \t0.206667\n",
      "308\t   \t100  \t0.168014  \t0  \t0.131979  \t0.464188 \t0.0188641 \t0.0452802\t0.0649908\t0.109296\t0.0459342 \t0.04     \t0.0912667\t0.206667\n"
     ]
    },
    {
     "output_type": "stream",
     "name": "stderr",
     "text": [
      "/media/jacqueline/Data/TSEvo/TSEvo/Problem.py:97: UserWarning: Implicit dimension choice for softmax has been deprecated. Change the call to include dim=X as an argument.\n",
      "  output = torch.nn.functional.softmax(self.model(input_)).detach().numpy()\n",
      "/media/jacqueline/Data/TSEvo/TSEvo/Problem.py:97: UserWarning: Implicit dimension choice for softmax has been deprecated. Change the call to include dim=X as an argument.\n",
      "  output = torch.nn.functional.softmax(self.model(input_)).detach().numpy()\n"
     ]
    },
    {
     "output_type": "stream",
     "name": "stdout",
     "text": [
      "309\t   \t100  \t0.166189  \t0  \t0.129873  \t0.464188 \t0.0189113 \t0.0452802\t0.065187 \t0.109296\t0.046904  \t0.04     \t0.0934667\t0.206667\n",
      "310\t   \t100  \t0.167509  \t0  \t0.134097  \t0.464188 \t0.018978  \t0.0452802\t0.0651156\t0.109296\t0.0464633 \t0.04     \t0.0954   \t0.206667\n"
     ]
    },
    {
     "output_type": "stream",
     "name": "stderr",
     "text": [
      "/media/jacqueline/Data/TSEvo/TSEvo/Problem.py:97: UserWarning: Implicit dimension choice for softmax has been deprecated. Change the call to include dim=X as an argument.\n",
      "  output = torch.nn.functional.softmax(self.model(input_)).detach().numpy()\n",
      "/media/jacqueline/Data/TSEvo/TSEvo/Problem.py:97: UserWarning: Implicit dimension choice for softmax has been deprecated. Change the call to include dim=X as an argument.\n",
      "  output = torch.nn.functional.softmax(self.model(input_)).detach().numpy()\n"
     ]
    },
    {
     "output_type": "stream",
     "name": "stdout",
     "text": [
      "311\t   \t100  \t0.170089  \t0  \t0.133104  \t0.464188 \t0.0190716 \t0.0452802\t0.0655512\t0.109296\t0.0455065 \t0.04     \t0.0954   \t0.206667\n",
      "312\t   \t100  \t0.170188  \t0  \t0.132652  \t0.464188 \t0.0184885 \t0.0452802\t0.065116 \t0.109296\t0.046916  \t0.04     \t0.0962   \t0.206667\n"
     ]
    },
    {
     "output_type": "stream",
     "name": "stderr",
     "text": [
      "/media/jacqueline/Data/TSEvo/TSEvo/Problem.py:97: UserWarning: Implicit dimension choice for softmax has been deprecated. Change the call to include dim=X as an argument.\n",
      "  output = torch.nn.functional.softmax(self.model(input_)).detach().numpy()\n",
      "/media/jacqueline/Data/TSEvo/TSEvo/Problem.py:97: UserWarning: Implicit dimension choice for softmax has been deprecated. Change the call to include dim=X as an argument.\n",
      "  output = torch.nn.functional.softmax(self.model(input_)).detach().numpy()\n"
     ]
    },
    {
     "output_type": "stream",
     "name": "stdout",
     "text": [
      "313\t   \t100  \t0.170301  \t0  \t0.131327  \t0.464188 \t0.018308  \t0.0452802\t0.0648805\t0.109296\t0.0441682 \t0.04     \t0.0928   \t0.206667\n",
      "314\t   \t100  \t0.169286  \t0  \t0.135823  \t0.464188 \t0.0188556 \t0.0452802\t0.0649927\t0.109296\t0.0456322 \t0.04     \t0.0948   \t0.206667\n"
     ]
    },
    {
     "output_type": "stream",
     "name": "stderr",
     "text": [
      "/media/jacqueline/Data/TSEvo/TSEvo/Problem.py:97: UserWarning: Implicit dimension choice for softmax has been deprecated. Change the call to include dim=X as an argument.\n",
      "  output = torch.nn.functional.softmax(self.model(input_)).detach().numpy()\n",
      "/media/jacqueline/Data/TSEvo/TSEvo/Problem.py:97: UserWarning: Implicit dimension choice for softmax has been deprecated. Change the call to include dim=X as an argument.\n",
      "  output = torch.nn.functional.softmax(self.model(input_)).detach().numpy()\n"
     ]
    },
    {
     "output_type": "stream",
     "name": "stdout",
     "text": [
      "315\t   \t100  \t0.169787  \t0  \t0.133958  \t0.464188 \t0.0189087 \t0.0452802\t0.0653376\t0.109296\t0.0478365 \t0.04     \t0.0963333\t0.213333\n",
      "316\t   \t100  \t0.166796  \t0  \t0.130735  \t0.464188 \t0.0184416 \t0.0452802\t0.0650595\t0.109296\t0.049731  \t0.04     \t0.0962667\t0.213333\n"
     ]
    },
    {
     "output_type": "stream",
     "name": "stderr",
     "text": [
      "/media/jacqueline/Data/TSEvo/TSEvo/Problem.py:97: UserWarning: Implicit dimension choice for softmax has been deprecated. Change the call to include dim=X as an argument.\n",
      "  output = torch.nn.functional.softmax(self.model(input_)).detach().numpy()\n",
      "/media/jacqueline/Data/TSEvo/TSEvo/Problem.py:97: UserWarning: Implicit dimension choice for softmax has been deprecated. Change the call to include dim=X as an argument.\n",
      "  output = torch.nn.functional.softmax(self.model(input_)).detach().numpy()\n"
     ]
    },
    {
     "output_type": "stream",
     "name": "stdout",
     "text": [
      "317\t   \t100  \t0.162011  \t0  \t0.124467  \t0.464188 \t0.018343  \t0.0452802\t0.0652374\t0.109296\t0.0491385 \t0.04     \t0.0964   \t0.213333\n",
      "318\t   \t100  \t0.163474  \t0  \t0.127788  \t0.464188 \t0.0186423 \t0.0452802\t0.065423 \t0.109296\t0.0486458 \t0.04     \t0.0956   \t0.226667\n"
     ]
    },
    {
     "output_type": "stream",
     "name": "stderr",
     "text": [
      "/media/jacqueline/Data/TSEvo/TSEvo/Problem.py:97: UserWarning: Implicit dimension choice for softmax has been deprecated. Change the call to include dim=X as an argument.\n",
      "  output = torch.nn.functional.softmax(self.model(input_)).detach().numpy()\n",
      "/media/jacqueline/Data/TSEvo/TSEvo/Problem.py:97: UserWarning: Implicit dimension choice for softmax has been deprecated. Change the call to include dim=X as an argument.\n",
      "  output = torch.nn.functional.softmax(self.model(input_)).detach().numpy()\n"
     ]
    },
    {
     "output_type": "stream",
     "name": "stdout",
     "text": [
      "319\t   \t100  \t0.164108  \t0  \t0.125199  \t0.464188 \t0.0186513 \t0.0452802\t0.065755 \t0.109296\t0.0483177 \t0.04     \t0.0964   \t0.226667\n",
      "320\t   \t100  \t0.163944  \t0  \t0.126409  \t0.464188 \t0.0190133 \t0.0452802\t0.0660048\t0.109296\t0.0443066 \t0.04     \t0.0931333\t0.206667\n"
     ]
    },
    {
     "output_type": "stream",
     "name": "stderr",
     "text": [
      "/media/jacqueline/Data/TSEvo/TSEvo/Problem.py:97: UserWarning: Implicit dimension choice for softmax has been deprecated. Change the call to include dim=X as an argument.\n",
      "  output = torch.nn.functional.softmax(self.model(input_)).detach().numpy()\n",
      "/media/jacqueline/Data/TSEvo/TSEvo/Problem.py:97: UserWarning: Implicit dimension choice for softmax has been deprecated. Change the call to include dim=X as an argument.\n",
      "  output = torch.nn.functional.softmax(self.model(input_)).detach().numpy()\n"
     ]
    },
    {
     "output_type": "stream",
     "name": "stdout",
     "text": [
      "321\t   \t100  \t0.166482  \t0  \t0.129626  \t0.464188 \t0.0194569 \t0.0452802\t0.0662097\t0.109296\t0.0445658 \t0.04     \t0.0923333\t0.206667\n",
      "322\t   \t100  \t0.166147  \t0  \t0.131435  \t0.464188 \t0.0195754 \t0.0452802\t0.066183 \t0.109296\t0.043762  \t0.04     \t0.0913333\t0.206667\n",
      "323\t   \t100  \t0.166477  \t0  \t0.128742  \t0.464188 \t0.0194091 \t0.0452802\t0.0659394\t0.109296\t0.0444959 \t0.04     \t0.0903333\t0.206667\n"
     ]
    },
    {
     "output_type": "stream",
     "name": "stderr",
     "text": [
      "/media/jacqueline/Data/TSEvo/TSEvo/Problem.py:97: UserWarning: Implicit dimension choice for softmax has been deprecated. Change the call to include dim=X as an argument.\n",
      "  output = torch.nn.functional.softmax(self.model(input_)).detach().numpy()\n",
      "/media/jacqueline/Data/TSEvo/TSEvo/Problem.py:97: UserWarning: Implicit dimension choice for softmax has been deprecated. Change the call to include dim=X as an argument.\n",
      "  output = torch.nn.functional.softmax(self.model(input_)).detach().numpy()\n"
     ]
    },
    {
     "output_type": "stream",
     "name": "stdout",
     "text": [
      "324\t   \t100  \t0.160857  \t0  \t0.121248  \t0.464188 \t0.0192361 \t0.0452802\t0.0663771\t0.109296\t0.0457286 \t0.04     \t0.0934   \t0.206667\n",
      "325\t   \t100  \t0.163671  \t0  \t0.124763  \t0.464188 \t0.0191967 \t0.0452802\t0.0661254\t0.109296\t0.0455955 \t0.04     \t0.0937333\t0.206667\n"
     ]
    },
    {
     "output_type": "stream",
     "name": "stderr",
     "text": [
      "/media/jacqueline/Data/TSEvo/TSEvo/Problem.py:97: UserWarning: Implicit dimension choice for softmax has been deprecated. Change the call to include dim=X as an argument.\n",
      "  output = torch.nn.functional.softmax(self.model(input_)).detach().numpy()\n",
      "/media/jacqueline/Data/TSEvo/TSEvo/Problem.py:97: UserWarning: Implicit dimension choice for softmax has been deprecated. Change the call to include dim=X as an argument.\n",
      "  output = torch.nn.functional.softmax(self.model(input_)).detach().numpy()\n"
     ]
    },
    {
     "output_type": "stream",
     "name": "stdout",
     "text": [
      "326\t   \t100  \t0.163654  \t0  \t0.124785  \t0.464188 \t0.0194976 \t0.0452802\t0.0662572\t0.109296\t0.0459245 \t0.04     \t0.0946   \t0.206667\n",
      "327\t   \t100  \t0.163649  \t0  \t0.124778  \t0.464188 \t0.0189779 \t0.0452802\t0.0658151\t0.109296\t0.0456983 \t0.04     \t0.0943333\t0.206667\n"
     ]
    },
    {
     "output_type": "stream",
     "name": "stderr",
     "text": [
      "/media/jacqueline/Data/TSEvo/TSEvo/Problem.py:97: UserWarning: Implicit dimension choice for softmax has been deprecated. Change the call to include dim=X as an argument.\n",
      "  output = torch.nn.functional.softmax(self.model(input_)).detach().numpy()\n",
      "/media/jacqueline/Data/TSEvo/TSEvo/Problem.py:97: UserWarning: Implicit dimension choice for softmax has been deprecated. Change the call to include dim=X as an argument.\n",
      "  output = torch.nn.functional.softmax(self.model(input_)).detach().numpy()\n"
     ]
    },
    {
     "output_type": "stream",
     "name": "stdout",
     "text": [
      "328\t   \t100  \t0.16342   \t0  \t0.125139  \t0.464188 \t0.0193075 \t0.0452802\t0.0660271\t0.109296\t0.0459725 \t0.04     \t0.0942   \t0.206667\n",
      "329\t   \t100  \t0.167622  \t0  \t0.132587  \t0.464188 \t0.0195888 \t0.0452802\t0.0659751\t0.109296\t0.0461146 \t0.04     \t0.0943333\t0.206667\n"
     ]
    },
    {
     "output_type": "stream",
     "name": "stderr",
     "text": [
      "/media/jacqueline/Data/TSEvo/TSEvo/Problem.py:97: UserWarning: Implicit dimension choice for softmax has been deprecated. Change the call to include dim=X as an argument.\n",
      "  output = torch.nn.functional.softmax(self.model(input_)).detach().numpy()\n",
      "/media/jacqueline/Data/TSEvo/TSEvo/Problem.py:97: UserWarning: Implicit dimension choice for softmax has been deprecated. Change the call to include dim=X as an argument.\n",
      "  output = torch.nn.functional.softmax(self.model(input_)).detach().numpy()\n"
     ]
    },
    {
     "output_type": "stream",
     "name": "stdout",
     "text": [
      "330\t   \t100  \t0.165936  \t0  \t0.130665  \t0.464188 \t0.0195628 \t0.0452802\t0.0659057\t0.109296\t0.0458234 \t0.04     \t0.0928667\t0.206667\n",
      "331\t   \t100  \t0.1661    \t0  \t0.130403  \t0.464188 \t0.0196835 \t0.0452802\t0.066112 \t0.109296\t0.0459592 \t0.04     \t0.0925333\t0.206667\n"
     ]
    },
    {
     "output_type": "stream",
     "name": "stderr",
     "text": [
      "/media/jacqueline/Data/TSEvo/TSEvo/Problem.py:97: UserWarning: Implicit dimension choice for softmax has been deprecated. Change the call to include dim=X as an argument.\n",
      "  output = torch.nn.functional.softmax(self.model(input_)).detach().numpy()\n",
      "/media/jacqueline/Data/TSEvo/TSEvo/Problem.py:97: UserWarning: Implicit dimension choice for softmax has been deprecated. Change the call to include dim=X as an argument.\n",
      "  output = torch.nn.functional.softmax(self.model(input_)).detach().numpy()\n"
     ]
    },
    {
     "output_type": "stream",
     "name": "stdout",
     "text": [
      "332\t   \t100  \t0.168704  \t0  \t0.134967  \t0.464188 \t0.0196353 \t0.0452802\t0.0655997\t0.109296\t0.046547  \t0.04     \t0.0931333\t0.206667\n",
      "333\t   \t100  \t0.168877  \t0  \t0.134267  \t0.464188 \t0.0193944 \t0.0452802\t0.0654662\t0.109296\t0.0465111 \t0.04     \t0.0946   \t0.206667\n"
     ]
    },
    {
     "output_type": "stream",
     "name": "stderr",
     "text": [
      "/media/jacqueline/Data/TSEvo/TSEvo/Problem.py:97: UserWarning: Implicit dimension choice for softmax has been deprecated. Change the call to include dim=X as an argument.\n",
      "  output = torch.nn.functional.softmax(self.model(input_)).detach().numpy()\n",
      "/media/jacqueline/Data/TSEvo/TSEvo/Problem.py:97: UserWarning: Implicit dimension choice for softmax has been deprecated. Change the call to include dim=X as an argument.\n",
      "  output = torch.nn.functional.softmax(self.model(input_)).detach().numpy()\n"
     ]
    },
    {
     "output_type": "stream",
     "name": "stdout",
     "text": [
      "334\t   \t100  \t0.169087  \t0  \t0.133969  \t0.464188 \t0.0192478 \t0.0452802\t0.065515 \t0.109296\t0.0466688 \t0.04     \t0.0956   \t0.206667\n",
      "335\t   \t100  \t0.169074  \t0  \t0.133985  \t0.464188 \t0.0191986 \t0.0452802\t0.0653747\t0.109296\t0.0463978 \t0.04     \t0.0951333\t0.206667\n"
     ]
    },
    {
     "output_type": "stream",
     "name": "stderr",
     "text": [
      "/media/jacqueline/Data/TSEvo/TSEvo/Problem.py:97: UserWarning: Implicit dimension choice for softmax has been deprecated. Change the call to include dim=X as an argument.\n",
      "  output = torch.nn.functional.softmax(self.model(input_)).detach().numpy()\n",
      "/media/jacqueline/Data/TSEvo/TSEvo/Problem.py:97: UserWarning: Implicit dimension choice for softmax has been deprecated. Change the call to include dim=X as an argument.\n",
      "  output = torch.nn.functional.softmax(self.model(input_)).detach().numpy()\n"
     ]
    },
    {
     "output_type": "stream",
     "name": "stdout",
     "text": [
      "336\t   \t100  \t0.169085  \t0  \t0.133972  \t0.464188 \t0.0191225 \t0.0452802\t0.065407 \t0.109296\t0.0463867 \t0.04     \t0.0954   \t0.206667\n",
      "337\t   \t100  \t0.171141  \t0  \t0.139285  \t0.464188 \t0.0194952 \t0.0452802\t0.0652484\t0.109296\t0.0463269 \t0.04     \t0.0964667\t0.206667\n"
     ]
    },
    {
     "output_type": "stream",
     "name": "stderr",
     "text": [
      "/media/jacqueline/Data/TSEvo/TSEvo/Problem.py:97: UserWarning: Implicit dimension choice for softmax has been deprecated. Change the call to include dim=X as an argument.\n",
      "  output = torch.nn.functional.softmax(self.model(input_)).detach().numpy()\n",
      "/media/jacqueline/Data/TSEvo/TSEvo/Problem.py:97: UserWarning: Implicit dimension choice for softmax has been deprecated. Change the call to include dim=X as an argument.\n",
      "  output = torch.nn.functional.softmax(self.model(input_)).detach().numpy()\n"
     ]
    },
    {
     "output_type": "stream",
     "name": "stdout",
     "text": [
      "338\t   \t100  \t0.171101  \t0  \t0.139335  \t0.464188 \t0.0189834 \t0.0452802\t0.0648129\t0.109296\t0.0463407 \t0.04     \t0.0959333\t0.206667\n",
      "339\t   \t100  \t0.171028  \t0  \t0.140321  \t0.464188 \t0.0199622 \t0.0452802\t0.0657514\t0.109296\t0.0461928 \t0.04     \t0.0953333\t0.206667\n"
     ]
    },
    {
     "output_type": "stream",
     "name": "stderr",
     "text": [
      "/media/jacqueline/Data/TSEvo/TSEvo/Problem.py:97: UserWarning: Implicit dimension choice for softmax has been deprecated. Change the call to include dim=X as an argument.\n",
      "  output = torch.nn.functional.softmax(self.model(input_)).detach().numpy()\n",
      "/media/jacqueline/Data/TSEvo/TSEvo/Problem.py:97: UserWarning: Implicit dimension choice for softmax has been deprecated. Change the call to include dim=X as an argument.\n",
      "  output = torch.nn.functional.softmax(self.model(input_)).detach().numpy()\n"
     ]
    },
    {
     "output_type": "stream",
     "name": "stdout",
     "text": [
      "340\t   \t100  \t0.170964  \t0  \t0.14035   \t0.464188 \t0.0196762 \t0.0452802\t0.0654103\t0.109296\t0.0464938 \t0.04     \t0.0954667\t0.206667\n",
      "341\t   \t100  \t0.169111  \t0  \t0.139133  \t0.464188 \t0.0196632 \t0.0452802\t0.0654399\t0.109296\t0.0464806 \t0.04     \t0.0953333\t0.206667\n"
     ]
    },
    {
     "output_type": "stream",
     "name": "stderr",
     "text": [
      "/media/jacqueline/Data/TSEvo/TSEvo/Problem.py:97: UserWarning: Implicit dimension choice for softmax has been deprecated. Change the call to include dim=X as an argument.\n",
      "  output = torch.nn.functional.softmax(self.model(input_)).detach().numpy()\n",
      "/media/jacqueline/Data/TSEvo/TSEvo/Problem.py:97: UserWarning: Implicit dimension choice for softmax has been deprecated. Change the call to include dim=X as an argument.\n",
      "  output = torch.nn.functional.softmax(self.model(input_)).detach().numpy()\n"
     ]
    },
    {
     "output_type": "stream",
     "name": "stdout",
     "text": [
      "342\t   \t100  \t0.1685    \t0  \t0.140295  \t0.464188 \t0.0196791 \t0.0452802\t0.0652009\t0.109296\t0.045311  \t0.04     \t0.0922667\t0.206667\n",
      "343\t   \t100  \t0.167832  \t0  \t0.136991  \t0.464188 \t0.0199154 \t0.0452802\t0.0656349\t0.109296\t0.0461401 \t0.04     \t0.0924   \t0.206667\n"
     ]
    },
    {
     "output_type": "stream",
     "name": "stderr",
     "text": [
      "/media/jacqueline/Data/TSEvo/TSEvo/Problem.py:97: UserWarning: Implicit dimension choice for softmax has been deprecated. Change the call to include dim=X as an argument.\n",
      "  output = torch.nn.functional.softmax(self.model(input_)).detach().numpy()\n",
      "/media/jacqueline/Data/TSEvo/TSEvo/Problem.py:97: UserWarning: Implicit dimension choice for softmax has been deprecated. Change the call to include dim=X as an argument.\n",
      "  output = torch.nn.functional.softmax(self.model(input_)).detach().numpy()\n"
     ]
    },
    {
     "output_type": "stream",
     "name": "stdout",
     "text": [
      "344\t   \t100  \t0.168098  \t0  \t0.137127  \t0.464188 \t0.0198189 \t0.0452802\t0.0655623\t0.109296\t0.047502  \t0.04     \t0.0934   \t0.226667\n",
      "345\t   \t100  \t0.169011  \t0  \t0.139384  \t0.464188 \t0.0200597 \t0.0452802\t0.0658364\t0.109296\t0.0458963 \t0.04     \t0.0908   \t0.22    \n",
      "346\t   \t100  \t0.163024  \t0  \t0.128297  \t0.464188 \t0.0199499 \t0.0452802\t0.0666488\t0.109296\t0.0467791 \t0.04     \t0.0937333\t0.22    \n"
     ]
    },
    {
     "output_type": "stream",
     "name": "stderr",
     "text": [
      "/media/jacqueline/Data/TSEvo/TSEvo/Problem.py:97: UserWarning: Implicit dimension choice for softmax has been deprecated. Change the call to include dim=X as an argument.\n",
      "  output = torch.nn.functional.softmax(self.model(input_)).detach().numpy()\n",
      "/media/jacqueline/Data/TSEvo/TSEvo/Problem.py:97: UserWarning: Implicit dimension choice for softmax has been deprecated. Change the call to include dim=X as an argument.\n",
      "  output = torch.nn.functional.softmax(self.model(input_)).detach().numpy()\n",
      "/media/jacqueline/Data/TSEvo/TSEvo/Problem.py:97: UserWarning: Implicit dimension choice for softmax has been deprecated. Change the call to include dim=X as an argument.\n",
      "  output = torch.nn.functional.softmax(self.model(input_)).detach().numpy()\n",
      "/media/jacqueline/Data/TSEvo/TSEvo/Problem.py:97: UserWarning: Implicit dimension choice for softmax has been deprecated. Change the call to include dim=X as an argument.\n",
      "  output = torch.nn.functional.softmax(self.model(input_)).detach().numpy()\n"
     ]
    },
    {
     "output_type": "stream",
     "name": "stdout",
     "text": [
      "347\t   \t100  \t0.162618  \t0  \t0.1292    \t0.464188 \t0.0203727 \t0.0452802\t0.0670049\t0.109296\t0.0438025 \t0.04     \t0.0899333\t0.2     \n",
      "348\t   \t100  \t0.162197  \t0  \t0.131122  \t0.464188 \t0.0198722 \t0.0452802\t0.0661316\t0.109296\t0.0400888 \t0.04     \t0.0866667\t0.193333\n"
     ]
    },
    {
     "output_type": "stream",
     "name": "stderr",
     "text": [
      "/media/jacqueline/Data/TSEvo/TSEvo/Problem.py:97: UserWarning: Implicit dimension choice for softmax has been deprecated. Change the call to include dim=X as an argument.\n",
      "  output = torch.nn.functional.softmax(self.model(input_)).detach().numpy()\n",
      "/media/jacqueline/Data/TSEvo/TSEvo/Problem.py:97: UserWarning: Implicit dimension choice for softmax has been deprecated. Change the call to include dim=X as an argument.\n",
      "  output = torch.nn.functional.softmax(self.model(input_)).detach().numpy()\n"
     ]
    },
    {
     "output_type": "stream",
     "name": "stdout",
     "text": [
      "349\t   \t100  \t0.165808  \t0  \t0.140039  \t0.464188 \t0.0200134 \t0.0452802\t0.0655881\t0.109296\t0.0408455 \t0.04     \t0.0874   \t0.193333\n",
      "350\t   \t100  \t0.164456  \t0  \t0.13799   \t0.464188 \t0.0197812 \t0.0452802\t0.0651472\t0.109296\t0.0420249 \t0.04     \t0.0882   \t0.193333\n"
     ]
    },
    {
     "output_type": "stream",
     "name": "stderr",
     "text": [
      "/media/jacqueline/Data/TSEvo/TSEvo/Problem.py:97: UserWarning: Implicit dimension choice for softmax has been deprecated. Change the call to include dim=X as an argument.\n",
      "  output = torch.nn.functional.softmax(self.model(input_)).detach().numpy()\n",
      "/media/jacqueline/Data/TSEvo/TSEvo/Problem.py:97: UserWarning: Implicit dimension choice for softmax has been deprecated. Change the call to include dim=X as an argument.\n",
      "  output = torch.nn.functional.softmax(self.model(input_)).detach().numpy()\n"
     ]
    },
    {
     "output_type": "stream",
     "name": "stdout",
     "text": [
      "351\t   \t100  \t0.163504  \t0  \t0.135836  \t0.464188 \t0.0199265 \t0.0452802\t0.0654617\t0.109296\t0.03952   \t0.04     \t0.0855333\t0.193333\n",
      "352\t   \t100  \t0.163695  \t0  \t0.135487  \t0.464188 \t0.0200252 \t0.0452802\t0.0656559\t0.109296\t0.0396162 \t0.04     \t0.0849333\t0.193333\n"
     ]
    },
    {
     "output_type": "stream",
     "name": "stderr",
     "text": [
      "/media/jacqueline/Data/TSEvo/TSEvo/Problem.py:97: UserWarning: Implicit dimension choice for softmax has been deprecated. Change the call to include dim=X as an argument.\n",
      "  output = torch.nn.functional.softmax(self.model(input_)).detach().numpy()\n",
      "/media/jacqueline/Data/TSEvo/TSEvo/Problem.py:97: UserWarning: Implicit dimension choice for softmax has been deprecated. Change the call to include dim=X as an argument.\n",
      "  output = torch.nn.functional.softmax(self.model(input_)).detach().numpy()\n"
     ]
    },
    {
     "output_type": "stream",
     "name": "stdout",
     "text": [
      "353\t   \t100  \t0.163756  \t0  \t0.135411  \t0.464188 \t0.0201184 \t0.0452802\t0.065898 \t0.109296\t0.0409956 \t0.04     \t0.0877333\t0.193333\n",
      "354\t   \t100  \t0.16266   \t0  \t0.132536  \t0.464188 \t0.020145  \t0.0452802\t0.0661765\t0.109296\t0.0419216 \t0.04     \t0.0894   \t0.193333\n",
      "355\t   \t100  \t0.162878  \t0  \t0.135652  \t0.464188 \t0.0202698 \t0.0452802\t0.0659856\t0.109296\t0.0407147 \t0.04     \t0.0874   \t0.193333\n"
     ]
    },
    {
     "output_type": "stream",
     "name": "stderr",
     "text": [
      "/media/jacqueline/Data/TSEvo/TSEvo/Problem.py:97: UserWarning: Implicit dimension choice for softmax has been deprecated. Change the call to include dim=X as an argument.\n",
      "  output = torch.nn.functional.softmax(self.model(input_)).detach().numpy()\n",
      "/media/jacqueline/Data/TSEvo/TSEvo/Problem.py:97: UserWarning: Implicit dimension choice for softmax has been deprecated. Change the call to include dim=X as an argument.\n",
      "  output = torch.nn.functional.softmax(self.model(input_)).detach().numpy()\n"
     ]
    },
    {
     "output_type": "stream",
     "name": "stdout",
     "text": [
      "356\t   \t100  \t0.162683  \t0  \t0.135899  \t0.464188 \t0.0203233 \t0.0452802\t0.0658567\t0.109296\t0.0406885 \t0.04     \t0.0873333\t0.186667\n",
      "357\t   \t100  \t0.163014  \t0  \t0.135393  \t0.464188 \t0.0203304 \t0.0452802\t0.0660038\t0.109296\t0.0415438 \t0.04     \t0.0884   \t0.186667\n"
     ]
    },
    {
     "output_type": "stream",
     "name": "stderr",
     "text": [
      "/media/jacqueline/Data/TSEvo/TSEvo/Problem.py:97: UserWarning: Implicit dimension choice for softmax has been deprecated. Change the call to include dim=X as an argument.\n",
      "  output = torch.nn.functional.softmax(self.model(input_)).detach().numpy()\n",
      "/media/jacqueline/Data/TSEvo/TSEvo/Problem.py:97: UserWarning: Implicit dimension choice for softmax has been deprecated. Change the call to include dim=X as an argument.\n",
      "  output = torch.nn.functional.softmax(self.model(input_)).detach().numpy()\n"
     ]
    },
    {
     "output_type": "stream",
     "name": "stdout",
     "text": [
      "358\t   \t100  \t0.161564  \t0  \t0.129851  \t0.464188 \t0.0202404 \t0.0452802\t0.0665148\t0.109296\t0.0415518 \t0.04     \t0.0883333\t0.186667\n",
      "359\t   \t100  \t0.161578  \t0  \t0.12982   \t0.464188 \t0.020424  \t0.0452802\t0.0666874\t0.109296\t0.0420178 \t0.04     \t0.0894667\t0.186667\n"
     ]
    },
    {
     "output_type": "stream",
     "name": "stderr",
     "text": [
      "/media/jacqueline/Data/TSEvo/TSEvo/Problem.py:97: UserWarning: Implicit dimension choice for softmax has been deprecated. Change the call to include dim=X as an argument.\n",
      "  output = torch.nn.functional.softmax(self.model(input_)).detach().numpy()\n",
      "/media/jacqueline/Data/TSEvo/TSEvo/Problem.py:97: UserWarning: Implicit dimension choice for softmax has been deprecated. Change the call to include dim=X as an argument.\n",
      "  output = torch.nn.functional.softmax(self.model(input_)).detach().numpy()\n"
     ]
    },
    {
     "output_type": "stream",
     "name": "stdout",
     "text": [
      "360\t   \t100  \t0.162905  \t0  \t0.133595  \t0.464188 \t0.0203675 \t0.0452802\t0.0662456\t0.109296\t0.0409257 \t0.04     \t0.0874667\t0.186667\n",
      "361\t   \t100  \t0.163626  \t0  \t0.131426  \t0.464188 \t0.0204323 \t0.0452802\t0.0668299\t0.109296\t0.0431545 \t0.04     \t0.0894   \t0.2     \n"
     ]
    },
    {
     "output_type": "stream",
     "name": "stderr",
     "text": [
      "/media/jacqueline/Data/TSEvo/TSEvo/Problem.py:97: UserWarning: Implicit dimension choice for softmax has been deprecated. Change the call to include dim=X as an argument.\n",
      "  output = torch.nn.functional.softmax(self.model(input_)).detach().numpy()\n",
      "/media/jacqueline/Data/TSEvo/TSEvo/Problem.py:97: UserWarning: Implicit dimension choice for softmax has been deprecated. Change the call to include dim=X as an argument.\n",
      "  output = torch.nn.functional.softmax(self.model(input_)).detach().numpy()\n"
     ]
    },
    {
     "output_type": "stream",
     "name": "stdout",
     "text": [
      "362\t   \t100  \t0.160812  \t0  \t0.127273  \t0.464188 \t0.0200789 \t0.0452802\t0.0666054\t0.109296\t0.0448238 \t0.04     \t0.0904   \t0.2     \n",
      "363\t   \t100  \t0.163332  \t0  \t0.131409  \t0.464188 \t0.0202669 \t0.0452802\t0.0664617\t0.109296\t0.044434  \t0.04     \t0.0905333\t0.2     \n"
     ]
    },
    {
     "output_type": "stream",
     "name": "stderr",
     "text": [
      "/media/jacqueline/Data/TSEvo/TSEvo/Problem.py:97: UserWarning: Implicit dimension choice for softmax has been deprecated. Change the call to include dim=X as an argument.\n",
      "  output = torch.nn.functional.softmax(self.model(input_)).detach().numpy()\n",
      "/media/jacqueline/Data/TSEvo/TSEvo/Problem.py:97: UserWarning: Implicit dimension choice for softmax has been deprecated. Change the call to include dim=X as an argument.\n",
      "  output = torch.nn.functional.softmax(self.model(input_)).detach().numpy()\n"
     ]
    },
    {
     "output_type": "stream",
     "name": "stdout",
     "text": [
      "364\t   \t100  \t0.163882  \t0  \t0.130606  \t0.464188 \t0.0202046 \t0.0452802\t0.0667184\t0.109296\t0.0447179 \t0.04     \t0.0924667\t0.2     \n",
      "365\t   \t100  \t0.160587  \t0  \t0.125208  \t0.464188 \t0.0200871 \t0.0452802\t0.0666879\t0.109296\t0.0439925 \t0.04     \t0.0928667\t0.2     \n"
     ]
    },
    {
     "output_type": "stream",
     "name": "stderr",
     "text": [
      "/media/jacqueline/Data/TSEvo/TSEvo/Problem.py:97: UserWarning: Implicit dimension choice for softmax has been deprecated. Change the call to include dim=X as an argument.\n",
      "  output = torch.nn.functional.softmax(self.model(input_)).detach().numpy()\n",
      "/media/jacqueline/Data/TSEvo/TSEvo/Problem.py:97: UserWarning: Implicit dimension choice for softmax has been deprecated. Change the call to include dim=X as an argument.\n",
      "  output = torch.nn.functional.softmax(self.model(input_)).detach().numpy()\n"
     ]
    },
    {
     "output_type": "stream",
     "name": "stdout",
     "text": [
      "366\t   \t100  \t0.161973  \t0  \t0.128349  \t0.464188 \t0.0204308 \t0.0452802\t0.0669503\t0.109296\t0.0454281 \t0.04     \t0.0938667\t0.22    \n",
      "367\t   \t100  \t0.163186  \t0  \t0.132736  \t0.464188 \t0.0202698 \t0.0452802\t0.0661986\t0.109296\t0.0436032 \t0.04     \t0.0926   \t0.206667\n"
     ]
    },
    {
     "output_type": "stream",
     "name": "stderr",
     "text": [
      "/media/jacqueline/Data/TSEvo/TSEvo/Problem.py:97: UserWarning: Implicit dimension choice for softmax has been deprecated. Change the call to include dim=X as an argument.\n",
      "  output = torch.nn.functional.softmax(self.model(input_)).detach().numpy()\n",
      "/media/jacqueline/Data/TSEvo/TSEvo/Problem.py:97: UserWarning: Implicit dimension choice for softmax has been deprecated. Change the call to include dim=X as an argument.\n",
      "  output = torch.nn.functional.softmax(self.model(input_)).detach().numpy()\n"
     ]
    },
    {
     "output_type": "stream",
     "name": "stdout",
     "text": [
      "368\t   \t100  \t0.162141  \t0  \t0.12757   \t0.464188 \t0.0202502 \t0.0452802\t0.0667502\t0.109296\t0.0454383 \t0.04     \t0.0944   \t0.206667\n",
      "369\t   \t100  \t0.162208  \t0  \t0.127106  \t0.464188 \t0.020176  \t0.0452802\t0.0667463\t0.109296\t0.0451563 \t0.04     \t0.0932   \t0.206667\n"
     ]
    },
    {
     "output_type": "stream",
     "name": "stderr",
     "text": [
      "/media/jacqueline/Data/TSEvo/TSEvo/Problem.py:97: UserWarning: Implicit dimension choice for softmax has been deprecated. Change the call to include dim=X as an argument.\n",
      "  output = torch.nn.functional.softmax(self.model(input_)).detach().numpy()\n",
      "/media/jacqueline/Data/TSEvo/TSEvo/Problem.py:97: UserWarning: Implicit dimension choice for softmax has been deprecated. Change the call to include dim=X as an argument.\n",
      "  output = torch.nn.functional.softmax(self.model(input_)).detach().numpy()\n"
     ]
    },
    {
     "output_type": "stream",
     "name": "stdout",
     "text": [
      "370\t   \t100  \t0.163201  \t0  \t0.131823  \t0.464188 \t0.0203213 \t0.0452802\t0.0664889\t0.109296\t0.0448469 \t0.04     \t0.0908667\t0.206667\n",
      "371\t   \t100  \t0.164415  \t0  \t0.132721  \t0.464188 \t0.020332  \t0.0452802\t0.0662842\t0.109296\t0.044976  \t0.04     \t0.0912667\t0.206667\n"
     ]
    },
    {
     "output_type": "stream",
     "name": "stderr",
     "text": [
      "/media/jacqueline/Data/TSEvo/TSEvo/Problem.py:97: UserWarning: Implicit dimension choice for softmax has been deprecated. Change the call to include dim=X as an argument.\n",
      "  output = torch.nn.functional.softmax(self.model(input_)).detach().numpy()\n",
      "/media/jacqueline/Data/TSEvo/TSEvo/Problem.py:97: UserWarning: Implicit dimension choice for softmax has been deprecated. Change the call to include dim=X as an argument.\n",
      "  output = torch.nn.functional.softmax(self.model(input_)).detach().numpy()\n"
     ]
    },
    {
     "output_type": "stream",
     "name": "stdout",
     "text": [
      "372\t   \t100  \t0.16458   \t0  \t0.1325    \t0.464188 \t0.020373  \t0.0452802\t0.0665284\t0.109296\t0.0460482 \t0.04     \t0.0932667\t0.206667\n",
      "373\t   \t100  \t0.164955  \t0  \t0.131458  \t0.464188 \t0.0203312 \t0.0452802\t0.0665501\t0.109296\t0.0462178 \t0.04     \t0.0927333\t0.206667\n"
     ]
    },
    {
     "output_type": "stream",
     "name": "stderr",
     "text": [
      "/media/jacqueline/Data/TSEvo/TSEvo/Problem.py:97: UserWarning: Implicit dimension choice for softmax has been deprecated. Change the call to include dim=X as an argument.\n",
      "  output = torch.nn.functional.softmax(self.model(input_)).detach().numpy()\n",
      "/media/jacqueline/Data/TSEvo/TSEvo/Problem.py:97: UserWarning: Implicit dimension choice for softmax has been deprecated. Change the call to include dim=X as an argument.\n",
      "  output = torch.nn.functional.softmax(self.model(input_)).detach().numpy()\n"
     ]
    },
    {
     "output_type": "stream",
     "name": "stdout",
     "text": [
      "374\t   \t100  \t0.163728  \t0  \t0.131048  \t0.464188 \t0.0201863 \t0.0452802\t0.0662052\t0.109296\t0.0468899 \t0.04     \t0.0913333\t0.206667\n",
      "375\t   \t100  \t0.163743  \t0  \t0.131029  \t0.464188 \t0.0205277 \t0.0452802\t0.0666408\t0.109296\t0.047102  \t0.04     \t0.0930667\t0.206667\n"
     ]
    },
    {
     "output_type": "stream",
     "name": "stderr",
     "text": [
      "/media/jacqueline/Data/TSEvo/TSEvo/Problem.py:97: UserWarning: Implicit dimension choice for softmax has been deprecated. Change the call to include dim=X as an argument.\n",
      "  output = torch.nn.functional.softmax(self.model(input_)).detach().numpy()\n",
      "/media/jacqueline/Data/TSEvo/TSEvo/Problem.py:97: UserWarning: Implicit dimension choice for softmax has been deprecated. Change the call to include dim=X as an argument.\n",
      "  output = torch.nn.functional.softmax(self.model(input_)).detach().numpy()\n"
     ]
    },
    {
     "output_type": "stream",
     "name": "stdout",
     "text": [
      "376\t   \t100  \t0.163413  \t0  \t0.133182  \t0.464188 \t0.0205331 \t0.0452802\t0.06632  \t0.109296\t0.0466824 \t0.04     \t0.0924667\t0.206667\n",
      "377\t   \t100  \t0.159892  \t0  \t0.121237  \t0.464188 \t0.0205276 \t0.0452802\t0.067613 \t0.109296\t0.0470434 \t0.04     \t0.0944   \t0.206667\n"
     ]
    },
    {
     "output_type": "stream",
     "name": "stderr",
     "text": [
      "/media/jacqueline/Data/TSEvo/TSEvo/Problem.py:97: UserWarning: Implicit dimension choice for softmax has been deprecated. Change the call to include dim=X as an argument.\n",
      "  output = torch.nn.functional.softmax(self.model(input_)).detach().numpy()\n",
      "/media/jacqueline/Data/TSEvo/TSEvo/Problem.py:97: UserWarning: Implicit dimension choice for softmax has been deprecated. Change the call to include dim=X as an argument.\n",
      "  output = torch.nn.functional.softmax(self.model(input_)).detach().numpy()\n"
     ]
    },
    {
     "output_type": "stream",
     "name": "stdout",
     "text": [
      "378\t   \t100  \t0.165357  \t0  \t0.131216  \t0.464188 \t0.0201693 \t0.0452802\t0.0665333\t0.109296\t0.0468876 \t0.04     \t0.0938   \t0.206667\n",
      "379\t   \t100  \t0.166434  \t0  \t0.125633  \t0.464188 \t0.0200676 \t0.0452802\t0.0672188\t0.109296\t0.0476231 \t0.04     \t0.0935333\t0.206667\n"
     ]
    },
    {
     "output_type": "stream",
     "name": "stderr",
     "text": [
      "/media/jacqueline/Data/TSEvo/TSEvo/Problem.py:97: UserWarning: Implicit dimension choice for softmax has been deprecated. Change the call to include dim=X as an argument.\n",
      "  output = torch.nn.functional.softmax(self.model(input_)).detach().numpy()\n",
      "/media/jacqueline/Data/TSEvo/TSEvo/Problem.py:97: UserWarning: Implicit dimension choice for softmax has been deprecated. Change the call to include dim=X as an argument.\n",
      "  output = torch.nn.functional.softmax(self.model(input_)).detach().numpy()\n"
     ]
    },
    {
     "output_type": "stream",
     "name": "stdout",
     "text": [
      "380\t   \t100  \t0.166231  \t0  \t0.125725  \t0.464188 \t0.0202922 \t0.0452802\t0.0674434\t0.109296\t0.0472675 \t0.04     \t0.0932667\t0.206667\n",
      "381\t   \t100  \t0.165726  \t0  \t0.127163  \t0.464188 \t0.0202209 \t0.0452802\t0.0672163\t0.109296\t0.0497969 \t0.04     \t0.0954   \t0.22    \n"
     ]
    },
    {
     "output_type": "stream",
     "name": "stderr",
     "text": [
      "/media/jacqueline/Data/TSEvo/TSEvo/Problem.py:97: UserWarning: Implicit dimension choice for softmax has been deprecated. Change the call to include dim=X as an argument.\n",
      "  output = torch.nn.functional.softmax(self.model(input_)).detach().numpy()\n",
      "/media/jacqueline/Data/TSEvo/TSEvo/Problem.py:97: UserWarning: Implicit dimension choice for softmax has been deprecated. Change the call to include dim=X as an argument.\n",
      "  output = torch.nn.functional.softmax(self.model(input_)).detach().numpy()\n"
     ]
    },
    {
     "output_type": "stream",
     "name": "stdout",
     "text": [
      "382\t   \t100  \t0.167755  \t0  \t0.13081   \t0.464188 \t0.020161  \t0.0452802\t0.0670703\t0.109296\t0.0513738 \t0.04     \t0.0961333\t0.22    \n",
      "383\t   \t100  \t0.166937  \t0  \t0.133221  \t0.464188 \t0.0203601 \t0.0452802\t0.0664878\t0.109296\t0.0449503 \t0.04     \t0.0906   \t0.2     \n"
     ]
    },
    {
     "output_type": "stream",
     "name": "stderr",
     "text": [
      "/media/jacqueline/Data/TSEvo/TSEvo/Problem.py:97: UserWarning: Implicit dimension choice for softmax has been deprecated. Change the call to include dim=X as an argument.\n",
      "  output = torch.nn.functional.softmax(self.model(input_)).detach().numpy()\n",
      "/media/jacqueline/Data/TSEvo/TSEvo/Problem.py:97: UserWarning: Implicit dimension choice for softmax has been deprecated. Change the call to include dim=X as an argument.\n",
      "  output = torch.nn.functional.softmax(self.model(input_)).detach().numpy()\n"
     ]
    },
    {
     "output_type": "stream",
     "name": "stdout",
     "text": [
      "384\t   \t100  \t0.166886  \t0  \t0.135818  \t0.464188 \t0.0205777 \t0.0452802\t0.0661797\t0.109296\t0.0424444 \t0.04     \t0.0877333\t0.2     \n",
      "385\t   \t100  \t0.165836  \t0  \t0.12998   \t0.464188 \t0.020586  \t0.0452802\t0.0668061\t0.109296\t0.0451583 \t0.04     \t0.0894667\t0.2     \n"
     ]
    },
    {
     "output_type": "stream",
     "name": "stderr",
     "text": [
      "/media/jacqueline/Data/TSEvo/TSEvo/Problem.py:97: UserWarning: Implicit dimension choice for softmax has been deprecated. Change the call to include dim=X as an argument.\n",
      "  output = torch.nn.functional.softmax(self.model(input_)).detach().numpy()\n",
      "/media/jacqueline/Data/TSEvo/TSEvo/Problem.py:97: UserWarning: Implicit dimension choice for softmax has been deprecated. Change the call to include dim=X as an argument.\n",
      "  output = torch.nn.functional.softmax(self.model(input_)).detach().numpy()\n"
     ]
    },
    {
     "output_type": "stream",
     "name": "stdout",
     "text": [
      "386\t   \t100  \t0.169937  \t0  \t0.13608   \t0.464188 \t0.0205372 \t0.0452802\t0.0665263\t0.109296\t0.0461481 \t0.04     \t0.0915333\t0.2     \n",
      "387\t   \t100  \t0.171032  \t0  \t0.132153  \t0.464188 \t0.0205667 \t0.0452802\t0.0672505\t0.109296\t0.0459574 \t0.04     \t0.0927333\t0.2     \n"
     ]
    },
    {
     "output_type": "stream",
     "name": "stderr",
     "text": [
      "/media/jacqueline/Data/TSEvo/TSEvo/Problem.py:97: UserWarning: Implicit dimension choice for softmax has been deprecated. Change the call to include dim=X as an argument.\n",
      "  output = torch.nn.functional.softmax(self.model(input_)).detach().numpy()\n",
      "/media/jacqueline/Data/TSEvo/TSEvo/Problem.py:97: UserWarning: Implicit dimension choice for softmax has been deprecated. Change the call to include dim=X as an argument.\n",
      "  output = torch.nn.functional.softmax(self.model(input_)).detach().numpy()\n"
     ]
    },
    {
     "output_type": "stream",
     "name": "stdout",
     "text": [
      "388\t   \t100  \t0.169448  \t0  \t0.131177  \t0.464188 \t0.0208217 \t0.0452802\t0.0675274\t0.109296\t0.045337  \t0.04     \t0.0916667\t0.2     \n",
      "389\t   \t100  \t0.167481  \t0  \t0.13166   \t0.464188 \t0.0208271 \t0.0452802\t0.0673947\t0.109296\t0.0458292 \t0.04     \t0.0918   \t0.2     \n"
     ]
    },
    {
     "output_type": "stream",
     "name": "stderr",
     "text": [
      "/media/jacqueline/Data/TSEvo/TSEvo/Problem.py:97: UserWarning: Implicit dimension choice for softmax has been deprecated. Change the call to include dim=X as an argument.\n",
      "  output = torch.nn.functional.softmax(self.model(input_)).detach().numpy()\n",
      "/media/jacqueline/Data/TSEvo/TSEvo/Problem.py:97: UserWarning: Implicit dimension choice for softmax has been deprecated. Change the call to include dim=X as an argument.\n",
      "  output = torch.nn.functional.softmax(self.model(input_)).detach().numpy()\n"
     ]
    },
    {
     "output_type": "stream",
     "name": "stdout",
     "text": [
      "390\t   \t100  \t0.167386  \t0  \t0.131792  \t0.464188 \t0.0207655 \t0.0452802\t0.0673042\t0.109296\t0.04539   \t0.04     \t0.0908   \t0.2     \n",
      "391\t   \t100  \t0.169513  \t0  \t0.131011  \t0.464188 \t0.0206776 \t0.0452802\t0.067426 \t0.109296\t0.0457226 \t0.04     \t0.0912   \t0.2     \n"
     ]
    },
    {
     "output_type": "stream",
     "name": "stderr",
     "text": [
      "/media/jacqueline/Data/TSEvo/TSEvo/Problem.py:97: UserWarning: Implicit dimension choice for softmax has been deprecated. Change the call to include dim=X as an argument.\n",
      "  output = torch.nn.functional.softmax(self.model(input_)).detach().numpy()\n",
      "/media/jacqueline/Data/TSEvo/TSEvo/Problem.py:97: UserWarning: Implicit dimension choice for softmax has been deprecated. Change the call to include dim=X as an argument.\n",
      "  output = torch.nn.functional.softmax(self.model(input_)).detach().numpy()\n"
     ]
    },
    {
     "output_type": "stream",
     "name": "stdout",
     "text": [
      "392\t   \t100  \t0.169955  \t0  \t0.129824  \t0.464188 \t0.0204657 \t0.0452802\t0.06738  \t0.109296\t0.0470863 \t0.04     \t0.0928667\t0.2     \n",
      "393\t   \t100  \t0.170453  \t0  \t0.13542   \t0.464188 \t0.0204434 \t0.0452802\t0.0667266\t0.109296\t0.0467642 \t0.04     \t0.0928667\t0.2     \n"
     ]
    },
    {
     "output_type": "stream",
     "name": "stderr",
     "text": [
      "/media/jacqueline/Data/TSEvo/TSEvo/Problem.py:97: UserWarning: Implicit dimension choice for softmax has been deprecated. Change the call to include dim=X as an argument.\n",
      "  output = torch.nn.functional.softmax(self.model(input_)).detach().numpy()\n",
      "/media/jacqueline/Data/TSEvo/TSEvo/Problem.py:97: UserWarning: Implicit dimension choice for softmax has been deprecated. Change the call to include dim=X as an argument.\n",
      "  output = torch.nn.functional.softmax(self.model(input_)).detach().numpy()\n"
     ]
    },
    {
     "output_type": "stream",
     "name": "stdout",
     "text": [
      "394\t   \t100  \t0.164688  \t0  \t0.128231  \t0.464188 \t0.0205192 \t0.0452802\t0.0671886\t0.109296\t0.0467559 \t0.04     \t0.0923333\t0.2     \n",
      "395\t   \t100  \t0.164497  \t0  \t0.128609  \t0.464188 \t0.0207925 \t0.0452802\t0.067531 \t0.109296\t0.0467285 \t0.04     \t0.0926667\t0.2     \n"
     ]
    },
    {
     "output_type": "stream",
     "name": "stderr",
     "text": [
      "/media/jacqueline/Data/TSEvo/TSEvo/Problem.py:97: UserWarning: Implicit dimension choice for softmax has been deprecated. Change the call to include dim=X as an argument.\n",
      "  output = torch.nn.functional.softmax(self.model(input_)).detach().numpy()\n",
      "/media/jacqueline/Data/TSEvo/TSEvo/Problem.py:97: UserWarning: Implicit dimension choice for softmax has been deprecated. Change the call to include dim=X as an argument.\n",
      "  output = torch.nn.functional.softmax(self.model(input_)).detach().numpy()\n",
      "/media/jacqueline/Data/TSEvo/TSEvo/Problem.py:97: UserWarning: Implicit dimension choice for softmax has been deprecated. Change the call to include dim=X as an argument.\n",
      "  output = torch.nn.functional.softmax(self.model(input_)).detach().numpy()\n",
      "/media/jacqueline/Data/TSEvo/TSEvo/Problem.py:97: UserWarning: Implicit dimension choice for softmax has been deprecated. Change the call to include dim=X as an argument.\n",
      "  output = torch.nn.functional.softmax(self.model(input_)).detach().numpy()\n"
     ]
    },
    {
     "output_type": "stream",
     "name": "stdout",
     "text": [
      "396\t   \t100  \t0.166609  \t0  \t0.133562  \t0.464188 \t0.0205321 \t0.0452802\t0.0664535\t0.109296\t0.0455327 \t0.04     \t0.0903333\t0.2     \n",
      "397\t   \t100  \t0.167028  \t0  \t0.13155   \t0.464188 \t0.0206541 \t0.0452802\t0.0669726\t0.109296\t0.0465795 \t0.04     \t0.0915333\t0.2     \n",
      "398\t   \t100  \t0.166798  \t0  \t0.132804  \t0.464188 \t0.0203012 \t0.0452802\t0.0662931\t0.109296\t0.0465509 \t0.04     \t0.0915333\t0.2     \n"
     ]
    },
    {
     "output_type": "stream",
     "name": "stderr",
     "text": [
      "/media/jacqueline/Data/TSEvo/TSEvo/Problem.py:97: UserWarning: Implicit dimension choice for softmax has been deprecated. Change the call to include dim=X as an argument.\n",
      "  output = torch.nn.functional.softmax(self.model(input_)).detach().numpy()\n",
      "/media/jacqueline/Data/TSEvo/TSEvo/Problem.py:97: UserWarning: Implicit dimension choice for softmax has been deprecated. Change the call to include dim=X as an argument.\n",
      "  output = torch.nn.functional.softmax(self.model(input_)).detach().numpy()\n"
     ]
    },
    {
     "output_type": "stream",
     "name": "stdout",
     "text": [
      "399\t   \t100  \t0.166506  \t0  \t0.13434   \t0.464188 \t0.020359  \t0.0452802\t0.0662733\t0.109296\t0.0459137 \t0.04     \t0.0918667\t0.2     \n",
      "400\t   \t100  \t0.165501  \t0  \t0.131266  \t0.464188 \t0.0202749 \t0.0452802\t0.0663981\t0.109296\t0.0444812 \t0.04     \t0.0907333\t0.2     \n"
     ]
    },
    {
     "output_type": "stream",
     "name": "stderr",
     "text": [
      "/media/jacqueline/Data/TSEvo/TSEvo/Problem.py:97: UserWarning: Implicit dimension choice for softmax has been deprecated. Change the call to include dim=X as an argument.\n",
      "  output = torch.nn.functional.softmax(self.model(input_)).detach().numpy()\n",
      "/media/jacqueline/Data/TSEvo/TSEvo/Problem.py:97: UserWarning: Implicit dimension choice for softmax has been deprecated. Change the call to include dim=X as an argument.\n",
      "  output = torch.nn.functional.softmax(self.model(input_)).detach().numpy()\n"
     ]
    },
    {
     "output_type": "stream",
     "name": "stdout",
     "text": [
      "401\t   \t100  \t0.166756  \t0  \t0.132882  \t0.464188 \t0.0203141 \t0.0452802\t0.0664109\t0.109296\t0.0450629 \t0.04     \t0.0913333\t0.2     \n",
      "402\t   \t100  \t0.167827  \t0  \t0.134134  \t0.464188 \t0.0202013 \t0.0452802\t0.0661966\t0.109296\t0.0462536 \t0.04     \t0.0929333\t0.2     \n"
     ]
    },
    {
     "output_type": "stream",
     "name": "stderr",
     "text": [
      "/media/jacqueline/Data/TSEvo/TSEvo/Problem.py:97: UserWarning: Implicit dimension choice for softmax has been deprecated. Change the call to include dim=X as an argument.\n",
      "  output = torch.nn.functional.softmax(self.model(input_)).detach().numpy()\n",
      "/media/jacqueline/Data/TSEvo/TSEvo/Problem.py:97: UserWarning: Implicit dimension choice for softmax has been deprecated. Change the call to include dim=X as an argument.\n",
      "  output = torch.nn.functional.softmax(self.model(input_)).detach().numpy()\n"
     ]
    },
    {
     "output_type": "stream",
     "name": "stdout",
     "text": [
      "403\t   \t100  \t0.167842  \t0  \t0.133968  \t0.464188 \t0.0201981 \t0.0452802\t0.0661517\t0.109296\t0.0460435 \t0.04     \t0.092    \t0.2     \n",
      "404\t   \t100  \t0.168679  \t0  \t0.137559  \t0.464188 \t0.0202636 \t0.0452802\t0.0658396\t0.109296\t0.045812  \t0.04     \t0.0914667\t0.2     \n"
     ]
    },
    {
     "output_type": "stream",
     "name": "stderr",
     "text": [
      "/media/jacqueline/Data/TSEvo/TSEvo/Problem.py:97: UserWarning: Implicit dimension choice for softmax has been deprecated. Change the call to include dim=X as an argument.\n",
      "  output = torch.nn.functional.softmax(self.model(input_)).detach().numpy()\n",
      "/media/jacqueline/Data/TSEvo/TSEvo/Problem.py:97: UserWarning: Implicit dimension choice for softmax has been deprecated. Change the call to include dim=X as an argument.\n",
      "  output = torch.nn.functional.softmax(self.model(input_)).detach().numpy()\n"
     ]
    },
    {
     "output_type": "stream",
     "name": "stdout",
     "text": [
      "405\t   \t100  \t0.165587  \t0  \t0.134199  \t0.464188 \t0.0203528 \t0.0452802\t0.0661114\t0.109296\t0.0433452 \t0.04     \t0.0891333\t0.2     \n",
      "406\t   \t100  \t0.163749  \t0  \t0.134211  \t0.464188 \t0.0202863 \t0.0452802\t0.0658655\t0.109296\t0.0417919 \t0.04     \t0.0888   \t0.2     \n"
     ]
    },
    {
     "output_type": "stream",
     "name": "stderr",
     "text": [
      "/media/jacqueline/Data/TSEvo/TSEvo/Problem.py:97: UserWarning: Implicit dimension choice for softmax has been deprecated. Change the call to include dim=X as an argument.\n",
      "  output = torch.nn.functional.softmax(self.model(input_)).detach().numpy()\n",
      "/media/jacqueline/Data/TSEvo/TSEvo/Problem.py:97: UserWarning: Implicit dimension choice for softmax has been deprecated. Change the call to include dim=X as an argument.\n",
      "  output = torch.nn.functional.softmax(self.model(input_)).detach().numpy()\n"
     ]
    },
    {
     "output_type": "stream",
     "name": "stdout",
     "text": [
      "407\t   \t100  \t0.165715  \t0  \t0.134158  \t0.464188 \t0.0206152 \t0.0452802\t0.0665804\t0.109296\t0.0427758 \t0.04     \t0.0899333\t0.2     \n",
      "408\t   \t100  \t0.165562  \t0  \t0.134422  \t0.464188 \t0.0206828 \t0.0452802\t0.0666386\t0.109296\t0.0379122 \t0.04     \t0.0866667\t0.173333\n"
     ]
    },
    {
     "output_type": "stream",
     "name": "stderr",
     "text": [
      "/media/jacqueline/Data/TSEvo/TSEvo/Problem.py:97: UserWarning: Implicit dimension choice for softmax has been deprecated. Change the call to include dim=X as an argument.\n",
      "  output = torch.nn.functional.softmax(self.model(input_)).detach().numpy()\n",
      "/media/jacqueline/Data/TSEvo/TSEvo/Problem.py:97: UserWarning: Implicit dimension choice for softmax has been deprecated. Change the call to include dim=X as an argument.\n",
      "  output = torch.nn.functional.softmax(self.model(input_)).detach().numpy()\n"
     ]
    },
    {
     "output_type": "stream",
     "name": "stdout",
     "text": [
      "409\t   \t100  \t0.165094  \t0  \t0.136268  \t0.464188 \t0.0207279 \t0.0452802\t0.0664215\t0.109296\t0.0386517 \t0.04     \t0.0879333\t0.173333\n",
      "410\t   \t100  \t0.164613  \t0  \t0.138302  \t0.464188 \t0.0206588 \t0.0452802\t0.0659793\t0.109296\t0.0388004 \t0.04     \t0.0875333\t0.173333\n"
     ]
    },
    {
     "output_type": "stream",
     "name": "stderr",
     "text": [
      "/media/jacqueline/Data/TSEvo/TSEvo/Problem.py:97: UserWarning: Implicit dimension choice for softmax has been deprecated. Change the call to include dim=X as an argument.\n",
      "  output = torch.nn.functional.softmax(self.model(input_)).detach().numpy()\n",
      "/media/jacqueline/Data/TSEvo/TSEvo/Problem.py:97: UserWarning: Implicit dimension choice for softmax has been deprecated. Change the call to include dim=X as an argument.\n",
      "  output = torch.nn.functional.softmax(self.model(input_)).detach().numpy()\n"
     ]
    },
    {
     "output_type": "stream",
     "name": "stdout",
     "text": [
      "411\t   \t100  \t0.165087  \t0  \t0.136296  \t0.464188 \t0.0207089 \t0.0452802\t0.066447 \t0.109296\t0.0384837 \t0.04     \t0.0882667\t0.173333\n",
      "412\t   \t100  \t0.164942  \t0  \t0.136181  \t0.464188 \t0.0203229 \t0.0452802\t0.0659537\t0.109296\t0.0381889 \t0.04     \t0.0887333\t0.173333\n"
     ]
    },
    {
     "output_type": "stream",
     "name": "stderr",
     "text": [
      "/media/jacqueline/Data/TSEvo/TSEvo/Problem.py:97: UserWarning: Implicit dimension choice for softmax has been deprecated. Change the call to include dim=X as an argument.\n",
      "  output = torch.nn.functional.softmax(self.model(input_)).detach().numpy()\n",
      "/media/jacqueline/Data/TSEvo/TSEvo/Problem.py:97: UserWarning: Implicit dimension choice for softmax has been deprecated. Change the call to include dim=X as an argument.\n",
      "  output = torch.nn.functional.softmax(self.model(input_)).detach().numpy()\n"
     ]
    },
    {
     "output_type": "stream",
     "name": "stdout",
     "text": [
      "413\t   \t100  \t0.16681   \t0  \t0.141388  \t0.464188 \t0.0208266 \t0.0452802\t0.065932 \t0.109296\t0.0370165 \t0.04     \t0.0873333\t0.166667\n",
      "414\t   \t100  \t0.165249  \t0  \t0.14205   \t0.464188 \t0.0206733 \t0.0452802\t0.0654643\t0.109296\t0.0366166 \t0.04     \t0.087    \t0.166667\n"
     ]
    },
    {
     "output_type": "stream",
     "name": "stderr",
     "text": [
      "/media/jacqueline/Data/TSEvo/TSEvo/Problem.py:97: UserWarning: Implicit dimension choice for softmax has been deprecated. Change the call to include dim=X as an argument.\n",
      "  output = torch.nn.functional.softmax(self.model(input_)).detach().numpy()\n",
      "/media/jacqueline/Data/TSEvo/TSEvo/Problem.py:97: UserWarning: Implicit dimension choice for softmax has been deprecated. Change the call to include dim=X as an argument.\n",
      "  output = torch.nn.functional.softmax(self.model(input_)).detach().numpy()\n"
     ]
    },
    {
     "output_type": "stream",
     "name": "stdout",
     "text": [
      "415\t   \t100  \t0.166494  \t0  \t0.144328  \t0.464188 \t0.020803  \t0.0452802\t0.0657679\t0.109296\t0.0365695 \t0.04     \t0.0866   \t0.166667\n",
      "416\t   \t100  \t0.167346  \t0  \t0.141241  \t0.464188 \t0.0207358 \t0.0452802\t0.0660354\t0.109296\t0.0357206 \t0.04     \t0.0864667\t0.166667\n"
     ]
    },
    {
     "output_type": "stream",
     "name": "stderr",
     "text": [
      "/media/jacqueline/Data/TSEvo/TSEvo/Problem.py:97: UserWarning: Implicit dimension choice for softmax has been deprecated. Change the call to include dim=X as an argument.\n",
      "  output = torch.nn.functional.softmax(self.model(input_)).detach().numpy()\n",
      "/media/jacqueline/Data/TSEvo/TSEvo/Problem.py:97: UserWarning: Implicit dimension choice for softmax has been deprecated. Change the call to include dim=X as an argument.\n",
      "  output = torch.nn.functional.softmax(self.model(input_)).detach().numpy()\n"
     ]
    },
    {
     "output_type": "stream",
     "name": "stdout",
     "text": [
      "417\t   \t100  \t0.167535  \t0  \t0.140999  \t0.464188 \t0.0210013 \t0.0452802\t0.0665949\t0.109296\t0.0357644 \t0.04     \t0.0868   \t0.166667\n",
      "418\t   \t100  \t0.164054  \t0  \t0.135067  \t0.464188 \t0.0209661 \t0.0452802\t0.0667891\t0.109296\t0.0360106 \t0.04     \t0.0848667\t0.166667\n"
     ]
    },
    {
     "output_type": "stream",
     "name": "stderr",
     "text": [
      "/media/jacqueline/Data/TSEvo/TSEvo/Problem.py:97: UserWarning: Implicit dimension choice for softmax has been deprecated. Change the call to include dim=X as an argument.\n",
      "  output = torch.nn.functional.softmax(self.model(input_)).detach().numpy()\n",
      "/media/jacqueline/Data/TSEvo/TSEvo/Problem.py:97: UserWarning: Implicit dimension choice for softmax has been deprecated. Change the call to include dim=X as an argument.\n",
      "  output = torch.nn.functional.softmax(self.model(input_)).detach().numpy()\n"
     ]
    },
    {
     "output_type": "stream",
     "name": "stdout",
     "text": [
      "419\t   \t100  \t0.16361   \t0  \t0.137049  \t0.464188 \t0.0210009 \t0.0452802\t0.0665134\t0.109296\t0.0351946 \t0.04     \t0.0834   \t0.166667\n",
      "420\t   \t100  \t0.166618  \t0  \t0.13794   \t0.464188 \t0.020755  \t0.0452802\t0.0663497\t0.109296\t0.0352446 \t0.04     \t0.0831333\t0.166667\n"
     ]
    },
    {
     "output_type": "stream",
     "name": "stderr",
     "text": [
      "/media/jacqueline/Data/TSEvo/TSEvo/Problem.py:97: UserWarning: Implicit dimension choice for softmax has been deprecated. Change the call to include dim=X as an argument.\n",
      "  output = torch.nn.functional.softmax(self.model(input_)).detach().numpy()\n",
      "/media/jacqueline/Data/TSEvo/TSEvo/Problem.py:97: UserWarning: Implicit dimension choice for softmax has been deprecated. Change the call to include dim=X as an argument.\n",
      "  output = torch.nn.functional.softmax(self.model(input_)).detach().numpy()\n"
     ]
    },
    {
     "output_type": "stream",
     "name": "stdout",
     "text": [
      "421\t   \t100  \t0.16552   \t0  \t0.143998  \t0.464188 \t0.0208261 \t0.0452802\t0.0658312\t0.109296\t0.0342005 \t0.04     \t0.0821333\t0.166667\n",
      "422\t   \t100  \t0.165451  \t0  \t0.144074  \t0.464188 \t0.020752  \t0.0452802\t0.0656212\t0.109296\t0.0343418 \t0.04     \t0.0825333\t0.166667\n"
     ]
    },
    {
     "output_type": "stream",
     "name": "stderr",
     "text": [
      "/media/jacqueline/Data/TSEvo/TSEvo/Problem.py:97: UserWarning: Implicit dimension choice for softmax has been deprecated. Change the call to include dim=X as an argument.\n",
      "  output = torch.nn.functional.softmax(self.model(input_)).detach().numpy()\n",
      "/media/jacqueline/Data/TSEvo/TSEvo/Problem.py:97: UserWarning: Implicit dimension choice for softmax has been deprecated. Change the call to include dim=X as an argument.\n",
      "  output = torch.nn.functional.softmax(self.model(input_)).detach().numpy()\n"
     ]
    },
    {
     "output_type": "stream",
     "name": "stdout",
     "text": [
      "423\t   \t100  \t0.165965  \t0  \t0.144727  \t0.497555 \t0.0201951 \t0.0451967\t0.0647792\t0.109296\t0.0336953 \t0.04     \t0.0814   \t0.166667\n",
      "424\t   \t100  \t0.166639  \t0  \t0.143775  \t0.497555 \t0.0205291 \t0.0451967\t0.0653429\t0.109296\t0.0343058 \t0.04     \t0.0826667\t0.166667\n"
     ]
    },
    {
     "output_type": "stream",
     "name": "stderr",
     "text": [
      "/media/jacqueline/Data/TSEvo/TSEvo/Problem.py:97: UserWarning: Implicit dimension choice for softmax has been deprecated. Change the call to include dim=X as an argument.\n",
      "  output = torch.nn.functional.softmax(self.model(input_)).detach().numpy()\n",
      "/media/jacqueline/Data/TSEvo/TSEvo/Problem.py:97: UserWarning: Implicit dimension choice for softmax has been deprecated. Change the call to include dim=X as an argument.\n",
      "  output = torch.nn.functional.softmax(self.model(input_)).detach().numpy()\n"
     ]
    },
    {
     "output_type": "stream",
     "name": "stdout",
     "text": [
      "425\t   \t100  \t0.16641   \t0  \t0.143887  \t0.497555 \t0.0205043 \t0.0451967\t0.0651072\t0.109296\t0.0343355 \t0.04     \t0.0819333\t0.166667\n",
      "426\t   \t100  \t0.168989  \t0  \t0.150504  \t0.497555 \t0.0210205 \t0.0451967\t0.0653789\t0.109296\t0.0331388 \t0.04     \t0.0798   \t0.166667\n"
     ]
    },
    {
     "output_type": "stream",
     "name": "stderr",
     "text": [
      "/media/jacqueline/Data/TSEvo/TSEvo/Problem.py:97: UserWarning: Implicit dimension choice for softmax has been deprecated. Change the call to include dim=X as an argument.\n",
      "  output = torch.nn.functional.softmax(self.model(input_)).detach().numpy()\n",
      "/media/jacqueline/Data/TSEvo/TSEvo/Problem.py:97: UserWarning: Implicit dimension choice for softmax has been deprecated. Change the call to include dim=X as an argument.\n",
      "  output = torch.nn.functional.softmax(self.model(input_)).detach().numpy()\n"
     ]
    },
    {
     "output_type": "stream",
     "name": "stdout",
     "text": [
      "427\t   \t100  \t0.169078  \t0  \t0.150394  \t0.497555 \t0.0210816 \t0.0451967\t0.0655787\t0.109296\t0.0333101 \t0.04     \t0.0804667\t0.166667\n",
      "428\t   \t100  \t0.167386  \t0  \t0.142999  \t0.497555 \t0.0208892 \t0.0451967\t0.0659546\t0.109296\t0.0329916 \t0.04     \t0.0806667\t0.16    \n"
     ]
    },
    {
     "output_type": "stream",
     "name": "stderr",
     "text": [
      "/media/jacqueline/Data/TSEvo/TSEvo/Problem.py:97: UserWarning: Implicit dimension choice for softmax has been deprecated. Change the call to include dim=X as an argument.\n",
      "  output = torch.nn.functional.softmax(self.model(input_)).detach().numpy()\n",
      "/media/jacqueline/Data/TSEvo/TSEvo/Problem.py:97: UserWarning: Implicit dimension choice for softmax has been deprecated. Change the call to include dim=X as an argument.\n",
      "  output = torch.nn.functional.softmax(self.model(input_)).detach().numpy()\n"
     ]
    },
    {
     "output_type": "stream",
     "name": "stdout",
     "text": [
      "429\t   \t100  \t0.167696  \t0  \t0.141295  \t0.497555 \t0.0208092 \t0.0451967\t0.0660084\t0.109296\t0.032837  \t0.04     \t0.0811333\t0.16    \n",
      "430\t   \t100  \t0.167996  \t0  \t0.140705  \t0.497555 \t0.0207363 \t0.0451967\t0.0660011\t0.109296\t0.032219  \t0.04     \t0.0804   \t0.16    \n"
     ]
    },
    {
     "output_type": "stream",
     "name": "stderr",
     "text": [
      "/media/jacqueline/Data/TSEvo/TSEvo/Problem.py:97: UserWarning: Implicit dimension choice for softmax has been deprecated. Change the call to include dim=X as an argument.\n",
      "  output = torch.nn.functional.softmax(self.model(input_)).detach().numpy()\n",
      "/media/jacqueline/Data/TSEvo/TSEvo/Problem.py:97: UserWarning: Implicit dimension choice for softmax has been deprecated. Change the call to include dim=X as an argument.\n",
      "  output = torch.nn.functional.softmax(self.model(input_)).detach().numpy()\n"
     ]
    },
    {
     "output_type": "stream",
     "name": "stdout",
     "text": [
      "431\t   \t100  \t0.170165  \t0  \t0.144981  \t0.497555 \t0.0205572 \t0.0451967\t0.0655019\t0.109296\t0.0311894 \t0.04     \t0.0796667\t0.16    \n",
      "432\t   \t100  \t0.170003  \t0  \t0.145234  \t0.497555 \t0.0205261 \t0.0451967\t0.0653127\t0.109296\t0.0311306 \t0.04     \t0.0795333\t0.16    \n"
     ]
    },
    {
     "output_type": "stream",
     "name": "stderr",
     "text": [
      "/media/jacqueline/Data/TSEvo/TSEvo/Problem.py:97: UserWarning: Implicit dimension choice for softmax has been deprecated. Change the call to include dim=X as an argument.\n",
      "  output = torch.nn.functional.softmax(self.model(input_)).detach().numpy()\n",
      "/media/jacqueline/Data/TSEvo/TSEvo/Problem.py:97: UserWarning: Implicit dimension choice for softmax has been deprecated. Change the call to include dim=X as an argument.\n",
      "  output = torch.nn.functional.softmax(self.model(input_)).detach().numpy()\n"
     ]
    },
    {
     "output_type": "stream",
     "name": "stdout",
     "text": [
      "433\t   \t100  \t0.170085  \t0  \t0.145133  \t0.497555 \t0.0207303 \t0.0451967\t0.0656623\t0.109296\t0.0310196 \t0.04     \t0.0800667\t0.16    \n",
      "434\t   \t100  \t0.174439  \t0  \t0.151075  \t0.497555 \t0.0212316 \t0.0451967\t0.065925 \t0.109296\t0.0307379 \t0.04     \t0.0797333\t0.16    \n"
     ]
    },
    {
     "output_type": "stream",
     "name": "stderr",
     "text": [
      "/media/jacqueline/Data/TSEvo/TSEvo/Problem.py:97: UserWarning: Implicit dimension choice for softmax has been deprecated. Change the call to include dim=X as an argument.\n",
      "  output = torch.nn.functional.softmax(self.model(input_)).detach().numpy()\n",
      "/media/jacqueline/Data/TSEvo/TSEvo/Problem.py:97: UserWarning: Implicit dimension choice for softmax has been deprecated. Change the call to include dim=X as an argument.\n",
      "  output = torch.nn.functional.softmax(self.model(input_)).detach().numpy()\n"
     ]
    },
    {
     "output_type": "stream",
     "name": "stdout",
     "text": [
      "435\t   \t100  \t0.177133  \t0  \t0.156039  \t0.497555 \t0.021199  \t0.0451967\t0.0656433\t0.109296\t0.0313032 \t0.04     \t0.0796667\t0.16    \n",
      "436\t   \t100  \t0.176858  \t0  \t0.152549  \t0.497555 \t0.0211219 \t0.0451967\t0.065881 \t0.109296\t0.0313815 \t0.04     \t0.0792667\t0.16    \n"
     ]
    },
    {
     "output_type": "stream",
     "name": "stderr",
     "text": [
      "/media/jacqueline/Data/TSEvo/TSEvo/Problem.py:97: UserWarning: Implicit dimension choice for softmax has been deprecated. Change the call to include dim=X as an argument.\n",
      "  output = torch.nn.functional.softmax(self.model(input_)).detach().numpy()\n",
      "/media/jacqueline/Data/TSEvo/TSEvo/Problem.py:97: UserWarning: Implicit dimension choice for softmax has been deprecated. Change the call to include dim=X as an argument.\n",
      "  output = torch.nn.functional.softmax(self.model(input_)).detach().numpy()\n"
     ]
    },
    {
     "output_type": "stream",
     "name": "stdout",
     "text": [
      "437\t   \t100  \t0.176855  \t0  \t0.152553  \t0.497555 \t0.0210574 \t0.0451967\t0.0657915\t0.109296\t0.0313497 \t0.04     \t0.0791333\t0.16    \n",
      "438\t   \t100  \t0.176224  \t0  \t0.154372  \t0.497555 \t0.0206165 \t0.0451967\t0.0651755\t0.109296\t0.0296066 \t0.04     \t0.0784   \t0.146667\n"
     ]
    },
    {
     "output_type": "stream",
     "name": "stderr",
     "text": [
      "/media/jacqueline/Data/TSEvo/TSEvo/Problem.py:97: UserWarning: Implicit dimension choice for softmax has been deprecated. Change the call to include dim=X as an argument.\n",
      "  output = torch.nn.functional.softmax(self.model(input_)).detach().numpy()\n",
      "/media/jacqueline/Data/TSEvo/TSEvo/Problem.py:97: UserWarning: Implicit dimension choice for softmax has been deprecated. Change the call to include dim=X as an argument.\n",
      "  output = torch.nn.functional.softmax(self.model(input_)).detach().numpy()\n"
     ]
    },
    {
     "output_type": "stream",
     "name": "stdout",
     "text": [
      "439\t   \t100  \t0.176872  \t0  \t0.152541  \t0.497555 \t0.0205684 \t0.0451967\t0.0653503\t0.109296\t0.028889  \t0.04     \t0.0774   \t0.146667\n",
      "440\t   \t100  \t0.177016  \t0  \t0.152359  \t0.497555 \t0.020383  \t0.0451967\t0.0653547\t0.109296\t0.0283391 \t0.04     \t0.0767333\t0.146667\n"
     ]
    },
    {
     "output_type": "stream",
     "name": "stderr",
     "text": [
      "/media/jacqueline/Data/TSEvo/TSEvo/Problem.py:97: UserWarning: Implicit dimension choice for softmax has been deprecated. Change the call to include dim=X as an argument.\n",
      "  output = torch.nn.functional.softmax(self.model(input_)).detach().numpy()\n",
      "/media/jacqueline/Data/TSEvo/TSEvo/Problem.py:97: UserWarning: Implicit dimension choice for softmax has been deprecated. Change the call to include dim=X as an argument.\n",
      "  output = torch.nn.functional.softmax(self.model(input_)).detach().numpy()\n"
     ]
    },
    {
     "output_type": "stream",
     "name": "stdout",
     "text": [
      "441\t   \t100  \t0.178455  \t0  \t0.157152  \t0.497555 \t0.0202898 \t0.0451967\t0.0646968\t0.109296\t0.0284163 \t0.04     \t0.0769333\t0.146667\n",
      "442\t   \t100  \t0.177552  \t0  \t0.158696  \t0.497555 \t0.0205609 \t0.0451967\t0.0647893\t0.109296\t0.0283861 \t0.04     \t0.0766   \t0.146667\n"
     ]
    },
    {
     "output_type": "stream",
     "name": "stderr",
     "text": [
      "/media/jacqueline/Data/TSEvo/TSEvo/Problem.py:97: UserWarning: Implicit dimension choice for softmax has been deprecated. Change the call to include dim=X as an argument.\n",
      "  output = torch.nn.functional.softmax(self.model(input_)).detach().numpy()\n",
      "/media/jacqueline/Data/TSEvo/TSEvo/Problem.py:97: UserWarning: Implicit dimension choice for softmax has been deprecated. Change the call to include dim=X as an argument.\n",
      "  output = torch.nn.functional.softmax(self.model(input_)).detach().numpy()\n"
     ]
    },
    {
     "output_type": "stream",
     "name": "stdout",
     "text": [
      "443\t   \t100  \t0.17661   \t0  \t0.152768  \t0.497555 \t0.0204339 \t0.0451967\t0.0651066\t0.109296\t0.0280072 \t0.04     \t0.0768667\t0.146667\n",
      "444\t   \t100  \t0.176605  \t0  \t0.152724  \t0.497555 \t0.0203507 \t0.0451967\t0.065031 \t0.109296\t0.0274404 \t0.04     \t0.0760667\t0.146667\n"
     ]
    },
    {
     "output_type": "stream",
     "name": "stderr",
     "text": [
      "/media/jacqueline/Data/TSEvo/TSEvo/Problem.py:97: UserWarning: Implicit dimension choice for softmax has been deprecated. Change the call to include dim=X as an argument.\n",
      "  output = torch.nn.functional.softmax(self.model(input_)).detach().numpy()\n",
      "/media/jacqueline/Data/TSEvo/TSEvo/Problem.py:97: UserWarning: Implicit dimension choice for softmax has been deprecated. Change the call to include dim=X as an argument.\n",
      "  output = torch.nn.functional.softmax(self.model(input_)).detach().numpy()\n"
     ]
    },
    {
     "output_type": "stream",
     "name": "stdout",
     "text": [
      "445\t   \t100  \t0.176286  \t0  \t0.149471  \t0.497555 \t0.0205922 \t0.0451967\t0.0657227\t0.109296\t0.0276591 \t0.04     \t0.0758   \t0.146667\n",
      "446\t   \t100  \t0.177272  \t0  \t0.146911  \t0.497555 \t0.0211892 \t0.0451967\t0.0665757\t0.109296\t0.026853  \t0.04     \t0.0756   \t0.146667\n"
     ]
    },
    {
     "output_type": "stream",
     "name": "stderr",
     "text": [
      "/media/jacqueline/Data/TSEvo/TSEvo/Problem.py:97: UserWarning: Implicit dimension choice for softmax has been deprecated. Change the call to include dim=X as an argument.\n",
      "  output = torch.nn.functional.softmax(self.model(input_)).detach().numpy()\n",
      "/media/jacqueline/Data/TSEvo/TSEvo/Problem.py:97: UserWarning: Implicit dimension choice for softmax has been deprecated. Change the call to include dim=X as an argument.\n",
      "  output = torch.nn.functional.softmax(self.model(input_)).detach().numpy()\n"
     ]
    },
    {
     "output_type": "stream",
     "name": "stdout",
     "text": [
      "447\t   \t100  \t0.178592  \t0  \t0.152924  \t0.497555 \t0.0209378 \t0.0451967\t0.0660055\t0.109296\t0.0272127 \t0.04     \t0.0760667\t0.146667\n",
      "448\t   \t100  \t0.178099  \t0  \t0.153582  \t0.497555 \t0.0204858 \t0.0451967\t0.0651918\t0.109296\t0.0269604 \t0.04     \t0.0744   \t0.14    \n"
     ]
    },
    {
     "output_type": "stream",
     "name": "stderr",
     "text": [
      "/media/jacqueline/Data/TSEvo/TSEvo/Problem.py:97: UserWarning: Implicit dimension choice for softmax has been deprecated. Change the call to include dim=X as an argument.\n",
      "  output = torch.nn.functional.softmax(self.model(input_)).detach().numpy()\n",
      "/media/jacqueline/Data/TSEvo/TSEvo/Problem.py:97: UserWarning: Implicit dimension choice for softmax has been deprecated. Change the call to include dim=X as an argument.\n",
      "  output = torch.nn.functional.softmax(self.model(input_)).detach().numpy()\n"
     ]
    },
    {
     "output_type": "stream",
     "name": "stdout",
     "text": [
      "449\t   \t100  \t0.178675  \t0  \t0.152496  \t0.497555 \t0.020684  \t0.0451967\t0.0654723\t0.109296\t0.0262192 \t0.04     \t0.0743333\t0.14    \n",
      "450\t   \t100  \t0.18031   \t0  \t0.156916  \t0.497555 \t0.0208672 \t0.0451967\t0.0652359\t0.109296\t0.0274145 \t0.04     \t0.0753333\t0.16    \n"
     ]
    },
    {
     "output_type": "stream",
     "name": "stderr",
     "text": [
      "/media/jacqueline/Data/TSEvo/TSEvo/Problem.py:97: UserWarning: Implicit dimension choice for softmax has been deprecated. Change the call to include dim=X as an argument.\n",
      "  output = torch.nn.functional.softmax(self.model(input_)).detach().numpy()\n",
      "/media/jacqueline/Data/TSEvo/TSEvo/Problem.py:97: UserWarning: Implicit dimension choice for softmax has been deprecated. Change the call to include dim=X as an argument.\n",
      "  output = torch.nn.functional.softmax(self.model(input_)).detach().numpy()\n"
     ]
    },
    {
     "output_type": "stream",
     "name": "stdout",
     "text": [
      "451\t   \t100  \t0.178682  \t0  \t0.156305  \t0.497555 \t0.0204304 \t0.0451967\t0.0647453\t0.109296\t0.0279622 \t0.04     \t0.0750667\t0.16    \n",
      "452\t   \t100  \t0.177876  \t0  \t0.152458  \t0.497555 \t0.0205053 \t0.0451967\t0.0651701\t0.109296\t0.0283862 \t0.04     \t0.0753333\t0.16    \n"
     ]
    },
    {
     "output_type": "stream",
     "name": "stderr",
     "text": [
      "/media/jacqueline/Data/TSEvo/TSEvo/Problem.py:97: UserWarning: Implicit dimension choice for softmax has been deprecated. Change the call to include dim=X as an argument.\n",
      "  output = torch.nn.functional.softmax(self.model(input_)).detach().numpy()\n",
      "/media/jacqueline/Data/TSEvo/TSEvo/Problem.py:97: UserWarning: Implicit dimension choice for softmax has been deprecated. Change the call to include dim=X as an argument.\n",
      "  output = torch.nn.functional.softmax(self.model(input_)).detach().numpy()\n"
     ]
    },
    {
     "output_type": "stream",
     "name": "stdout",
     "text": [
      "453\t   \t100  \t0.177732  \t0  \t0.151006  \t0.497555 \t0.0202919 \t0.0451967\t0.0650624\t0.109296\t0.028294  \t0.04     \t0.0750667\t0.16    \n",
      "454\t   \t100  \t0.178497  \t0  \t0.154812  \t0.497555 \t0.0201576 \t0.0451967\t0.0645611\t0.109296\t0.0282371 \t0.04     \t0.0746667\t0.16    \n"
     ]
    },
    {
     "output_type": "stream",
     "name": "stderr",
     "text": [
      "/media/jacqueline/Data/TSEvo/TSEvo/Problem.py:97: UserWarning: Implicit dimension choice for softmax has been deprecated. Change the call to include dim=X as an argument.\n",
      "  output = torch.nn.functional.softmax(self.model(input_)).detach().numpy()\n",
      "/media/jacqueline/Data/TSEvo/TSEvo/Problem.py:97: UserWarning: Implicit dimension choice for softmax has been deprecated. Change the call to include dim=X as an argument.\n",
      "  output = torch.nn.functional.softmax(self.model(input_)).detach().numpy()\n"
     ]
    },
    {
     "output_type": "stream",
     "name": "stdout",
     "text": [
      "455\t   \t100  \t0.178602  \t0  \t0.154686  \t0.497555 \t0.0205396 \t0.0451967\t0.0649941\t0.109296\t0.027445  \t0.04     \t0.0745333\t0.16    \n",
      "456\t   \t100  \t0.175636  \t0  \t0.143997  \t0.497555 \t0.0202489 \t0.0451967\t0.0653187\t0.109296\t0.0272457 \t0.04     \t0.0749333\t0.16    \n"
     ]
    },
    {
     "output_type": "stream",
     "name": "stderr",
     "text": [
      "/media/jacqueline/Data/TSEvo/TSEvo/Problem.py:97: UserWarning: Implicit dimension choice for softmax has been deprecated. Change the call to include dim=X as an argument.\n",
      "  output = torch.nn.functional.softmax(self.model(input_)).detach().numpy()\n",
      "/media/jacqueline/Data/TSEvo/TSEvo/Problem.py:97: UserWarning: Implicit dimension choice for softmax has been deprecated. Change the call to include dim=X as an argument.\n",
      "  output = torch.nn.functional.softmax(self.model(input_)).detach().numpy()\n"
     ]
    },
    {
     "output_type": "stream",
     "name": "stdout",
     "text": [
      "457\t   \t100  \t0.176811  \t0  \t0.150589  \t0.497555 \t0.0209234 \t0.0451967\t0.065447 \t0.109296\t0.0273093 \t0.04     \t0.0742667\t0.16    \n",
      "458\t   \t100  \t0.179483  \t0  \t0.155558  \t0.497555 \t0.0206626 \t0.0451967\t0.0648648\t0.109296\t0.0276977 \t0.04     \t0.0744667\t0.16    \n"
     ]
    },
    {
     "output_type": "stream",
     "name": "stderr",
     "text": [
      "/media/jacqueline/Data/TSEvo/TSEvo/Problem.py:97: UserWarning: Implicit dimension choice for softmax has been deprecated. Change the call to include dim=X as an argument.\n",
      "  output = torch.nn.functional.softmax(self.model(input_)).detach().numpy()\n",
      "/media/jacqueline/Data/TSEvo/TSEvo/Problem.py:97: UserWarning: Implicit dimension choice for softmax has been deprecated. Change the call to include dim=X as an argument.\n",
      "  output = torch.nn.functional.softmax(self.model(input_)).detach().numpy()\n"
     ]
    },
    {
     "output_type": "stream",
     "name": "stdout",
     "text": [
      "459\t   \t100  \t0.180028  \t0  \t0.154833  \t0.497555 \t0.0207513 \t0.0451967\t0.0652614\t0.109296\t0.0278012 \t0.04     \t0.0757333\t0.16    \n",
      "460\t   \t100  \t0.180013  \t0  \t0.156509  \t0.497555 \t0.0207974 \t0.0451967\t0.0649966\t0.109296\t0.0283887 \t0.04     \t0.0775333\t0.16    \n"
     ]
    },
    {
     "output_type": "stream",
     "name": "stderr",
     "text": [
      "/media/jacqueline/Data/TSEvo/TSEvo/Problem.py:97: UserWarning: Implicit dimension choice for softmax has been deprecated. Change the call to include dim=X as an argument.\n",
      "  output = torch.nn.functional.softmax(self.model(input_)).detach().numpy()\n",
      "/media/jacqueline/Data/TSEvo/TSEvo/Problem.py:97: UserWarning: Implicit dimension choice for softmax has been deprecated. Change the call to include dim=X as an argument.\n",
      "  output = torch.nn.functional.softmax(self.model(input_)).detach().numpy()\n"
     ]
    },
    {
     "output_type": "stream",
     "name": "stdout",
     "text": [
      "461\t   \t100  \t0.179956  \t0  \t0.160325  \t0.497555 \t0.0210055 \t0.0451967\t0.0648618\t0.109296\t0.0286744 \t0.04     \t0.0773333\t0.16    \n",
      "462\t   \t100  \t0.181755  \t0  \t0.164298  \t0.497555 \t0.0210736 \t0.0451967\t0.0648671\t0.109296\t0.0283975 \t0.04     \t0.0777333\t0.16    \n"
     ]
    },
    {
     "output_type": "stream",
     "name": "stderr",
     "text": [
      "/media/jacqueline/Data/TSEvo/TSEvo/Problem.py:97: UserWarning: Implicit dimension choice for softmax has been deprecated. Change the call to include dim=X as an argument.\n",
      "  output = torch.nn.functional.softmax(self.model(input_)).detach().numpy()\n",
      "/media/jacqueline/Data/TSEvo/TSEvo/Problem.py:97: UserWarning: Implicit dimension choice for softmax has been deprecated. Change the call to include dim=X as an argument.\n",
      "  output = torch.nn.functional.softmax(self.model(input_)).detach().numpy()\n"
     ]
    },
    {
     "output_type": "stream",
     "name": "stdout",
     "text": [
      "463\t   \t100  \t0.182399  \t0  \t0.162118  \t0.497555 \t0.0213196 \t0.0451967\t0.0653619\t0.109296\t0.0278129 \t0.04     \t0.0771333\t0.16    \n",
      "464\t   \t100  \t0.182101  \t0  \t0.162562  \t0.497555 \t0.0205917 \t0.0451967\t0.0644348\t0.109296\t0.0286307 \t0.04     \t0.0772   \t0.16    \n"
     ]
    },
    {
     "output_type": "stream",
     "name": "stderr",
     "text": [
      "/media/jacqueline/Data/TSEvo/TSEvo/Problem.py:97: UserWarning: Implicit dimension choice for softmax has been deprecated. Change the call to include dim=X as an argument.\n",
      "  output = torch.nn.functional.softmax(self.model(input_)).detach().numpy()\n",
      "/media/jacqueline/Data/TSEvo/TSEvo/Problem.py:97: UserWarning: Implicit dimension choice for softmax has been deprecated. Change the call to include dim=X as an argument.\n",
      "  output = torch.nn.functional.softmax(self.model(input_)).detach().numpy()\n"
     ]
    },
    {
     "output_type": "stream",
     "name": "stdout",
     "text": [
      "465\t   \t100  \t0.180295  \t0  \t0.156775  \t0.497555 \t0.020646  \t0.0451967\t0.064882 \t0.109296\t0.0282883 \t0.04     \t0.0771333\t0.16    \n",
      "466\t   \t100  \t0.181483  \t0  \t0.159094  \t0.497555 \t0.020296  \t0.0451967\t0.0644248\t0.109296\t0.028929  \t0.04     \t0.0767333\t0.16    \n"
     ]
    },
    {
     "output_type": "stream",
     "name": "stderr",
     "text": [
      "/media/jacqueline/Data/TSEvo/TSEvo/Problem.py:97: UserWarning: Implicit dimension choice for softmax has been deprecated. Change the call to include dim=X as an argument.\n",
      "  output = torch.nn.functional.softmax(self.model(input_)).detach().numpy()\n",
      "/media/jacqueline/Data/TSEvo/TSEvo/Problem.py:97: UserWarning: Implicit dimension choice for softmax has been deprecated. Change the call to include dim=X as an argument.\n",
      "  output = torch.nn.functional.softmax(self.model(input_)).detach().numpy()\n"
     ]
    },
    {
     "output_type": "stream",
     "name": "stdout",
     "text": [
      "467\t   \t100  \t0.180217  \t0  \t0.154225  \t0.497555 \t0.0203594 \t0.0451967\t0.0650548\t0.109296\t0.0292784 \t0.04     \t0.0776667\t0.16    \n",
      "468\t   \t100  \t0.180015  \t0  \t0.154488  \t0.497555 \t0.0203665 \t0.0451967\t0.0648965\t0.109296\t0.0290975 \t0.04     \t0.0767333\t0.16    \n"
     ]
    },
    {
     "output_type": "stream",
     "name": "stderr",
     "text": [
      "/media/jacqueline/Data/TSEvo/TSEvo/Problem.py:97: UserWarning: Implicit dimension choice for softmax has been deprecated. Change the call to include dim=X as an argument.\n",
      "  output = torch.nn.functional.softmax(self.model(input_)).detach().numpy()\n",
      "/media/jacqueline/Data/TSEvo/TSEvo/Problem.py:97: UserWarning: Implicit dimension choice for softmax has been deprecated. Change the call to include dim=X as an argument.\n",
      "  output = torch.nn.functional.softmax(self.model(input_)).detach().numpy()\n"
     ]
    },
    {
     "output_type": "stream",
     "name": "stdout",
     "text": [
      "469\t   \t100  \t0.180389  \t0  \t0.152203  \t0.497555 \t0.0202303 \t0.0451967\t0.0651535\t0.109296\t0.0301976 \t0.04     \t0.0778667\t0.16    \n",
      "470\t   \t100  \t0.180801  \t0  \t0.151409  \t0.497555 \t0.0203738 \t0.0451967\t0.0652913\t0.109296\t0.0309272 \t0.04     \t0.0778   \t0.16    \n"
     ]
    },
    {
     "output_type": "stream",
     "name": "stderr",
     "text": [
      "/media/jacqueline/Data/TSEvo/TSEvo/Problem.py:97: UserWarning: Implicit dimension choice for softmax has been deprecated. Change the call to include dim=X as an argument.\n",
      "  output = torch.nn.functional.softmax(self.model(input_)).detach().numpy()\n",
      "/media/jacqueline/Data/TSEvo/TSEvo/Problem.py:97: UserWarning: Implicit dimension choice for softmax has been deprecated. Change the call to include dim=X as an argument.\n",
      "  output = torch.nn.functional.softmax(self.model(input_)).detach().numpy()\n"
     ]
    },
    {
     "output_type": "stream",
     "name": "stdout",
     "text": [
      "471\t   \t100  \t0.179919  \t0  \t0.154887  \t0.497555 \t0.0202124 \t0.0451967\t0.064732 \t0.109296\t0.0294901 \t0.04     \t0.077    \t0.16    \n",
      "472\t   \t100  \t0.181483  \t0  \t0.159297  \t0.497555 \t0.0204802 \t0.0451967\t0.0646096\t0.109296\t0.0291878 \t0.04     \t0.0769333\t0.16    \n"
     ]
    },
    {
     "output_type": "stream",
     "name": "stderr",
     "text": [
      "/media/jacqueline/Data/TSEvo/TSEvo/Problem.py:97: UserWarning: Implicit dimension choice for softmax has been deprecated. Change the call to include dim=X as an argument.\n",
      "  output = torch.nn.functional.softmax(self.model(input_)).detach().numpy()\n",
      "/media/jacqueline/Data/TSEvo/TSEvo/Problem.py:97: UserWarning: Implicit dimension choice for softmax has been deprecated. Change the call to include dim=X as an argument.\n",
      "  output = torch.nn.functional.softmax(self.model(input_)).detach().numpy()\n"
     ]
    },
    {
     "output_type": "stream",
     "name": "stdout",
     "text": [
      "473\t   \t100  \t0.182212  \t0  \t0.158126  \t0.497555 \t0.0209267 \t0.0451967\t0.0654404\t0.109296\t0.030303  \t0.04     \t0.0788667\t0.16    \n",
      "474\t   \t100  \t0.18119   \t0  \t0.159726  \t0.497555 \t0.02058   \t0.0451967\t0.0647078\t0.109296\t0.0290302 \t0.04     \t0.0772667\t0.16    \n"
     ]
    },
    {
     "output_type": "stream",
     "name": "stderr",
     "text": [
      "/media/jacqueline/Data/TSEvo/TSEvo/Problem.py:97: UserWarning: Implicit dimension choice for softmax has been deprecated. Change the call to include dim=X as an argument.\n",
      "  output = torch.nn.functional.softmax(self.model(input_)).detach().numpy()\n",
      "/media/jacqueline/Data/TSEvo/TSEvo/Problem.py:97: UserWarning: Implicit dimension choice for softmax has been deprecated. Change the call to include dim=X as an argument.\n",
      "  output = torch.nn.functional.softmax(self.model(input_)).detach().numpy()\n"
     ]
    },
    {
     "output_type": "stream",
     "name": "stdout",
     "text": [
      "475\t   \t100  \t0.181536  \t0  \t0.159247  \t0.497555 \t0.0207078 \t0.0451967\t0.0649035\t0.109296\t0.0284163 \t0.04     \t0.0769333\t0.16    \n",
      "476\t   \t100  \t0.181541  \t0  \t0.159242  \t0.497555 \t0.0206988 \t0.0451967\t0.064921 \t0.109296\t0.0280872 \t0.04     \t0.0766667\t0.16    \n"
     ]
    },
    {
     "output_type": "stream",
     "name": "stderr",
     "text": [
      "/media/jacqueline/Data/TSEvo/TSEvo/Problem.py:97: UserWarning: Implicit dimension choice for softmax has been deprecated. Change the call to include dim=X as an argument.\n",
      "  output = torch.nn.functional.softmax(self.model(input_)).detach().numpy()\n",
      "/media/jacqueline/Data/TSEvo/TSEvo/Problem.py:97: UserWarning: Implicit dimension choice for softmax has been deprecated. Change the call to include dim=X as an argument.\n",
      "  output = torch.nn.functional.softmax(self.model(input_)).detach().numpy()\n"
     ]
    },
    {
     "output_type": "stream",
     "name": "stdout",
     "text": [
      "477\t   \t100  \t0.18148   \t0  \t0.159385  \t0.497555 \t0.0209351 \t0.0451967\t0.0650644\t0.109296\t0.0278481 \t0.04     \t0.0768667\t0.16    \n",
      "478\t   \t100  \t0.178106  \t0  \t0.14844   \t0.497555 \t0.0209857 \t0.0451967\t0.0659913\t0.109296\t0.0292897 \t0.04     \t0.0784   \t0.16    \n"
     ]
    },
    {
     "output_type": "stream",
     "name": "stderr",
     "text": [
      "/media/jacqueline/Data/TSEvo/TSEvo/Problem.py:97: UserWarning: Implicit dimension choice for softmax has been deprecated. Change the call to include dim=X as an argument.\n",
      "  output = torch.nn.functional.softmax(self.model(input_)).detach().numpy()\n",
      "/media/jacqueline/Data/TSEvo/TSEvo/Problem.py:97: UserWarning: Implicit dimension choice for softmax has been deprecated. Change the call to include dim=X as an argument.\n",
      "  output = torch.nn.functional.softmax(self.model(input_)).detach().numpy()\n"
     ]
    },
    {
     "output_type": "stream",
     "name": "stdout",
     "text": [
      "479\t   \t100  \t0.178672  \t0  \t0.146632  \t0.497555 \t0.0209803 \t0.0451967\t0.066288 \t0.109296\t0.0288009 \t0.04     \t0.0772   \t0.16    \n",
      "480\t   \t100  \t0.178383  \t0  \t0.148024  \t0.497555 \t0.020963  \t0.0451967\t0.0660989\t0.109296\t0.0295052 \t0.04     \t0.0776667\t0.173333\n"
     ]
    },
    {
     "output_type": "stream",
     "name": "stderr",
     "text": [
      "/media/jacqueline/Data/TSEvo/TSEvo/Problem.py:97: UserWarning: Implicit dimension choice for softmax has been deprecated. Change the call to include dim=X as an argument.\n",
      "  output = torch.nn.functional.softmax(self.model(input_)).detach().numpy()\n",
      "/media/jacqueline/Data/TSEvo/TSEvo/Problem.py:97: UserWarning: Implicit dimension choice for softmax has been deprecated. Change the call to include dim=X as an argument.\n",
      "  output = torch.nn.functional.softmax(self.model(input_)).detach().numpy()\n"
     ]
    },
    {
     "output_type": "stream",
     "name": "stdout",
     "text": [
      "481\t   \t100  \t0.177867  \t0  \t0.148932  \t0.497555 \t0.0209269 \t0.0451967\t0.0658225\t0.109296\t0.029437  \t0.04     \t0.0782   \t0.173333\n",
      "482\t   \t100  \t0.178072  \t0  \t0.150602  \t0.497555 \t0.0209636 \t0.0451967\t0.0658701\t0.109296\t0.0288213 \t0.04     \t0.078    \t0.173333\n"
     ]
    },
    {
     "output_type": "stream",
     "name": "stderr",
     "text": [
      "/media/jacqueline/Data/TSEvo/TSEvo/Problem.py:97: UserWarning: Implicit dimension choice for softmax has been deprecated. Change the call to include dim=X as an argument.\n",
      "  output = torch.nn.functional.softmax(self.model(input_)).detach().numpy()\n",
      "/media/jacqueline/Data/TSEvo/TSEvo/Problem.py:97: UserWarning: Implicit dimension choice for softmax has been deprecated. Change the call to include dim=X as an argument.\n",
      "  output = torch.nn.functional.softmax(self.model(input_)).detach().numpy()\n"
     ]
    },
    {
     "output_type": "stream",
     "name": "stdout",
     "text": [
      "483\t   \t100  \t0.177765  \t0  \t0.151071  \t0.497555 \t0.0209307 \t0.0451967\t0.0655911\t0.109296\t0.0287552 \t0.04     \t0.0777333\t0.173333\n",
      "484\t   \t100  \t0.180083  \t0  \t0.151229  \t0.497555 \t0.0212672 \t0.0451967\t0.0663289\t0.109296\t0.028373  \t0.04     \t0.0791333\t0.173333\n"
     ]
    },
    {
     "output_type": "stream",
     "name": "stderr",
     "text": [
      "/media/jacqueline/Data/TSEvo/TSEvo/Problem.py:97: UserWarning: Implicit dimension choice for softmax has been deprecated. Change the call to include dim=X as an argument.\n",
      "  output = torch.nn.functional.softmax(self.model(input_)).detach().numpy()\n",
      "/media/jacqueline/Data/TSEvo/TSEvo/Problem.py:97: UserWarning: Implicit dimension choice for softmax has been deprecated. Change the call to include dim=X as an argument.\n",
      "  output = torch.nn.functional.softmax(self.model(input_)).detach().numpy()\n"
     ]
    },
    {
     "output_type": "stream",
     "name": "stdout",
     "text": [
      "485\t   \t100  \t0.178517  \t0  \t0.149857  \t0.497555 \t0.0212078 \t0.0451967\t0.0661383\t0.109296\t0.0278309 \t0.04     \t0.0788   \t0.16    \n",
      "486\t   \t100  \t0.181291  \t0  \t0.15135   \t0.497555 \t0.0212875 \t0.0451967\t0.066244 \t0.109296\t0.0281086 \t0.04     \t0.0784667\t0.16    \n"
     ]
    },
    {
     "output_type": "stream",
     "name": "stderr",
     "text": [
      "/media/jacqueline/Data/TSEvo/TSEvo/Problem.py:97: UserWarning: Implicit dimension choice for softmax has been deprecated. Change the call to include dim=X as an argument.\n",
      "  output = torch.nn.functional.softmax(self.model(input_)).detach().numpy()\n",
      "/media/jacqueline/Data/TSEvo/TSEvo/Problem.py:97: UserWarning: Implicit dimension choice for softmax has been deprecated. Change the call to include dim=X as an argument.\n",
      "  output = torch.nn.functional.softmax(self.model(input_)).detach().numpy()\n"
     ]
    },
    {
     "output_type": "stream",
     "name": "stdout",
     "text": [
      "487\t   \t100  \t0.178714  \t0  \t0.148185  \t0.497555 \t0.0209269 \t0.0451967\t0.0659625\t0.109296\t0.0277788 \t0.04     \t0.0784   \t0.16    \n",
      "488\t   \t100  \t0.177954  \t0  \t0.149842  \t0.497555 \t0.0209448 \t0.0451967\t0.0655431\t0.109296\t0.0278268 \t0.04     \t0.0784   \t0.16    \n"
     ]
    },
    {
     "output_type": "stream",
     "name": "stderr",
     "text": [
      "/media/jacqueline/Data/TSEvo/TSEvo/Problem.py:97: UserWarning: Implicit dimension choice for softmax has been deprecated. Change the call to include dim=X as an argument.\n",
      "  output = torch.nn.functional.softmax(self.model(input_)).detach().numpy()\n",
      "/media/jacqueline/Data/TSEvo/TSEvo/Problem.py:97: UserWarning: Implicit dimension choice for softmax has been deprecated. Change the call to include dim=X as an argument.\n",
      "  output = torch.nn.functional.softmax(self.model(input_)).detach().numpy()\n"
     ]
    },
    {
     "output_type": "stream",
     "name": "stdout",
     "text": [
      "489\t   \t100  \t0.178025  \t0  \t0.149545  \t0.497555 \t0.021583  \t0.0451967\t0.0664074\t0.109296\t0.0284194 \t0.04     \t0.0782667\t0.16    \n",
      "490\t   \t100  \t0.17842   \t0  \t0.148959  \t0.497555 \t0.0217125 \t0.0451967\t0.0667835\t0.109296\t0.0286697 \t0.04     \t0.0787333\t0.16    \n"
     ]
    },
    {
     "output_type": "stream",
     "name": "stderr",
     "text": [
      "/media/jacqueline/Data/TSEvo/TSEvo/Problem.py:97: UserWarning: Implicit dimension choice for softmax has been deprecated. Change the call to include dim=X as an argument.\n",
      "  output = torch.nn.functional.softmax(self.model(input_)).detach().numpy()\n",
      "/media/jacqueline/Data/TSEvo/TSEvo/Problem.py:97: UserWarning: Implicit dimension choice for softmax has been deprecated. Change the call to include dim=X as an argument.\n",
      "  output = torch.nn.functional.softmax(self.model(input_)).detach().numpy()\n"
     ]
    },
    {
     "output_type": "stream",
     "name": "stdout",
     "text": [
      "491\t   \t100  \t0.179315  \t0  \t0.146943  \t0.497555 \t0.0211749 \t0.0451967\t0.0666453\t0.109296\t0.0277297 \t0.04     \t0.0788667\t0.16    \n",
      "492\t   \t100  \t0.179803  \t0  \t0.145596  \t0.497555 \t0.0207832 \t0.0451967\t0.066473 \t0.109296\t0.027952  \t0.04     \t0.0798667\t0.16    \n"
     ]
    },
    {
     "output_type": "stream",
     "name": "stderr",
     "text": [
      "/media/jacqueline/Data/TSEvo/TSEvo/Problem.py:97: UserWarning: Implicit dimension choice for softmax has been deprecated. Change the call to include dim=X as an argument.\n",
      "  output = torch.nn.functional.softmax(self.model(input_)).detach().numpy()\n",
      "/media/jacqueline/Data/TSEvo/TSEvo/Problem.py:97: UserWarning: Implicit dimension choice for softmax has been deprecated. Change the call to include dim=X as an argument.\n",
      "  output = torch.nn.functional.softmax(self.model(input_)).detach().numpy()\n"
     ]
    },
    {
     "output_type": "stream",
     "name": "stdout",
     "text": [
      "493\t   \t100  \t0.177956  \t0  \t0.14124   \t0.497555 \t0.0208948 \t0.0451967\t0.0669096\t0.109296\t0.0289995 \t0.04     \t0.0806   \t0.16    \n",
      "494\t   \t100  \t0.177973  \t0  \t0.141299  \t0.497555 \t0.0209153 \t0.0451967\t0.0669201\t0.109296\t0.029026  \t0.04     \t0.0804   \t0.16    \n"
     ]
    },
    {
     "output_type": "stream",
     "name": "stderr",
     "text": [
      "/media/jacqueline/Data/TSEvo/TSEvo/Problem.py:97: UserWarning: Implicit dimension choice for softmax has been deprecated. Change the call to include dim=X as an argument.\n",
      "  output = torch.nn.functional.softmax(self.model(input_)).detach().numpy()\n",
      "/media/jacqueline/Data/TSEvo/TSEvo/Problem.py:97: UserWarning: Implicit dimension choice for softmax has been deprecated. Change the call to include dim=X as an argument.\n",
      "  output = torch.nn.functional.softmax(self.model(input_)).detach().numpy()\n"
     ]
    },
    {
     "output_type": "stream",
     "name": "stdout",
     "text": [
      "495\t   \t100  \t0.177205  \t0  \t0.142786  \t0.497555 \t0.0205651 \t0.0451967\t0.0663202\t0.109296\t0.0295071 \t0.04     \t0.0806667\t0.16    \n",
      "496\t   \t100  \t0.177356  \t0  \t0.148946  \t0.497555 \t0.020906  \t0.0451967\t0.0659622\t0.109296\t0.0297139 \t0.04     \t0.0792   \t0.16    \n"
     ]
    },
    {
     "output_type": "stream",
     "name": "stderr",
     "text": [
      "/media/jacqueline/Data/TSEvo/TSEvo/Problem.py:97: UserWarning: Implicit dimension choice for softmax has been deprecated. Change the call to include dim=X as an argument.\n",
      "  output = torch.nn.functional.softmax(self.model(input_)).detach().numpy()\n",
      "/media/jacqueline/Data/TSEvo/TSEvo/Problem.py:97: UserWarning: Implicit dimension choice for softmax has been deprecated. Change the call to include dim=X as an argument.\n",
      "  output = torch.nn.functional.softmax(self.model(input_)).detach().numpy()\n"
     ]
    },
    {
     "output_type": "stream",
     "name": "stdout",
     "text": [
      "497\t   \t100  \t0.179757  \t0  \t0.150159  \t0.497555 \t0.0206623 \t0.0451967\t0.0659007\t0.109296\t0.030095  \t0.04     \t0.0797333\t0.16    \n",
      "498\t   \t100  \t0.177712  \t0  \t0.150035  \t0.497555 \t0.020498  \t0.0451967\t0.0654671\t0.109296\t0.0297261 \t0.04     \t0.0794   \t0.16    \n",
      "499\t   \t100  \t0.17749   \t0  \t0.150312  \t0.497555 \t0.0198866 \t0.0451967\t0.0645818\t0.109296\t0.029753  \t0.04     \t0.0792667\t0.16    \n"
     ]
    },
    {
     "output_type": "stream",
     "name": "stderr",
     "text": [
      "/media/jacqueline/Data/TSEvo/TSEvo/Problem.py:97: UserWarning: Implicit dimension choice for softmax has been deprecated. Change the call to include dim=X as an argument.\n",
      "  output = torch.nn.functional.softmax(self.model(input_)).detach().numpy()\n"
     ]
    }
   ],
   "metadata": {}
  },
  {
   "cell_type": "code",
   "execution_count": 7,
   "source": [
    "pop_ = [ind[0][0] for ind in pop]\n",
    "print(np.array(pop).shape)"
   ],
   "outputs": [
    {
     "output_type": "stream",
     "name": "stdout",
     "text": [
      "(1, 1, 150)\n"
     ]
    }
   ],
   "metadata": {}
  },
  {
   "cell_type": "code",
   "execution_count": 8,
   "source": [
    "from evaluation.Plots import plot_CF, plot_CF_Original, plot_CF_Original_Closest\n",
    "plot_CF(pop)"
   ],
   "outputs": [
    {
     "output_type": "display_data",
     "data": {
      "image/png": "[encoded data removed]",
      "text/plain": [
       "<Figure size 720x360 with 1 Axes>"
      ]
     },
     "metadata": {}
    }
   ],
   "metadata": {}
  },
  {
   "cell_type": "code",
   "execution_count": 10,
   "source": [
    "# extract statistics:\n",
    "meanYDistance = logbook.chapters['stats_y_distance'].select(\"min\")\n",
    "#logbook.chapters['stats_y_distance','stats_x_distance','stats_changed_features','stats_gower'].select(\"avg\")\n",
    "meanXDistance = logbook.chapters['stats_x_distance'].select(\"min\")\n",
    "meanChanged = logbook.chapters['stats_changed_features'].select(\"min\")"
   ],
   "outputs": [],
   "metadata": {}
  },
  {
   "cell_type": "code",
   "execution_count": 11,
   "source": [
    "# plot statistics:\n",
    "sns.set_style(\"whitegrid\")\n",
    "plt.plot(meanYDistance, color='red', label='Prediction distance')\n",
    "plt.plot(meanXDistance, color='green', label='Features distance')\n",
    "plt.plot(meanChanged, color='blue', label='Features changed')\n",
    "plt.plot(meanGower, color='black', label='Gower distance')\n",
    "plt.xlabel('Generation')\n",
    "plt.ylabel('Average Values')\n",
    "plt.title('Average Objectives Values over Generations')\n",
    "plt.set_loglevel\n",
    "plt.legend()\n",
    "plt.show() "
   ],
   "outputs": [
    {
     "output_type": "display_data",
     "data": {
      "image/png": "[encoded data removed]",
      "text/plain": [
       "<Figure size 720x360 with 1 Axes>"
      ]
     },
     "metadata": {}
    }
   ],
   "metadata": {}
  },
  {
   "cell_type": "code",
   "execution_count": 14,
   "source": [
    "observation_x= observation_01\n",
    "observation_y=label_01\n",
    "plot_CF_Original(np.array(pop[0]), observation_x,observation_y)"
   ],
   "outputs": [
    {
     "output_type": "stream",
     "name": "stdout",
     "text": [
      "(1, 150)\n",
      "(1, 150)\n",
      "[-1.1250133  -1.1313383  -1.1382884  -1.1466873  -1.1386387  -1.1414312\n",
      " -1.1436908  -1.1443789  -1.1549123  -1.1464212  -1.1497246  -1.1457227\n",
      " -1.1419403  -1.1384288  -1.1385201  -1.1329855  -1.1206946  -1.1185964\n",
      " -1.1005789  -1.0618869  -0.98877018 -0.89804927 -0.79586606 -0.73432104\n",
      " -0.69687043 -0.66992052 -0.66910759 -0.68194036 -0.68481332 -0.69305372\n",
      "  0.90212727  0.96081657  0.99984881  0.99711268  1.0011424   1.3497851\n",
      "  1.345473    1.335096    1.3353374   1.3387308   0.28436347  0.45409849\n",
      "  0.57409933  0.70714616  0.8182297   0.92508286  0.97561574  1.0226481\n",
      "  1.0969569   1.1102969   1.1479976   1.1575769   1.1498129   1.1594703\n",
      "  1.1517029   1.157521    1.1494632   1.153298    1.1473326   1.1530236\n",
      "  1.1671015   1.1542641   1.1576391   1.1720068   1.1678774   1.1783764\n",
      "  1.1837646   1.1829012   1.1717443   1.192459    1.1921674   1.184896\n",
      "  1.1869894   1.1746437   1.183216    1.1736466   1.1736466   1.1868374\n",
      "  1.1821363   1.1953776   1.174863    1.1868828   1.1903198   1.1972967\n",
      "  1.1923345   1.1861478   1.1880317   1.1980275   1.1962883   1.2023324\n",
      "  1.2045293   1.2105541   1.2157149   1.1977132   1.2056998   1.2018269\n",
      "  1.1955286   1.1657941   1.1372786   1.0732081   1.0091347   0.90823418\n",
      "  0.76783628  0.6441012   0.47294462  0.33945871  0.21282352  0.04918492\n",
      " -0.08244563 -0.23102696 -0.36688525 -0.46411723 -0.53038644 -0.58961037\n",
      " -0.64786259 -0.76466427 -0.761074   -0.76086046 -0.76240353 -0.76259475\n",
      " -0.76566355 -0.78548973 -0.78369332 -0.78891984 -0.7912633  -0.80189452\n",
      " -0.80549812 -0.81488686 -0.81588593 -0.81869269 -0.8351325  -0.84464\n",
      " -0.85432051 -0.87302316 -0.8855066  -0.92003031 -0.94820075 -0.99664182\n",
      " -1.0539031  -1.1369571  -1.2055721  -1.281235   -1.3234204  -1.3457996\n",
      " -1.3445471  -1.301098   -1.2659029  -1.2127167  -1.2061778  -1.2184217 ]\n",
      "[-1.1250133  -1.1313383  -1.1382884  -1.1466873  -1.1386387  -1.1414312\n",
      " -1.1436908  -1.1443789  -1.1549123  -1.1464212  -1.1497246  -1.1457227\n",
      " -1.1419403  -1.1384288  -1.1385201  -1.1329855  -1.1206946  -1.1185964\n",
      " -1.1005789  -1.0618869  -0.98877018 -0.89804927 -0.79586606 -0.73432104\n",
      " -0.69687043 -0.66992052 -0.66910759 -0.68194036 -0.68481332 -0.69305372\n",
      " -0.68082429 -0.66386028 -0.63402064 -0.5958185  -0.58019191 -0.52662465\n",
      " -0.43224316 -0.27027162 -0.10318644  0.07854224  0.28436347  0.45409849\n",
      "  0.57409933  0.70714616  0.8182297   0.92508286  0.97561574  1.0226481\n",
      "  1.0969569   1.1102969   1.1479976   1.1575769   1.1498129   1.1594703\n",
      "  1.1517029   1.157521    1.1494632   1.153298    1.1473326   1.1530236\n",
      "  1.1671015   1.1542641   1.1576391   1.1720068   1.1678774   1.1783764\n",
      "  1.1837646   1.1829012   1.1717443   1.192459    1.1921674   1.184896\n",
      "  1.1869894   1.1746437   1.183216    1.1736466   1.1736466   1.1868374\n",
      "  1.1821363   1.1953776   1.174863    1.1868828   1.1903198   1.1972967\n",
      "  1.1923345   1.1861478   1.1880317   1.1980275   1.1962883   1.2023324\n",
      "  1.2045293   1.2105541   1.2157149   1.1977132   1.2056998   1.2018269\n",
      "  1.1955286   1.1657941   1.1372786   1.0732081   1.0091347   0.90823418\n",
      "  0.76783628  0.6441012   0.47294462  0.33945871  0.21282352  0.04918492\n",
      " -0.08244563 -0.23102696 -0.36688525 -0.46411723 -0.53038644 -0.58961037\n",
      " -0.64786259 -0.68991214 -0.72026363 -0.73899658 -0.7511908  -0.76259475\n",
      " -0.76566355 -0.78548973 -0.78369332 -0.78891984 -0.7912633  -0.80189452\n",
      " -0.80549812 -0.81488686 -0.81588593 -0.81869269 -0.8351325  -0.84464\n",
      " -0.85432051 -0.87302316 -0.8855066  -0.92003031 -0.94820075 -0.99664182\n",
      " -1.0539031  -1.1369571  -1.2055721  -1.281235   -1.3234204  -1.3457996\n",
      " -1.3445471  -1.301098   -1.2659029  -1.2127167  -1.2061778  -1.2184217 ]\n"
     ]
    },
    {
     "output_type": "display_data",
     "data": {
      "image/png": "[encoded data removed]",
      "text/plain": [
       "<Figure size 1080x432 with 4 Axes>"
      ]
     },
     "metadata": {}
    }
   ],
   "metadata": {}
  },
  {
   "cell_type": "code",
   "execution_count": 15,
   "source": [
    "data= test_x[test_y != 0]\n",
    "t=test_y[test_y != 0]\n",
    "timeline_max=[]\n",
    "mi_max=5\n",
    "i= 0\n",
    "i_max=0\n",
    "for timeline in data: \n",
    "    mi = np.sum(np.abs(timeline.reshape(-1)- observation_x.reshape(-1) ))/150\n",
    "    if mi <mi_max: \n",
    "        mi_max=mi\n",
    "        timeline_max= timeline\n",
    "        i_max=i\n",
    "    i = i+1\n",
    "plot_CF_Original_Closest(pop,observation_x, observation_y,timeline_max,t[i_max])"
   ],
   "outputs": [
    {
     "output_type": "display_data",
     "data": {
      "image/png": "[encoded data removed]",
      "text/plain": [
       "<Figure size 1080x432 with 6 Axes>"
      ]
     },
     "metadata": {}
    }
   ],
   "metadata": {}
  },
  {
   "cell_type": "code",
   "execution_count": 16,
   "source": [
    "# Number Changes \n",
    "sal_01= np.count_nonzero(np.abs(observation_x.reshape(-1)-np.array(pop)[0][0].reshape(-1)).reshape(1,-1))\n",
    "print('# Changes compared to Original', sal_01)\n",
    "sal_02= np.count_nonzero(np.abs(timeline_max.reshape(-1)-np.array(pop)[0][0].reshape(-1)).reshape(1,-1))\n",
    "print('# Changes compared to Closest', sal_02)\n",
    "\n"
   ],
   "outputs": [
    {
     "output_type": "stream",
     "name": "stdout",
     "text": [
      "# Changes compared to Original 14\n",
      "# Changes compared to Closest 150\n"
     ]
    }
   ],
   "metadata": {}
  },
  {
   "cell_type": "code",
   "execution_count": 17,
   "source": [
    "from evaluation.metrics import redundancy, yNN"
   ],
   "outputs": [],
   "metadata": {}
  },
  {
   "cell_type": "code",
   "execution_count": 18,
   "source": [
    "#TODO Check this out Currently max values everywhere\n",
    "mlmodel = model \n",
    "counterfactuals = pop\n",
    "original = observation_01 \n",
    "print('YNN',yNN(counterfactuals, mlmodel,train_x,5))\n",
    "print('Redundnacy',redundancy(original, counterfactuals, mlmodel))\n"
   ],
   "outputs": [
    {
     "output_type": "stream",
     "name": "stdout",
     "text": [
      "YNN [[0.8]]\n",
      "Redundnacy [14]\n"
     ]
    },
    {
     "output_type": "stream",
     "name": "stderr",
     "text": [
      "/media/jacqueline/Data/TSEvo/evaluation/metrics.py:126: UserWarning: Implicit dimension choice for softmax has been deprecated. Change the call to include dim=X as an argument.\n",
      "  output = torch.nn.functional.softmax(mlmodel(input_)).detach().numpy()\n",
      "/media/jacqueline/Data/TSEvo/evaluation/metrics.py:212: UserWarning: Implicit dimension choice for softmax has been deprecated. Change the call to include dim=X as an argument.\n",
      "  output = torch.nn.functional.softmax(mlmodel(input_)).detach().numpy()\n"
     ]
    }
   ],
   "metadata": {}
  }
 ],
 "metadata": {
  "interpreter": {
   "hash": "d903605ac879a75cbccc7b5fb6638483e8f4454f7a34afbad1c3644adfbcfe9d"
  },
  "kernelspec": {
   "name": "python3",
   "display_name": "Python 3.6.9 64-bit ('TSEvo-ydCVe3on': pipenv)"
  },
  "language_info": {
   "codemirror_mode": {
    "name": "ipython",
    "version": 3
   },
   "file_extension": ".py",
   "mimetype": "text/x-python",
   "name": "python",
   "nbconvert_exporter": "python",
   "pygments_lexer": "ipython3",
   "version": "3.6.9"
  }
 },
 "nbformat": 4,
 "nbformat_minor": 5
}